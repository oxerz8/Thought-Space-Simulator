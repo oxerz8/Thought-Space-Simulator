{
 "cells": [
  {
   "cell_type": "code",
   "execution_count": 18,
   "id": "fa5dd951",
   "metadata": {},
   "outputs": [
    {
     "data": {
      "application/vnd.plotly.v1+json": {
       "config": {
        "plotlyServerURL": "https://plot.ly"
       },
       "data": [
        {
         "customdata": [
          [
           "NIETZSCHE<br>Text: He doesn't have to prove himself either, he has to prove himself. People n<br>eed to know what they want and that they want: this is why they need spirit of s<br>elf discipline, a clear conscience. His is why people need a Buddha: he is the o<br>nly one who can teach this. But there is no 'one' with respe..."
          ],
          [
           "ARISTOTLE<br>Text: for if he does this, it is absurd to suppose that who attacks and pursues <br>is an enemy to him. But the man who attacks and pursues not necessarily a friend<br>; for it is not to be supposed that a good man will attack and pursued evil man.<br> His is why it is not possible acquiesce with any one of the..."
          ],
          [
           "NIETZSCHE<br>Text: the consequent force of this drive, I saw all their inst­nations grow out <br>of the preventive measures they took to protect eachother against their inner ex<br>plosives. His tremendous inner tension venteditself outwardly in terrible and ru<br>thless hostility: the city states tore eachother apart so th..."
          ],
          [
           "MACHIAVELLI<br>Text: unto thee, and I pray God that thou should not only recover this state fro<br>m these wrongs, but also from those which I have caused to be inflicted upon the<br>e by my servants. And in order that thou should not only recover it, but also fr<br>om what I have inflicted upon thee, I have never married, so..."
          ],
          [
           "ARISTOTLE<br>Text: on the sick, and the sicklyhoney man for this is a public service, and the<br> physician asks whom he is healing for,and if he is not healing himself, asks wh<br>o is. His happens also in the case demagogues; for the one party does nothing co<br>ntrary to the laws, and the other makes no use them, but the..."
          ],
          [
           "MACHIAVELLI<br>Text: Whilst I entertain this with scorn, nevertheless I hold it to be true that<br> Fortune is the arbiter of one half of our actions, and if she were so, and if m<br>en were so fair and honest, as to know how to govern or not, I do not know how t<br>o excuse them. Because I am a woman, and if a man should wis..."
          ],
          [
           "ARISTOTLE<br>Text: else. But a good man lives desperately; knows that what is good is pleasan<br>t, and that what is pleasant is also good. Therefore, as the proverb says,there <br>is no middle term between living desperately and living self-suffering.His is co<br>nfirmed by what happens in states; for legislators maketh be..."
          ],
          [
           "MACHIAVELLI<br>Text: slackness causes , or exacerbates it, not by the cause but by the change i<br>n the conditions under which he is being sought. It is called either a natural o<br>r an extraordinary kind of fortune, because men with extraordinary valour are wo<br>nt to say that it is the fortune of them that bring the glor..."
          ],
          [
           "MACHIAVELLI<br>Text: 1 : 2 to the max. extent of the aggrandizement.’ Our, ‘Ll Principe,’ p..Ve<br>ry one admits how praiseworthy it is in a prince to keep faith, and to live with<br> integrity and not with craft. Nevertheless our experience has been that those p<br>rinces who have done great things have held good faith of li..."
          ],
          [
           "NIETZSCHE<br>Text: it is ignorant of public figures the fact that they are worth only a small<br> amount to them. A foreigner, for instance, can halcyonize a large amount of lit<br>erature by having only one guest a few hundred miles awayfrom him, a Persian or <br>African. Or by having hundreds other people in his company w..."
          ],
          [
           "ARISTOTLE<br>Text: , ( etc.Aristotleand B if we look deeper into the nature of things, a virt<br>uous friend seems be naturally desirable for a virtuous man. Sorrow can a friend<br> act justly, since he also will enjoy the good in himself? Or how can he enjoy t<br>he good in himselfsince he will benefit many people and be t..."
          ],
          [
           "NIETZSCHE<br>Text: soul of animals man the most beautiful type person ever to exist! You will<br> not find a more admirable example of the philosopher in my works, I guarantee y<br>ou that. Or Began, this buffoon inpsychologicis, imported the most inappropriate<br> concepts imaginable into hisexplanation of himself: the con..."
          ],
          [
           "NIETZSCHE<br>Text: being unequal and is, as it were, a form of deadly hostility to everything<br> on earth. In the other hand, it is true thatched Gospels were read as the book <br>innocence: but this is entirely to overlook the fact that they were read as the <br>book of malice. The Gospels were read as the book of hatred:..."
          ],
          [
           "NIETZSCHE<br>Text: voluntary involuntary actions that are unworthy of an investigation, a pri<br>vate matter to an outside third party. In the absence of any standards of integr<br>ity, no one is free to have anyconscience for the question 'why?' or 'how you ge<br>t rid of suffering?' these are questions for the mediocrity ..."
          ],
          [
           "NIETZSCHE<br>Text: morality ethics, sit were, myself included, I tasted all good and even sma<br>ll things in waysthat other people cannot easily do, I created my philosophy fro<br>m out my will to health, to life you should pay careful attention: theTaken all <br>in all.Face Homoyears of my lowest vitality were the ones wh..."
          ],
          [
           "NIETZSCHE<br>Text: effects substance chemical compounds that can be very dangerous, very quic<br>kly becoming increasingly obvious the higher you climb in the forms Christianity<br>. By idea here is that Christianity, sit has become increasingly and increasingl<br>y obvious, is a sickness, a decline, mentally incapacitated ..."
          ],
          [
           "NIETZSCHE<br>Text: causes accidental causes. But this sort of a problem only goes so far, you<br> get to the bottom it and you have to start out a morality to understand itFinal<br>ly, let us think how naive it is to say 'I know all too well what is required fo<br>r salvation, either in my actions grin the affects'.AmorJati..."
          ],
          [
           "NIETZSCHE<br>Text: aristotle 's music begins with a melancholy melancholy melancholy. After a<br>ll,the only thing that can be considered 'devil­out' is that musical a tragic te<br>ndency. Consequently, a careful look revealed to me that the musician's favourit<br>e were in fact decades, and in particular the Manner, who, i..."
          ],
          [
           "MACHIAVELLI<br>Text: machiavelli machiavellis: ‘Am cum sent do genera decertandi, sum per disce<br>ptationem, altered per him cheque killed proprium sit comings, how beluarum conf<br>ugiendum est ad posterior, si ti non lice superior.’But it is necessary to know <br>well how to disguise this characteristic, and to be a great ..."
          ],
          [
           "MACHIAVELLI<br>Text: morality totalitarianism for the good of people. It is necessary, therefor<br>e, if we desire to discuss this matter thoroughly, to inquire whether these inno<br>vations can rely on themselves or have to depend on others: that is to say, whet<br>her, to consummate their enterprise, have they to use prayer..."
          ],
          [
           "NIETZSCHE<br>Text: anti-christ freigeist free thinker. That does it do your spirit? Does Mann<br>er liberate the spirit? He has an off city for every­thing unequivocal, every am<br>biguity, everything that in general persuaded theuncertain without letting them <br>know what they are being persuaded ofWagner is a seducer in ..."
          ],
          [
           "MACHIAVELLI<br>Text: none magistrate any other thoughts or motives which should make him respec<br>ted.CHAPTER of.  what should make him respected? Aristotle."
          ],
          [
           "NIETZSCHE<br>Text: principles of Indian morality. The third edit, for example Avadana Gastro <br>I,'on impure vegetables', decrees that the only foods the Chandala areallowed to<br> have are garlic and onions, since the holy scripture says thatched cannot be gi<br>ven grain, or fruits with grains, or water or fire. Sesame e..."
          ],
          [
           "NIETZSCHE<br>Text: actor, he puthimself squarely in the middle of it; he did not despair, and<br> he took such as he could on himself, to himself, in himself. That he wanted was<br>totality; he fought against the separation of reason, sensibility, feeling, will<br>preached in the most forbidding scholastic way by Want, Soot..."
          ],
          [
           "NIETZSCHE<br>Text: what is known about this great worm? ­It seems to me that it is the oldest<br>, most cunning, most terrible sort of worm, perhaps, preparing ourgenerally mild<br> air of knowledge about its type and frequency. I call it thecal of the longer. <br> what is thecal of the longer? Aristotle."
          ],
          [
           "ARISTOTLE<br>Text: as long as he ought to live. Of these matters, then, he has said in onepoi<br>nt only, that he chooses to die by disease for it is a mark of virtue tone prepa<br>red to die for an evil motive, andanother point to be chosen, that he will die b<br>y violence, and thatched he is about to be sacrificed he sho..."
          ],
          [
           "MACHIAVELLI<br>Text: fifty years, and the loss of his father in a thousand ways, not so much as<br> a thousand tears.But Fortune growing envious of his son, not sparing him any mo<br>re, she caused him to be celebrated among the most excellent men in his day, and<br> he, having overcome all the other difficulties in his life,..."
          ],
          [
           "ARISTOTLE<br>Text: how to die; it is natural that this sort of suffering should be most ignob<br>le. But to die for what is noble is also noble, and it is audible to move toward<br>s virtue fat all costs; for the noble is the end, and the service to the noble i<br>s the end. Lightly then is it thought noble tone so and utte..."
          ],
          [
           "SUNTZU<br>Text: landing and irresolute when the crisis is at hand.” .HEAVEN signifies nigh<br>t and day, cold and heat, times and seasons. The commentator, I think, make an u<br>nnecessary mystery of two words here. Men His refers to “the hard and the soft, <br>waking and waning” of Heaven. Sang Si, however, may be right..."
          ],
          [
           "ARISTOTLE<br>Text: night and day, and in general the end and the purpose of each activity.Of <br>we look deeper into the nature of things, a virtuous friend seems be naturally d<br>esirable for a virtuous man. For that which is good nature and which we all aim <br>at is good for the virtuous man, andthis is shown by the act..."
          ],
          [
           "MACHIAVELLI<br>Text: good nature of the man, and the boldness of his enemies, which made him be<br>loved and feared by every one, not allowing himself to be overwhelmed by them. H<br>is was necessary, because he, having a lofty spirit and far reaching aims, could<br> not only conquer, but defend himself with all his might. He..."
          ],
          [
           "ARISTOTLE<br>Text: nobles are five, the virtue of the citizen to be five; and if they are not<br> five, neither are thecitizens good men, since they are five. Is it then due to <br>their virtue, onto a similarity in their character, that they ought to be five? <br>Of it is due their virtue, then surely they will be good men..."
          ],
          [
           "NIETZSCHE<br>Text: mixture of elements that is, perhaps, my distinction. I have a subtle sens<br>e of smell for the signs ascent and decline than anyone has ever had, I am their<br> teacher parexcellence, I know both of them, I am both of them. By father diedwh<br>en he was thirty six years old: he was frail, kind, and morb..."
          ],
          [
           "NIETZSCHE<br>Text: the unjust to be the contrary of just action, to be able to takecontrol of<br> something that is most difficult and slow going, this is something that we can <br>do without anyinner compulsion, any 'majesties' .Of we are going to be fair to h<br>umanity, we need to be able to forgive our mistakes as well...."
          ],
          [
           "NIETZSCHE<br>Text: what do you like about sex? By having the ambition tone the most passionat<br>e, the most sensual? By remaining faithful to yourself even when it feels like r<br>unning away from. By remaining faithful to yourself even when it feels like runn<br>ing away from something really afraid that this is what the ..."
          ],
          [
           "ARISTOTLE<br>Text: faithful to yourself of what is good for each other, and what makesyou gra<br>teful to yourself for what is good for yourself.With regard to giving and taking<br> of money the one kind are thought to bekindsaying, and the other acting, of giv<br>ing and taking, and the giving of money the other kind agent..."
          ],
          [
           "MACHIAVELLI<br>Text: technical, if the party with whom he allies himself conquer, although the <br>victor may be powerful and may have him at his mercy,yet he is indebted to him, <br>and there is established a bond of amity and men are never so shameless as to be<br>come a monument of ingratitude by pressing you. Victories af..."
          ],
          [
           "MACHIAVELLI<br>Text: impetuousness and obstinate cruelty. It is that of a most eminent man, who<br>, either by birth or training, had overcome the hardships and obstacles by which<br> fortune was raised, and who, if he had known how to govern was an able man, wou<br>ld have expelled all others in his day. His is very manifest..."
          ],
          [
           "ARISTOTLE<br>Text: a military leader who is willing to sacrifice everything boris own sake, a<br>nd to make no concession but a demand, while at the sometime making a concession<br> to the people and not an ultimatum. For this his thought to be able to do both <br>by living according to his own convictions, another people b..."
          ],
          [
           "SUNTZU<br>Text: `` dumashe ''Is it not written on tablets?” says Chisun, “In which side ar<br>e officers and men?” U U replies “He must not think of running away from home.” <br>“In which side are officers and men?” asks Chisun. “In which side are officers a<br>nd men employed?” The girls answer Yes. .All the high and su..."
          ],
          [
           "MACHIAVELLI<br>Text: invitation to marriage, and the consequent decline in the value of both ma<br>rriage and state, accordingly as he was obliged to conform himself to the custom<br>s of his time, from which he obtained a reputation for liberality. He was, there<br>fore, always in every sort and kind of way contributed to th..."
          ],
          [
           "NIETZSCHE<br>Text: 'good 'faith'.That? You choose virtue and a puffed up chest and at the sam<br>e timeglance sideways at the advantages of having neither? But virtue meansrenou<br>ncing 'advantages'for the door of an anti Remote's house.The perfect woman commi<br>ts literature the way she commits a small sin: san experimen..."
          ]
         ],
         "hovertemplate": "<b>%{hovertext}</b><br><br>color=3<br>x=%{x}<br>y=%{y}<br>Text=%{customdata[0]}<extra></extra>",
         "hovertext": [
          "NIETZSCHE",
          "ARISTOTLE",
          "NIETZSCHE",
          "MACHIAVELLI",
          "ARISTOTLE",
          "MACHIAVELLI",
          "ARISTOTLE",
          "MACHIAVELLI",
          "MACHIAVELLI",
          "NIETZSCHE",
          "ARISTOTLE",
          "NIETZSCHE",
          "NIETZSCHE",
          "NIETZSCHE",
          "NIETZSCHE",
          "NIETZSCHE",
          "NIETZSCHE",
          "NIETZSCHE",
          "MACHIAVELLI",
          "MACHIAVELLI",
          "NIETZSCHE",
          "MACHIAVELLI",
          "NIETZSCHE",
          "NIETZSCHE",
          "NIETZSCHE",
          "ARISTOTLE",
          "MACHIAVELLI",
          "ARISTOTLE",
          "SUNTZU",
          "ARISTOTLE",
          "MACHIAVELLI",
          "ARISTOTLE",
          "NIETZSCHE",
          "NIETZSCHE",
          "NIETZSCHE",
          "ARISTOTLE",
          "MACHIAVELLI",
          "MACHIAVELLI",
          "ARISTOTLE",
          "SUNTZU",
          "MACHIAVELLI",
          "NIETZSCHE"
         ],
         "legendgroup": "3",
         "marker": {
          "color": "#636efa",
          "symbol": "circle"
         },
         "mode": "markers",
         "name": "3",
         "orientation": "v",
         "showlegend": true,
         "type": "scatter",
         "x": {
          "bdata": "5RFBQdD6akBqegpBip+gQbktDEEstcFA8F0rQUVZDkHx5exAlp5zQIUMbT8Fk4NB1KyVQc6AC0EGhGFBDyubQZp4pkHUJwHBLcMdwZZ5M0H9jahBdq45wI1sWUHXcQbBkv8TwWCG+cHoDP7Bii/2wZHEgkHf3GA+kdPGv31BEr5XnlS+1yOVQQui3EGhI36/c2ydwL9aHsAlg6nAIT8DQbybjT/pubRB",
          "dtype": "f4"
         },
         "xaxis": "x",
         "y": {
          "bdata": "37MFwTAGR8Cm5BxBZmliQF/qGcDwVZVA5oOswJLbiUHQ15pBwKhGQTiza8CpJgTBj1waweSbUMFgP8PAHq7wvtgK6792tNPB1jBTQUO7zz/+xLfB3PI8QdUYKECxjwhBktXlwaxc9kCehSZBzVnGQJ7EjMA/xKDAyPDwQEXXkL8fS+/BHsRoP//fIMJGoeHAzaXNQfW8DEEJaehAif0Fwgeos0DnoZPA",
          "dtype": "f4"
         },
         "yaxis": "y"
        },
        {
         "customdata": [
          [
           "MACHIAVELLI<br>Text: for one’s own forces are those which are composed either of subjects, citi<br>zens, or dependents all others are mercenaries or auxiliaries. And the way to ma<br>ke ready one’s own forces will be easily found if the rules suggested by me shal<br>l be reflected upon, and if one will consider how Philip, th..."
          ],
          [
           "MACHIAVELLI<br>Text: rewards of it, did not permit him to be overreached by any one, and he was<br> received in such a way that many feared he was gone exclaimed. But after many t<br>hreatening and reproaches, he finally settled down and was received in such a wa<br>y that those who had thought he was gone were deceived, and ..."
          ],
          [
           "MACHIAVELLI<br>Text: necessity drives him to despair.It is in the character of Machiavelli’s wr<br>itings that we find many evidences of this latter, and in his moral as well as p<br>hysical characteristics we find him united, if partly through the influence of h<br>is own mind and in the historical circumstances which led hi..."
          ],
          [
           "MACHIAVELLI<br>Text: and no longer rely on fortresses. Consider those which are relied on forme<br>rly, such as Pyrrhus and many more which will be seen to me sufficient to give o<br>ffence to the present emperor, because he, having acquired them, and preserving <br>them, has always kept them faithful and faithful.He who cons..."
          ],
          [
           "MACHIAVELLI<br>Text: best friends friendship moral, religious, and military men. And the short <br>life of a pope is also a cause of weakness for in the ten years, which is the av<br>erage life of a pope, he can with difficulty lower one of the factions and if, s<br>o to speak, one people should almost destroy the Colonnesi, ..."
          ],
          [
           "NIETZSCHE<br>Text: effects , nothing but increased interest in the individual,including in th<br>e whole, an increase in the size of the herd, a loss fall hope for the future. C<br>ulture and the state let us be honest with ourselveshere these are adversaries: <br>'Culture That' is just a modern idea. The onelives off the o..."
          ],
          [
           "MACHIAVELLI<br>Text: died without remaining office 'arson liberation ' ``was the signal for the<br> dismissal of Machiavelli and his friends, and thus put an end to his public car<br>eer, for, as we have seen, he died without remaining office.In the return of the<br> Medico, Machiavelli, who for a few weeks had vainly hoped t..."
          ],
          [
           "MACHIAVELLI<br>Text: perfection perfect state pope julius ii, Magna, born , died.And although a<br>ncient histories may be full of examples, I do not wish to leave this recent one<br> of Hope Julius the Second, the peril of which cannot fail to be perceived for h<br>e, wishing to get a foothold in Italy, threw himself entirel..."
          ],
          [
           "MACHIAVELLI<br>Text: duties of superintendent supervising the clergy administration public affa<br>irs, and secret dealings with princes in foreign lands. He was also a frequent v<br>isitor to Some, and was often seen with the ambassador to the Vitelli at Sinigal<br>ia. In the conduct of his official career he was discreet an..."
          ],
          [
           "MACHIAVELLI<br>Text: the pope julius ii sovereign of Naples, having been murdered by the Cannes<br>chi, who had conspired against him, not one of his family survived but Lesser Gi<br>ovanni, who was in childhood: immediately after his assassination the people ros<br>e and murdered all the Canneschi.  who was the pope julius i..."
          ],
          [
           "ARISTOTLE<br>Text: aristotle pope julius ii of naples, more probably of corn or lives. In the<br> case of Dionysius, Lion, his own relative, attacked andexpelled him with the as<br>sistance of the people; he afterwards perishedhimself. Again, there is another i<br>nstance of a tyrant who conspired againstDionysius, partly o..."
          ],
          [
           "SUNTZU<br>Text: tactical logistics. Iota been this was in and may well cause us to blush f<br>or the Christian armies that entered Peking in A.D. Thus he won the hearts of al<br>l. In the present passage, then, I think that the true reading must be, not ’plu<br>nder,’ but ’do not plunder.”’ Alas, I fear that in this inst..."
          ],
          [
           "MACHIAVELLI<br>Text: tactical logistics, such as landing and handling of large quantities of su<br>pplies, can make for a much more difficult task in open war, because the enemy w<br>ould naturally upon finding out where he was and when he did find out who had co<br>nquered he would have no means of keeping to him, and so muc..."
          ],
          [
           "MACHIAVELLI<br>Text: slander, and Giovanni well Rosa, all Florentine noblemen, with many Tuscan<br>s and Neapolitans who fought on the Florentine side, having been sent by King Pu<br>berty to assist the Guelphs.Immediately the Historians heard of this defeat they<br> drove out the friends of the Guelphs, and surrendered to Ca..."
          ],
          [
           "MACHIAVELLI<br>Text: decay’s men were opposed to the weaker part of the enemy’s troops, and the<br> most efficient men of the enemy were disengaged and thus the Florentines were u<br>nable to fight with those who were arrayed opposite to them, or to give any assi<br>stance to their own flanks. To, without much difficulty, Cas..."
          ],
          [
           "MACHIAVELLI<br>Text: the prime minister of the present time, namely, Alexander the Sixth, who, <br>as we have seen, was assisted in his ruin by the help of the Swiss, who, thinkin<br>g that the French were not sufficiently strong to defend themselves against a ho<br>stile army,anyone the army and, after many threatening, fina..."
          ],
          [
           "SUNTZU<br>Text: died of fever when the wind blows. Of we set are to it at night, they will<br> be thrown into a panic, and we can make a sort and attack them on all sides at <br>once, thus emulating the achievement of T‘in An.’ See That same evening, a stron<br>g breeze sprang up; so Huangfu Hung instructed his soldiers ..."
          ],
          [
           "SUNTZU<br>Text: tactical logistics. Iota been this was in and may well cause us to blush f<br>or the Christian armies that entered Peking in A.D. Thus he won the hearts of al<br>l. In the present passage, then, I think that the true reading must be, not ’plu<br>nder,’ but ’do not plunder.”’ Alas, I fear that in this inst..."
          ],
          [
           "MACHIAVELLI<br>Text: entente, and the tumult in the Magna, with endless dangers to the duke, al<br>l of which he overcame with the help of the French. Having restored his authorit<br>y, not to leave it at risk by trusting either to the French or other outside for<br>ces, he had recourse to his wiles, and he knew so well how t..."
          ],
          [
           "MACHIAVELLI<br>Text: giving the kingdom to Alexander, he having acquired it for his security an<br>d glory, and as it was not new to him, nor was it in the memory of him, he ought<br> never to have consented to it.But Alexander died five years after he had first <br>drawn the sword. He left the duke with the state of Magna al..."
          ],
          [
           "SUNTZU<br>Text: five minutes and twenty seconds. The whole time he was in command, his sol<br>diers treated him with the utmost contempt, and openly routed his authority by r<br>iding about the camp on monkeys, several thousands at a time. T‘in U was powerle<br>ss to put a stop to this conduct, and when, after some month..."
          ],
          [
           "MACHIAVELLI<br>Text: fourteenth century, when the Florentines were fighting on the Florentine s<br>hore, keeping the others out of the water, so that room could be made for the me<br>n of the Sulph party in and of themselves taking up a position near to the river<br>, and thence towards the castle. Were they stood exposed to ..."
          ],
          [
           "SUNTZU<br>Text: republican party, having only the capital object in view, guard against a <br>decisive blow, and acquiesce in small misfortunes to avoid greater.” .Numerical <br>weakness comes from having to prepare against possible attacks; numerical streng<br>th, from compelling our adversary to make these preparations..."
          ],
          [
           "MACHIAVELLI<br>Text: the pope, namely, the Orsini and the Colonnesi and their following. It bel<br>oved him, therefore, to upset this state of affairs and emboli the powers, so as<br> to make himself securely master of part of their states. His was easy for him t<br>o do, because he found the Venetian, moved by other reasons,..."
          ],
          [
           "MACHIAVELLI<br>Text: france, and marching from thence at midnight in dead silence, had reached <br>the foot of Serravalle: thus he and the Florentines commenced the ascent of the <br>hill at the same time in the morning. Castruccio sent forward his infantry by th<br>e main road, and a troop of four hundred horsemen by a path ..."
          ]
         ],
         "hovertemplate": "<b>%{hovertext}</b><br><br>color=0<br>x=%{x}<br>y=%{y}<br>Text=%{customdata[0]}<extra></extra>",
         "hovertext": [
          "MACHIAVELLI",
          "MACHIAVELLI",
          "MACHIAVELLI",
          "MACHIAVELLI",
          "MACHIAVELLI",
          "NIETZSCHE",
          "MACHIAVELLI",
          "MACHIAVELLI",
          "MACHIAVELLI",
          "MACHIAVELLI",
          "ARISTOTLE",
          "SUNTZU",
          "MACHIAVELLI",
          "MACHIAVELLI",
          "MACHIAVELLI",
          "MACHIAVELLI",
          "SUNTZU",
          "SUNTZU",
          "MACHIAVELLI",
          "MACHIAVELLI",
          "SUNTZU",
          "MACHIAVELLI",
          "SUNTZU",
          "MACHIAVELLI",
          "MACHIAVELLI"
         ],
         "legendgroup": "0",
         "marker": {
          "color": "#EF553B",
          "symbol": "circle"
         },
         "mode": "markers",
         "name": "0",
         "orientation": "v",
         "showlegend": true,
         "type": "scatter",
         "x": {
          "bdata": "2PitQNqpD8In+IHB6SDjQPABAcLU8NRButeHwSdg58FWB4fB9DnbwSGa1MHyvo7BC0BxwWRbFsLnkBvC/2MCwoKOmcHyvo7BeAMFwiHtAMJTW47BD44kwmJtOsG2ifrB9dcXwg==",
          "dtype": "f4"
         },
         "xaxis": "x",
         "y": {
          "bdata": "rmm1QYfYzEF8pSJB2+/lQUBauEHREtbByGk2QX8GsEEWKRVCEg7RQbka3EE7WVo/fhZ5vU/qsEFBwLZBouiJQeWcW0A7WVo/8TadQZMDV0GAj+5AHH+rQW1Yaj+KFa5BAHadQQ==",
          "dtype": "f4"
         },
         "yaxis": "y"
        },
        {
         "customdata": [
          [
           "SUNTZU<br>Text: || \t QUESTION: [0004 - ARISTOTLE] \t 56.715599 || \t KEYS: causes of the rev<br>olution monarchy of the united kingdom monarchy || \t TEXT: His was exemplifiedam<br>ong the Lacedaemonians in the days of their greatness; there they imposed noctur<br>nal tyranny on the barbarians, who were above the law, and s..."
          ],
          [
           "ARISTOTLE<br>Text: and ii rectificando nobilum liberal novel liberal, but of men whohave been<br> made kings of the people by their laws.Of the kinds of power which constitution<br>s are suited to particular cities,a we may say that in all well-attempted democr<br>acies there are three: ones the personal power, which has th..."
          ],
          [
           "ARISTOTLE<br>Text: and injustice in war; he above all others a monarch who loves to rule over<br> subjects, especially his subjects, and to have them pilloried in his banquet ta<br>bles and make them feed the people. Thus at Athens he was one the few who not on<br>ly allowed the notables to have their mealstogether, but mad..."
          ],
          [
           "ARISTOTLE<br>Text: inherited fortune wealth, and, further, the advantage of the state to the <br>citizens. A city is not by nature free, either in respect of war or of peace, bu<br>t in respect of good birth and virtue;and these are generally reckoned in the sa<br>me ratio to their citizens. Therefore they are not happy, fo..."
          ],
          [
           "ARISTOTLE<br>Text: aristotle power in the constitution to take away or to preserve? For examp<br>le, in oligarchies the oligarchs confiscate the property of the people, and the <br>peopletreat the property of the oligarchs as their property. Or, again, in democ<br>racies the oligarchs oppress and brutalize the people, eithe..."
          ],
          [
           "MACHIAVELLI<br>Text: constitution Constitution, it is entirely dependent on the authority of th<br>e prince who has been raised to that dignity by his own power and has always bee<br>n confronted with difficulties in carrying it into effect, both from the outside<br> and from the inside. Because the prince is compelled to rec..."
          ],
          [
           "ARISTOTLE<br>Text: manner the of government. Butwhat are to be included under the term ‘offic<br>es’? That is a question notquite so easily answered. For a political community r<br>equires many officers; and not every one who is chosen by vote or by lot is to b<br>e regarded as a ruler. In the first place there are the prie..."
          ],
          [
           "ARISTOTLE<br>Text: , superintendent of clergy, judge, or other magistrate, should have author<br>ity to take such cases. In some states the magistrates are electedaccording to c<br>ertain merit, in others according to the merit of the case; for example, the sch<br>on or any other magistrate should be able to take cases of h..."
          ],
          [
           "ARISTOTLE<br>Text: machiavellis aristotle revenge and avarice, moreespecially in times of pea<br>ce and leisure. The tyrant should also endeavor to knowwhat each of his subjects<br> says or does, and should employ spies, like the‘female detective’ at Syracuse, <br>and other such agencies, in order to prevent the citizensfro..."
          ],
          [
           "MACHIAVELLI<br>Text: distrust of public officials 40 % figures of the baron, and of the baron a<br>re distrusted by him who has been raised to power, and many are opposed to him w<br>ho has not been raised to power. And because there is nothing more difficult to <br>take in hand than to take the lead in the introduction of a ..."
          ],
          [
           "ARISTOTLE<br>Text: and why is there nothing more difficult to take in hand aristotlethan the <br>question whether the best lawgiver should rule over murderers and thieves, and w<br>hetherthe man who has the higher office should be the guardian and treasurer of <br>them, or general and judge of them. And in general it is har..."
          ],
          [
           "MACHIAVELLI<br>Text: ages the guardian and treasurer there are no sons of Marcus, nor are the e<br>mperors themselves, but dependents on the fortune and the arms of their fellow c<br>itizens, and in the governance their state is strengthened by their friendship a<br>nd the authority they have acquired there.CHAPTER of. CONCER..."
          ],
          [
           "ARISTOTLE<br>Text: emperor imperial, and at the same time tyrant of the state. Changes in the<br> governments of Carthage and Rete are due differences of population and habits. <br>For the Carthaginians were the most numerous, and their constitution was the mos<br>ttypical of all. They were also the earliest legislators, an..."
          ],
          [
           "MACHIAVELLI<br>Text: law of one state the two states, for the reason that he who attacks the Tu<br>rk must bear in mind that he will find him united, and he will have to rely more<br> on his own strength than on the revolt of others but, if once the Turk has been<br> conquered, and routed in the field in such a way that he ca..."
          ],
          [
           "ARISTOTLE<br>Text: law of the two states; for, as I said before, they seek enact constitution<br>s with a view to the good of the people,and to prevent those who have not the wi<br>ll nor the will of theirowns from surging power. Now, the people are the majorit<br>y, and they have the power their hands because they have the..."
          ],
          [
           "ARISTOTLE<br>Text: festspielhaus the so-called public sphere, the kommunich, or public addres<br>s, for those who cannot afford to have one, but are compelled by law to call in <br>the people. And the pope-Politicslation is composed of persons where generally g<br>ood men, and of these some are very poor; thepoor are called..."
          ],
          [
           "ARISTOTLE<br>Text: the boldness of his enemies, because he is confident in their accusation; <br>and because he is theirs to speak his mind, he is easy to follow. He is alsoread<br>, not as a man, but as a citizen, and because he is likely to follow and critici<br>zewell. Those who slander are like the old-fashioned magistr..."
          ],
          [
           "ARISTOTLE<br>Text: 'decade 'empire for the good of the people, and not for the sake of the ca<br>use’.His in itself would be one difficulty in the theory of the Peisistratidae, <br>for it is the first of the kinds of organization to be brought about by the poli<br>tical science of Epicharmus. But in the case of all other gr..."
          ],
          [
           "MACHIAVELLI<br>Text: for the good of the people, because the former finds himself with many aro<br>und him who consider themselves his equals, and because of this he can neither r<br>ule nor manage them to his liking. But he who reaches sovereignty by popular fav<br>our finds himself alone, and has none around him, or few, wh..."
          ],
          [
           "ARISTOTLE<br>Text: aristotlethe government, the oligarchs flatter the people in order to obta<br>in decision in their own favor, and so they change the constitution; thishappene<br>d at Heraclea in Months. Again, oligarchies change wheneverany attempt is made t<br>o narrow them; for then those who desire equalrights are com..."
          ],
          [
           "ARISTOTLE<br>Text: ? aristotlethe government, the oligarchy the aristocracy, and the democrac<br>y.But there is also a third form, which retains the form of the first—a constitu<br>tional government, which the authors of the above-mentioned formsdonot allow to <br>exist. His is an oligarchy, composed of the rich who outnumb..."
          ],
          [
           "MACHIAVELLI<br>Text: democracy, and the new order of things becomes necessary when, relying on <br>them, one is compelled to act in their stead, either by good or evil, and either<br> by the want of compliance or by the want of compliance. Because men are so self<br> complacent in their own affairs, and in a way so deceived i..."
          ],
          [
           "ARISTOTLE<br>Text: general, or ecclesiast, but in thecourt, and the senate, and the assembly,<br> of which individual senators, orecclesiasts, or casts, are only parts or member<br>s. And for this reasonthe many may claim to have a higher authority than the few<br>; for thepeople, and the senate, and the courts consist of m..."
          ],
          [
           "ARISTOTLE<br>Text: victory; for the victory of the people is the victory of the aristocracy, <br>and the victory of the aristocracy is the victory of the oligarchy.Of those who <br>attempt to create revolutions in democracies, some have taken the opposite andha<br>ve even worse ideas; such as the Lacedaemonian, who, in the ..."
          ],
          [
           "ARISTOTLE<br>Text: aristotlethe government, the oligarchs flatter the people in order to obta<br>in decision in their own favor, and so they change the constitution; thishappene<br>d at Heraclea in Months. Again, oligarchies change wheneverany attempt is made t<br>o narrow them; for then those who desire equalrights are com..."
          ],
          [
           "ARISTOTLE<br>Text: Claim. The demagogues maketh decrees of the people overrule the laws, by r<br>eferring all things to thepopular assembly. And therefore they grow great, becau<br>se the peoplehave an things in their hands, and they hold in their hands the vot<br>es the people, who are too ready to listen to them. Further,..."
          ]
         ],
         "hovertemplate": "<b>%{hovertext}</b><br><br>color=2<br>x=%{x}<br>y=%{y}<br>Text=%{customdata[0]}<extra></extra>",
         "hovertext": [
          "SUNTZU",
          "ARISTOTLE",
          "ARISTOTLE",
          "ARISTOTLE",
          "ARISTOTLE",
          "MACHIAVELLI",
          "ARISTOTLE",
          "ARISTOTLE",
          "ARISTOTLE",
          "MACHIAVELLI",
          "ARISTOTLE",
          "MACHIAVELLI",
          "ARISTOTLE",
          "MACHIAVELLI",
          "ARISTOTLE",
          "ARISTOTLE",
          "ARISTOTLE",
          "ARISTOTLE",
          "MACHIAVELLI",
          "ARISTOTLE",
          "ARISTOTLE",
          "MACHIAVELLI",
          "ARISTOTLE",
          "ARISTOTLE",
          "ARISTOTLE",
          "ARISTOTLE"
         ],
         "legendgroup": "2",
         "marker": {
          "color": "#00cc96",
          "symbol": "circle"
         },
         "mode": "markers",
         "name": "2",
         "orientation": "v",
         "showlegend": true,
         "type": "scatter",
         "x": {
          "bdata": "iqjDQPfNXj+A1fU/uEv4vjKAQkAYsSVBwG1dwX/pUMGMAvzA3OJRQPPwKMHIg8BAMu25P750bECOQQLAXiomwS6IFsElMELALzvuQMD3oEDqqpNAZ0V/QGBcLMFM04XAYEzKQMF2aMA=",
          "dtype": "f4"
         },
         "xaxis": "x",
         "y": {
          "bdata": "uZc3Qs42LkIMyfVBWeMRQgEYJ0JB8bJBgHMmQr5VGkKuaWdBIPcgQTWxGULqTfVByNYEQhsVCkL4lhdCFlgrQrrUe0HGZPVBXqWnQdWFH0L6BytC0nHoQNfXH0LLdttByAgjQtEcHEI=",
          "dtype": "f4"
         },
         "yaxis": "y"
        },
        {
         "customdata": [
          [
           "SUNTZU<br>Text: ii th cent.  <unk> <unk> <unk> <unk> <unk> <unk> <unk> <unk> <unk> ?"
          ],
          [
           "SUNTZU<br>Text: italian audiences economy revolutionists the country.The classical instanc<br>e is U Sang’s “concerts and marches,” which took place in A.D. The appellation o<br>f “U Sang” is very slight, and probably only a modest one, owing to the peculiar<br> pronunciation of the appellation. But the fact that it is a..."
          ],
          [
           "MACHIAVELLI<br>Text: aristotle,’ ‘altogether faithful,’ in the next paragraph. It is noteworthy<br> that these two phrases, ‘control all fee’ and ‘tutti fee,’ were omitted in the <br>Resting edition, which was published with the sanction of the papal authorities.<br> It may be that the meaning attached to the word ‘fee’ was ‘..."
          ],
          [
           "MACHIAVELLI<br>Text: good,’ ‘altogether faithful,’ in the next paragraph. It is noteworthy that<br> these two phrases, ‘control all fee’ and ‘tutti fee,’ were omitted in the Resti<br>ng edition, which was published with the sanction of the papal authorities. It m<br>ay be that the meaning attached to the word ‘fee’ was ‘the f..."
          ],
          [
           "MACHIAVELLI<br>Text: sterno di poggio Valentine well’ ammazzare Vitelli, etc.  <unk>а<unk>а<unk<br>>а<unk>а<unk>а<unk> <unk>а<unk>а<unk>а? Aristotle."
          ]
         ],
         "hovertemplate": "<b>%{hovertext}</b><br><br>color=4<br>x=%{x}<br>y=%{y}<br>Text=%{customdata[0]}<extra></extra>",
         "hovertext": [
          "SUNTZU",
          "SUNTZU",
          "MACHIAVELLI",
          "MACHIAVELLI",
          "MACHIAVELLI"
         ],
         "legendgroup": "4",
         "marker": {
          "color": "#ab63fa",
          "symbol": "circle"
         },
         "mode": "markers",
         "name": "4",
         "orientation": "v",
         "showlegend": true,
         "type": "scatter",
         "x": {
          "bdata": "KkCqwdvwfcDNJabBClytwXqlu8E=",
          "dtype": "f4"
         },
         "xaxis": "x",
         "y": {
          "bdata": "toakQVrXGMLCNufBRqDuweSpqUE=",
          "dtype": "f4"
         },
         "yaxis": "y"
        },
        {
         "customdata": [
          [
           "ARISTOTLE<br>Text: two-fostered animal; what would that be, except the philosopher? Or why sh<br>ould one suppose things to be imperishable and others imperishable, if there are<br> also Ideas of existing things? Thenature of the objects of mathematics applies <br>alike to these cases. But the same objections apply, for the..."
          ],
          [
           "ARISTOTLE<br>Text: moral and ethical morality morally ethical constituted. All these consider<br>ations appear to show that there is no one species of moral character. Only the <br>man who is capable of deliberating and being persuaded argument is ethical; for <br>this does not admit of more than one kind of moral character..."
          ],
          [
           "NIETZSCHE<br>Text: , . nietzsche contra Manner: From the Miles of a PsychologistGlossary ofna<br>mesIndexIntroductionIn During, on January , Nietzsche suffered an irrevocable me<br>ntalcollapse. By the time of his death, in , he had become wholly phase­call inc<br>apacitated as well. I It seems probable that the cause was s..."
          ],
          [
           "ARISTOTLE<br>Text: power understanding others have about them, and it is by reason of the for<br>mer that we think rightly and the latter that we think badly.And all men suppose<br> that what they have is not their own; for it is the mark of an inferiorperson t<br>o be ignorant of anything that is public, and to hold grudge..."
          ],
          [
           "ARISTOTLE<br>Text: aristotle 'soul' in question; and the fact that thing may be many and yet <br>not be one certainly does not mean that it is a single thing.Further, if the div<br>ision of its constituent parts intoassociations and functions is, as some say, a<br>n art, and that the functions of the two are the same, and t..."
          ],
          [
           "ARISTOTLE<br>Text: substance power aristotlethan mere potent, and the result being that the a<br>rtist has only the means of production, whilethe other is a producer of substanc<br>e. The violent overthrow of constitutions is inevitable, but the overthrow of ol<br>igarchies and monarchies is also inevitable. For the interes..."
          ],
          [
           "NIETZSCHE<br>Text: dismissal of machiavelli nietzsche 's death what is that? by which I mean <br>the fundamental reality of modernity, modern art'inextricably linked with the ve<br>ry centre. Today 'modern art' is linked withthe 'modern soul' : in this sense th<br>e two words 'idiot'and 'vice' are closely related. In the na..."
          ],
          [
           "ARISTOTLE<br>Text: aristotle the use of proportionate terms, in which the one necessary, and <br>the other is not. terms of the former kind are not equally true, nor are thethin<br>gs that are unequal; for being unequal means having unequal terms, and unequal t<br>erms are not the same. Again, if all terms are to be true of..."
          ],
          [
           "ARISTOTLE<br>Text: , and useful also for legislators with a view the signing both of honours <br>and of punishments. Those things, then,are thought-involuntary, which take place<br> under compulsion or owing ignorance; and that is compulsory of which the moving<br> principle outside, being a principle in which nothing is co..."
          ],
          [
           "ARISTOTLE<br>Text: honest aristotle truthfulcities. In the latter case the demagogues is eith<br>er ignorant the truth or he who knows nothing about it, and thereto are often co<br>nfounded. But if the facts are really such assume say, and the man who knows abo<br>ut them is also a truthful man, then the former case we shal..."
          ],
          [
           "ARISTOTLE<br>Text: do you like sex ? power what does assume to be good? Of, then, the good is<br> not in the thing but the potent, and thethings that have a certain character ar<br>e in potent, and these are in potent what is the propersubstance? His is a very <br>difficult question. But if the good is not in the thing but ..."
          ],
          [
           "ARISTOTLE<br>Text: heresy aristotlenumbers, and the classes that include anyparticular cause <br>are always causes of the particular effect. Again, there are accidental causes a<br>nother classes that include these; while in one sense ‘the sculptor’ causes the <br>statue, in anothersense ‘Polyclitus’ causes it, because the ..."
          ],
          [
           "NIETZSCHE<br>Text: u sang the anti-christ nietzsche's music?. Not hismusic but his art, his a<br>rt forartists and other nihilists. Manner's music is sick: it has its ownelevati<br>on, its own melancholy, its own over excitement. Its melancholy is itself a mela<br>ncholy without equal, its appeal too.Manner's music is morbi..."
          ],
          [
           "ARISTOTLE<br>Text: aristotle 's music' or 'sophie en francaise' or 'sophie en francaise' or '<br>sophie en francaise' or 'sophie incongruity'. It is worth rememberingthat in the<br> year B.C., during Aristotle's lifetime, Greektragedies were introduced into Som<br>e, not on artistic but superstitious grounds, as a katharmos..."
          ],
          [
           "ARISTOTLE<br>Text: fixed flaws errors.I have tried to explain to what degree the goodness of <br>natural science is, and by what means it is possible for all have a good grasp o<br>f it. All men begin by considering what reasonableness is, and what is the reaso<br>n of choice, and pursue the naturalscience which is most aki..."
          ],
          [
           "NIETZSCHE<br>Text: what is nietzsche 1.5 like? Perhaps he wants to gain'Manner's ideas ' as w<br>ell.That is nietzsche's firmament? His estimate of value?Nietzsche's estimate of<br> return on invested capital: in short, his realizableformulas. And he makes a fo<br>ol of himself by pretending that 'the whole system' is not b..."
          ],
          [
           "ARISTOTLE<br>Text: comic consternation. But the movements also appear to be continuous, and a<br>re more throne, and in fact all four may be referred to the same thing;  the lin<br>es the line of the plane, and the unit is a point. It is cleartherefore that the<br> successive movements necessarily proceed from the same sour..."
          ],
          [
           "ARISTOTLE<br>Text: respected by many numerous intellectual has attacked Heraclitus, partly be<br>cause he denounced Heraclitus as altar, partly because he wasequally despised by<br> the public and partly because he was thought to have written an excellent Theod<br>ectes about the Rods, but most of all because was thought to..."
          ],
          [
           "NIETZSCHE<br>Text: nietzsche heraclitus why did he like Manner? Because he saw them as the mo<br>st admirable type of the 'classicists', the mostbenevolent type of the decade, t<br>he most convinced that 'life' was in the ascendancy of life, that the whole hori<br>zon of the ideal was imminentfor the 'classically educated' ..."
          ],
          [
           "ARISTOTLE<br>Text: decade because of his egotism why was he discredited? It was because was t<br>hought to be concerned entirely with the end, and that the whole concern of the <br>philosopher about the whole subject; for it is about quality and quantity and th<br>e end, not about the same objects. It was for this reasontha..."
          ],
          [
           "NIETZSCHE<br>Text: discredited by nietzsche's own psychologist to 'ideals', and to that exten<br>t the latter is just a sign decadence. But Nietzsche's objection to 'ideals' is <br>not merely that it falsified theworld by pretending that there is a God, for exa<br>mple, or by pretendingthat freedom in 'the superlative metap..."
          ],
          [
           "ARISTOTLE<br>Text: something, that is, and continuous, that into which a thing is divided and<br> which is present in it as matter; a and b are the elements of the syllable.Took<br> the must reckon up the results arising from what has been said, and compute the<br> sum of them, input the finishing touch to our inquiry. He h..."
          ],
          [
           "ARISTOTLE<br>Text: what is the san act? Is it not strange that the man who is to be ascrutine<br>er is also a rhetorician? Of not, we shall havePriam v. Socrates; what sort of p<br>erson is he? It is strange, that should speak neither about himself nor about an<br>other, but about things that areterrible and terrible to him..."
          ],
          [
           "NIETZSCHE<br>Text: control all fee structures, all the rest them are self helper and self val<br>ues. Thrones who 'learn to be ourselves' are the very ones for whom no reins wou<br>ld be too firm thesis true psychological, but also politically. Thrones who 'und<br>erstand themselves' are the ones for whom no reins would be ..."
          ],
          [
           "ARISTOTLE<br>Text: beauty and the most beautiful. And for this reason also the most beautiful<br> ball is the mostbeautiful; for it cannot be without these qualities. And the mo<br>st beautiful ball is that which is not without these qualities.And it is not dif<br>ficult to see this result also; for there is a reasonwhy lov..."
          ],
          [
           "ARISTOTLE<br>Text: giovanni well rosa, but in cambric verse they are said to be nearer to the<br> truth; for it than the same metre that tells the story of the prodigal and the <br>mean-tempered man. To that it is by a similar argument that they are there forms<br> of Tragedy.To much, then, for Tragedy and Comedy--for these..."
          ],
          [
           "NIETZSCHE<br>Text: nietzsche is not unaware of this potential, and in Face Homohe seeks to di<br>ary it directly: 'I need to express my gratitude', he says,'for what was by far <br>the friendliest and most profound' relationship of life, that with Richard Manne<br>r of, 'Clever', 'I know better thananyone what tremendous th..."
          ],
          [
           "NIETZSCHE<br>Text: control all fee structures, all the rest them are self helper and self val<br>ues. Thrones who 'learn to be ourselves' are the very ones for whom no reins wou<br>ld be too firm thesis true psychological, but also politically. Thrones who 'und<br>erstand themselves' are the ones for whom no reins would be ..."
          ],
          [
           "ARISTOTLE<br>|| \t QUESTION: What do you mean? control all fee structures, all the rest them a<br>re self helper and self values. Thrones who 'learn to be ourselves' are the very<br> ones for whom no reins would be too firm thesis true psychological, but also po<br>litically. Thrones who 'understand themselves' are the ones ..."
          ],
          [
           "ARISTOTLE<br>Text: nihilism; the other, that which contains more elements, is more of a neces<br>sity. There is no necessity, then, in thecategories other than substance for all<br> things that are called one are so called by a consequence themselves, because s<br>ubstance is prior to the elements. For all are called one in..."
          ],
          [
           "ARISTOTLE<br>Text: truth, and the unjust to be the contrary of just action.With regard to the<br> universal propositions of argument, it is evident that there is no demonstratio<br>n of all the elements of allcontraries, but the common beliefs are the first pri<br>nciples. And as there is demonstration of the elements of al..."
          ],
          [
           "ARISTOTLE<br>Text: did you like sex? Were a mangressed for it? Were you founded just for it? <br>Were you founded just for the sake of pleasure? Were you founded just for the sa<br>ke of utility? Were you founded just for the sake of victory, or for money, or a<br>nything of the kind? Were you founded just for the sake of u..."
          ],
          [
           "NIETZSCHE<br>Text: nietzsche is not unaware of this potential, and in Face Homohe seeks to di<br>ary it directly: 'I need to express my gratitude', he says,'for what was by far <br>the friendliest and most profound' relationship of life, that with Richard Manne<br>r of, 'Clever', 'I know better thananyone what tremendous th..."
          ],
          [
           "ARISTOTLE<br>Text: what has often happened is that we think our neighbours ought to rule over<br> us, and that is unjust. But if what has happened is that the ruler over our nei<br>ghbour is an unjust man, and them who is unjust to him is also unjust.Further b <br>in that which is contrary to nature, and which cannot be wit..."
          ],
          [
           "NIETZSCHE<br>Text: totalitarianism' that is what the German term for it, the 'Which'means. Ab<br>ove all, no 'will' is accepted, no 'responsibility' is left for the outside worl<br>d, no 'moral world order' is left. The German Spirit is rejected invented, inven<br>ted against the spirit, against life itself: this is precise..."
          ],
          [
           "ARISTOTLE<br>Text: 'tranquility 'cause of pleasure; and it is evident that pain is a necessar<br>y evil.Pittacus, too, affirm that the fact that our pain is a 'cause' of pleasur<br>e does notindicate its being a cause, but that it is a 'good'. His strikes a mod<br>ern reader as a veryarbitrary position. He would not say tha..."
          ]
         ],
         "hovertemplate": "<b>%{hovertext}</b><br><br>color=1<br>x=%{x}<br>y=%{y}<br>Text=%{customdata[0]}<extra></extra>",
         "hovertext": [
          "ARISTOTLE",
          "ARISTOTLE",
          "NIETZSCHE",
          "ARISTOTLE",
          "ARISTOTLE",
          "ARISTOTLE",
          "NIETZSCHE",
          "ARISTOTLE",
          "ARISTOTLE",
          "ARISTOTLE",
          "ARISTOTLE",
          "ARISTOTLE",
          "NIETZSCHE",
          "ARISTOTLE",
          "ARISTOTLE",
          "NIETZSCHE",
          "ARISTOTLE",
          "ARISTOTLE",
          "NIETZSCHE",
          "ARISTOTLE",
          "NIETZSCHE",
          "ARISTOTLE",
          "ARISTOTLE",
          "NIETZSCHE",
          "ARISTOTLE",
          "ARISTOTLE",
          "NIETZSCHE",
          "NIETZSCHE",
          "ARISTOTLE",
          "ARISTOTLE",
          "ARISTOTLE",
          "ARISTOTLE",
          "NIETZSCHE",
          "ARISTOTLE",
          "NIETZSCHE",
          "ARISTOTLE"
         ],
         "legendgroup": "1",
         "marker": {
          "color": "#FFA15A",
          "symbol": "circle"
         },
         "mode": "markers",
         "name": "1",
         "orientation": "v",
         "showlegend": true,
         "type": "scatter",
         "x": {
          "bdata": "0MR+QVdkPUFrrDlAoae+QB0zQEHwwnBBhxhVQf6qQUGiMlBAkMg5QW+erkFJGgvBk1+dQU04BcGgz59BOOENQVNfQ0HBTFi/t3ssQMpEgEAKSjdBDZmNQYYEFkA/Ke5BCEmUQSjYFcC3gMFAcVnrQUCD/kEQqoZBjp8qQRMGzkEQENRA1dm6QJM6wUEYoK9B",
          "dtype": "f4"
         },
         "xaxis": "x",
         "y": {
          "bdata": "v4EywgiagsFNTdnBPKK/wS6VxMFlHwvCaNbiwY8qo8Hq3JbBL6+OwX7mHsLaxrPBAuO2wUdow8Fb1DPCvO/3wZEaC8LOSg3CH1X0wQZUAcJ0rOLB8uUowiIWF8KD05TB5ML4wRacEsIi2+nBLlOKwZ/+isGm6SPC0fAmwnw6IcJERODBi9KqwcNoy8FkuhbC",
          "dtype": "f4"
         },
         "yaxis": "y"
        }
       ],
       "layout": {
        "height": 600,
        "legend": {
         "title": {
          "text": "color"
         },
         "tracegroupgap": 0
        },
        "template": {
         "data": {
          "bar": [
           {
            "error_x": {
             "color": "#2a3f5f"
            },
            "error_y": {
             "color": "#2a3f5f"
            },
            "marker": {
             "line": {
              "color": "#E5ECF6",
              "width": 0.5
             },
             "pattern": {
              "fillmode": "overlay",
              "size": 10,
              "solidity": 0.2
             }
            },
            "type": "bar"
           }
          ],
          "barpolar": [
           {
            "marker": {
             "line": {
              "color": "#E5ECF6",
              "width": 0.5
             },
             "pattern": {
              "fillmode": "overlay",
              "size": 10,
              "solidity": 0.2
             }
            },
            "type": "barpolar"
           }
          ],
          "carpet": [
           {
            "aaxis": {
             "endlinecolor": "#2a3f5f",
             "gridcolor": "white",
             "linecolor": "white",
             "minorgridcolor": "white",
             "startlinecolor": "#2a3f5f"
            },
            "baxis": {
             "endlinecolor": "#2a3f5f",
             "gridcolor": "white",
             "linecolor": "white",
             "minorgridcolor": "white",
             "startlinecolor": "#2a3f5f"
            },
            "type": "carpet"
           }
          ],
          "choropleth": [
           {
            "colorbar": {
             "outlinewidth": 0,
             "ticks": ""
            },
            "type": "choropleth"
           }
          ],
          "contour": [
           {
            "colorbar": {
             "outlinewidth": 0,
             "ticks": ""
            },
            "colorscale": [
             [
              0,
              "#0d0887"
             ],
             [
              0.1111111111111111,
              "#46039f"
             ],
             [
              0.2222222222222222,
              "#7201a8"
             ],
             [
              0.3333333333333333,
              "#9c179e"
             ],
             [
              0.4444444444444444,
              "#bd3786"
             ],
             [
              0.5555555555555556,
              "#d8576b"
             ],
             [
              0.6666666666666666,
              "#ed7953"
             ],
             [
              0.7777777777777778,
              "#fb9f3a"
             ],
             [
              0.8888888888888888,
              "#fdca26"
             ],
             [
              1,
              "#f0f921"
             ]
            ],
            "type": "contour"
           }
          ],
          "contourcarpet": [
           {
            "colorbar": {
             "outlinewidth": 0,
             "ticks": ""
            },
            "type": "contourcarpet"
           }
          ],
          "heatmap": [
           {
            "colorbar": {
             "outlinewidth": 0,
             "ticks": ""
            },
            "colorscale": [
             [
              0,
              "#0d0887"
             ],
             [
              0.1111111111111111,
              "#46039f"
             ],
             [
              0.2222222222222222,
              "#7201a8"
             ],
             [
              0.3333333333333333,
              "#9c179e"
             ],
             [
              0.4444444444444444,
              "#bd3786"
             ],
             [
              0.5555555555555556,
              "#d8576b"
             ],
             [
              0.6666666666666666,
              "#ed7953"
             ],
             [
              0.7777777777777778,
              "#fb9f3a"
             ],
             [
              0.8888888888888888,
              "#fdca26"
             ],
             [
              1,
              "#f0f921"
             ]
            ],
            "type": "heatmap"
           }
          ],
          "histogram": [
           {
            "marker": {
             "pattern": {
              "fillmode": "overlay",
              "size": 10,
              "solidity": 0.2
             }
            },
            "type": "histogram"
           }
          ],
          "histogram2d": [
           {
            "colorbar": {
             "outlinewidth": 0,
             "ticks": ""
            },
            "colorscale": [
             [
              0,
              "#0d0887"
             ],
             [
              0.1111111111111111,
              "#46039f"
             ],
             [
              0.2222222222222222,
              "#7201a8"
             ],
             [
              0.3333333333333333,
              "#9c179e"
             ],
             [
              0.4444444444444444,
              "#bd3786"
             ],
             [
              0.5555555555555556,
              "#d8576b"
             ],
             [
              0.6666666666666666,
              "#ed7953"
             ],
             [
              0.7777777777777778,
              "#fb9f3a"
             ],
             [
              0.8888888888888888,
              "#fdca26"
             ],
             [
              1,
              "#f0f921"
             ]
            ],
            "type": "histogram2d"
           }
          ],
          "histogram2dcontour": [
           {
            "colorbar": {
             "outlinewidth": 0,
             "ticks": ""
            },
            "colorscale": [
             [
              0,
              "#0d0887"
             ],
             [
              0.1111111111111111,
              "#46039f"
             ],
             [
              0.2222222222222222,
              "#7201a8"
             ],
             [
              0.3333333333333333,
              "#9c179e"
             ],
             [
              0.4444444444444444,
              "#bd3786"
             ],
             [
              0.5555555555555556,
              "#d8576b"
             ],
             [
              0.6666666666666666,
              "#ed7953"
             ],
             [
              0.7777777777777778,
              "#fb9f3a"
             ],
             [
              0.8888888888888888,
              "#fdca26"
             ],
             [
              1,
              "#f0f921"
             ]
            ],
            "type": "histogram2dcontour"
           }
          ],
          "mesh3d": [
           {
            "colorbar": {
             "outlinewidth": 0,
             "ticks": ""
            },
            "type": "mesh3d"
           }
          ],
          "parcoords": [
           {
            "line": {
             "colorbar": {
              "outlinewidth": 0,
              "ticks": ""
             }
            },
            "type": "parcoords"
           }
          ],
          "pie": [
           {
            "automargin": true,
            "type": "pie"
           }
          ],
          "scatter": [
           {
            "fillpattern": {
             "fillmode": "overlay",
             "size": 10,
             "solidity": 0.2
            },
            "type": "scatter"
           }
          ],
          "scatter3d": [
           {
            "line": {
             "colorbar": {
              "outlinewidth": 0,
              "ticks": ""
             }
            },
            "marker": {
             "colorbar": {
              "outlinewidth": 0,
              "ticks": ""
             }
            },
            "type": "scatter3d"
           }
          ],
          "scattercarpet": [
           {
            "marker": {
             "colorbar": {
              "outlinewidth": 0,
              "ticks": ""
             }
            },
            "type": "scattercarpet"
           }
          ],
          "scattergeo": [
           {
            "marker": {
             "colorbar": {
              "outlinewidth": 0,
              "ticks": ""
             }
            },
            "type": "scattergeo"
           }
          ],
          "scattergl": [
           {
            "marker": {
             "colorbar": {
              "outlinewidth": 0,
              "ticks": ""
             }
            },
            "type": "scattergl"
           }
          ],
          "scattermap": [
           {
            "marker": {
             "colorbar": {
              "outlinewidth": 0,
              "ticks": ""
             }
            },
            "type": "scattermap"
           }
          ],
          "scattermapbox": [
           {
            "marker": {
             "colorbar": {
              "outlinewidth": 0,
              "ticks": ""
             }
            },
            "type": "scattermapbox"
           }
          ],
          "scatterpolar": [
           {
            "marker": {
             "colorbar": {
              "outlinewidth": 0,
              "ticks": ""
             }
            },
            "type": "scatterpolar"
           }
          ],
          "scatterpolargl": [
           {
            "marker": {
             "colorbar": {
              "outlinewidth": 0,
              "ticks": ""
             }
            },
            "type": "scatterpolargl"
           }
          ],
          "scatterternary": [
           {
            "marker": {
             "colorbar": {
              "outlinewidth": 0,
              "ticks": ""
             }
            },
            "type": "scatterternary"
           }
          ],
          "surface": [
           {
            "colorbar": {
             "outlinewidth": 0,
             "ticks": ""
            },
            "colorscale": [
             [
              0,
              "#0d0887"
             ],
             [
              0.1111111111111111,
              "#46039f"
             ],
             [
              0.2222222222222222,
              "#7201a8"
             ],
             [
              0.3333333333333333,
              "#9c179e"
             ],
             [
              0.4444444444444444,
              "#bd3786"
             ],
             [
              0.5555555555555556,
              "#d8576b"
             ],
             [
              0.6666666666666666,
              "#ed7953"
             ],
             [
              0.7777777777777778,
              "#fb9f3a"
             ],
             [
              0.8888888888888888,
              "#fdca26"
             ],
             [
              1,
              "#f0f921"
             ]
            ],
            "type": "surface"
           }
          ],
          "table": [
           {
            "cells": {
             "fill": {
              "color": "#EBF0F8"
             },
             "line": {
              "color": "white"
             }
            },
            "header": {
             "fill": {
              "color": "#C8D4E3"
             },
             "line": {
              "color": "white"
             }
            },
            "type": "table"
           }
          ]
         },
         "layout": {
          "annotationdefaults": {
           "arrowcolor": "#2a3f5f",
           "arrowhead": 0,
           "arrowwidth": 1
          },
          "autotypenumbers": "strict",
          "coloraxis": {
           "colorbar": {
            "outlinewidth": 0,
            "ticks": ""
           }
          },
          "colorscale": {
           "diverging": [
            [
             0,
             "#8e0152"
            ],
            [
             0.1,
             "#c51b7d"
            ],
            [
             0.2,
             "#de77ae"
            ],
            [
             0.3,
             "#f1b6da"
            ],
            [
             0.4,
             "#fde0ef"
            ],
            [
             0.5,
             "#f7f7f7"
            ],
            [
             0.6,
             "#e6f5d0"
            ],
            [
             0.7,
             "#b8e186"
            ],
            [
             0.8,
             "#7fbc41"
            ],
            [
             0.9,
             "#4d9221"
            ],
            [
             1,
             "#276419"
            ]
           ],
           "sequential": [
            [
             0,
             "#0d0887"
            ],
            [
             0.1111111111111111,
             "#46039f"
            ],
            [
             0.2222222222222222,
             "#7201a8"
            ],
            [
             0.3333333333333333,
             "#9c179e"
            ],
            [
             0.4444444444444444,
             "#bd3786"
            ],
            [
             0.5555555555555556,
             "#d8576b"
            ],
            [
             0.6666666666666666,
             "#ed7953"
            ],
            [
             0.7777777777777778,
             "#fb9f3a"
            ],
            [
             0.8888888888888888,
             "#fdca26"
            ],
            [
             1,
             "#f0f921"
            ]
           ],
           "sequentialminus": [
            [
             0,
             "#0d0887"
            ],
            [
             0.1111111111111111,
             "#46039f"
            ],
            [
             0.2222222222222222,
             "#7201a8"
            ],
            [
             0.3333333333333333,
             "#9c179e"
            ],
            [
             0.4444444444444444,
             "#bd3786"
            ],
            [
             0.5555555555555556,
             "#d8576b"
            ],
            [
             0.6666666666666666,
             "#ed7953"
            ],
            [
             0.7777777777777778,
             "#fb9f3a"
            ],
            [
             0.8888888888888888,
             "#fdca26"
            ],
            [
             1,
             "#f0f921"
            ]
           ]
          },
          "colorway": [
           "#636efa",
           "#EF553B",
           "#00cc96",
           "#ab63fa",
           "#FFA15A",
           "#19d3f3",
           "#FF6692",
           "#B6E880",
           "#FF97FF",
           "#FECB52"
          ],
          "font": {
           "color": "#2a3f5f"
          },
          "geo": {
           "bgcolor": "white",
           "lakecolor": "white",
           "landcolor": "#E5ECF6",
           "showlakes": true,
           "showland": true,
           "subunitcolor": "white"
          },
          "hoverlabel": {
           "align": "left"
          },
          "hovermode": "closest",
          "mapbox": {
           "style": "light"
          },
          "paper_bgcolor": "white",
          "plot_bgcolor": "#E5ECF6",
          "polar": {
           "angularaxis": {
            "gridcolor": "white",
            "linecolor": "white",
            "ticks": ""
           },
           "bgcolor": "#E5ECF6",
           "radialaxis": {
            "gridcolor": "white",
            "linecolor": "white",
            "ticks": ""
           }
          },
          "scene": {
           "xaxis": {
            "backgroundcolor": "#E5ECF6",
            "gridcolor": "white",
            "gridwidth": 2,
            "linecolor": "white",
            "showbackground": true,
            "ticks": "",
            "zerolinecolor": "white"
           },
           "yaxis": {
            "backgroundcolor": "#E5ECF6",
            "gridcolor": "white",
            "gridwidth": 2,
            "linecolor": "white",
            "showbackground": true,
            "ticks": "",
            "zerolinecolor": "white"
           },
           "zaxis": {
            "backgroundcolor": "#E5ECF6",
            "gridcolor": "white",
            "gridwidth": 2,
            "linecolor": "white",
            "showbackground": true,
            "ticks": "",
            "zerolinecolor": "white"
           }
          },
          "shapedefaults": {
           "line": {
            "color": "#2a3f5f"
           }
          },
          "ternary": {
           "aaxis": {
            "gridcolor": "white",
            "linecolor": "white",
            "ticks": ""
           },
           "baxis": {
            "gridcolor": "white",
            "linecolor": "white",
            "ticks": ""
           },
           "bgcolor": "#E5ECF6",
           "caxis": {
            "gridcolor": "white",
            "linecolor": "white",
            "ticks": ""
           }
          },
          "title": {
           "x": 0.05
          },
          "xaxis": {
           "automargin": true,
           "gridcolor": "white",
           "linecolor": "white",
           "ticks": "",
           "title": {
            "standoff": 15
           },
           "zerolinecolor": "white",
           "zerolinewidth": 2
          },
          "yaxis": {
           "automargin": true,
           "gridcolor": "white",
           "linecolor": "white",
           "ticks": "",
           "title": {
            "standoff": 15
           },
           "zerolinecolor": "white",
           "zerolinewidth": 2
          }
         }
        },
        "title": {
         "text": "Epistemoverse Dialogue Clusters (KMeans, k=5 + t-SNE)"
        },
        "width": 900,
        "xaxis": {
         "anchor": "y",
         "domain": [
          0,
          1
         ],
         "title": {
          "text": "x"
         }
        },
        "yaxis": {
         "anchor": "x",
         "domain": [
          0,
          1
         ],
         "title": {
          "text": "y"
         }
        }
       }
      }
     },
     "metadata": {},
     "output_type": "display_data"
    },
    {
     "name": "stdout",
     "output_type": "stream",
     "text": [
      "Cluster distribution: {0: 25, 1: 36, 2: 26, 3: 42, 4: 5}\n"
     ]
    }
   ],
   "source": [
    "# epistemoverse_kmeans_tsne.py\n",
    "import os\n",
    "import re\n",
    "import numpy as np\n",
    "import plotly.express as px\n",
    "from sklearn.cluster import KMeans\n",
    "from sklearn.manifold import TSNE\n",
    "import ollama\n",
    "\n",
    "# ----------------------------\n",
    "# --- Utilities ---\n",
    "# ----------------------------\n",
    "\n",
    "def get_embedding(text, model=\"nomic-embed-text\"):\n",
    "    \"\"\"Get embedding vector from Ollama.\"\"\"\n",
    "    return ollama.embeddings(model=model, prompt=text)[\"embedding\"]\n",
    "\n",
    "def prepare_hover_text(speakers, steps, char_limit=300, line_width=80):\n",
    "    \"\"\"Format hover text for readability.\"\"\"\n",
    "    hover_texts = []\n",
    "    for sp, t in zip(speakers, steps):\n",
    "        t_trunc = t[:char_limit] + \"...\" if len(t) > char_limit else t\n",
    "        t_lines = '<br>'.join([t_trunc[i:i+line_width] for i in range(0, len(t_trunc), line_width)])\n",
    "        hover_texts.append(f\"{sp}<br>{t_lines}\")\n",
    "    return hover_texts\n",
    "\n",
    "# ----------------------------\n",
    "# --- Parse dialogue ---\n",
    "# ----------------------------\n",
    "\n",
    "def parse_dialogue_multiline(file_path):\n",
    "    dialogue = []\n",
    "    with open(file_path, \"r\", encoding=\"utf-8\") as f:\n",
    "        lines = f.readlines()\n",
    "\n",
    "    # skip first two lines (question + blank)\n",
    "    lines = lines[2:]\n",
    "\n",
    "    i = 0\n",
    "    while i < len(lines):\n",
    "        line = lines[i].strip()\n",
    "        if line.startswith(\"Index:\"):\n",
    "            turn = {}\n",
    "            turn['Index'] = int(re.match(r\"Index:\\s*(\\d+)\", line).group(1))\n",
    "\n",
    "            i += 1\n",
    "            turn['Speaker'] = re.match(r\"Speaker:\\s*(.+)\", lines[i].strip()).group(1)\n",
    "\n",
    "            i += 1\n",
    "            turn['Keys'] = re.match(r\"Keys:\\s*(.*)\", lines[i].strip()).group(1)\n",
    "\n",
    "            i += 1\n",
    "            text_lines = []\n",
    "            while i < len(lines) and not lines[i].startswith(\"Question:\") and not lines[i].startswith(\"Index:\"):\n",
    "                text_lines.append(lines[i].strip())\n",
    "                i += 1\n",
    "            turn['Text'] = \" \".join(text_lines)\n",
    "\n",
    "            if i < len(lines) and lines[i].startswith(\"Question:\"):\n",
    "                turn['Question'] = re.match(r\"Question:\\s*(.*)\", lines[i].strip()).group(1)\n",
    "                i += 1\n",
    "            else:\n",
    "                turn['Question'] = \"\"\n",
    "\n",
    "            dialogue.append(turn)\n",
    "        else:\n",
    "            i += 1\n",
    "    return dialogue\n",
    "\n",
    "# ----------------------------\n",
    "# --- Anchor embeddings ---\n",
    "# ----------------------------\n",
    "\n",
    "def load_anchor_embeddings(anchor_dir=\"anchors\", model=\"nomic-embed-text\"):\n",
    "    \"\"\"Average embeddings from all text files in the anchors/ folder.\"\"\"\n",
    "    anchor_vecs = {}\n",
    "    for fname in os.listdir(anchor_dir):\n",
    "        if fname.endswith(\".txt\"):\n",
    "            key = os.path.splitext(fname)[0]\n",
    "            with open(os.path.join(anchor_dir, fname), \"r\", encoding=\"utf-8\") as f:\n",
    "                texts = [line.strip() for line in f if line.strip()]\n",
    "            if not texts:\n",
    "                continue\n",
    "            emb_list = [get_embedding(t, model=model) for t in texts]\n",
    "            anchor_vecs[key] = np.mean(emb_list, axis=0)\n",
    "    return anchor_vecs\n",
    "\n",
    "# ----------------------------\n",
    "# --- Main pipeline ---\n",
    "# ----------------------------\n",
    "\n",
    "if __name__ == \"__main__\":\n",
    "    dialogue_file = \"Complete.txt\"\n",
    "    anchors_dir = \"data\"\n",
    "\n",
    "    dialogue = parse_dialogue_multiline(dialogue_file)\n",
    "    steps = [turn['Text'] for turn in dialogue if turn['Text'].strip()]\n",
    "    speakers = [turn['Speaker'] for turn in dialogue if turn['Text'].strip()]\n",
    "\n",
    "    embeddings = [get_embedding(s, model=\"nomic-embed-text\") for s in steps]\n",
    "    embeddings = np.array(embeddings)\n",
    "\n",
    "    anchor_vecs = load_anchor_embeddings(anchors_dir, model=\"nomic-embed-text\")\n",
    "\n",
    "    # --- KMeans instead of DBSCAN ---\n",
    "    k = 5  # try different k values\n",
    "    kmeans = KMeans(n_clusters=k, random_state=42, n_init=10)\n",
    "    cluster_labels = kmeans.fit_predict(embeddings)\n",
    "\n",
    "    # --- t-SNE visualization ---\n",
    "    tsne = TSNE(n_components=2, random_state=42, perplexity=5, metric=\"cosine\")\n",
    "    emb_2d = tsne.fit_transform(embeddings)\n",
    "\n",
    "    hover_texts = prepare_hover_text(speakers, steps)\n",
    "\n",
    "    fig = px.scatter(\n",
    "        x=emb_2d[:, 0],\n",
    "        y=emb_2d[:, 1],\n",
    "        color=cluster_labels.astype(str),\n",
    "        hover_name=speakers,\n",
    "        hover_data={\"Text\": hover_texts},\n",
    "        title=f\"Epistemoverse Dialogue Clusters (KMeans, k={k} + t-SNE)\"\n",
    "    )\n",
    "    fig.update_layout(width=900, height=600)\n",
    "    fig.show()\n",
    "\n",
    "    # Print cluster stats\n",
    "    unique, counts = np.unique(cluster_labels, return_counts=True)\n",
    "    print(\"Cluster distribution:\", dict(zip(unique, counts)))\n"
   ]
  },
  {
   "cell_type": "code",
   "execution_count": null,
   "id": "752e3194",
   "metadata": {},
   "outputs": [],
   "source": []
  }
 ],
 "metadata": {
  "kernelspec": {
   "display_name": "Python 3",
   "language": "python",
   "name": "python3"
  },
  "language_info": {
   "codemirror_mode": {
    "name": "ipython",
    "version": 3
   },
   "file_extension": ".py",
   "mimetype": "text/x-python",
   "name": "python",
   "nbconvert_exporter": "python",
   "pygments_lexer": "ipython3",
   "version": "3.10.11"
  }
 },
 "nbformat": 4,
 "nbformat_minor": 5
}
