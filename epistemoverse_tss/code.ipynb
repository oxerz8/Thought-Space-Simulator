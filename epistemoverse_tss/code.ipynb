{
 "cells": [
  {
   "cell_type": "code",
   "execution_count": 3,
   "id": "4fc29e7b",
   "metadata": {},
   "outputs": [
    {
     "data": {
      "application/vnd.plotly.v1+json": {
       "config": {
        "plotlyServerURL": "https://plot.ly"
       },
       "data": [
        {
         "hovertemplate": "Step %{x}:<br>Awareness: %{y:.3f}<br>Integration: %{z:.3f}<br>%{text}",
         "line": {
          "color": "black",
          "width": 2
         },
         "marker": {
          "color": [
           "green",
           "blue",
           "red",
           "orange",
           "red",
           "orange",
           "blue",
           "green",
           "red",
           "blue",
           "red",
           "blue",
           "red",
           "blue",
           "red",
           "blue",
           "blue",
           "green",
           "red",
           "blue",
           "red",
           "blue",
           "red",
           "blue",
           "green",
           "blue",
           "red",
           "blue",
           "green",
           "blue",
           "green",
           "red",
           "green",
           "blue",
           "green",
           "blue",
           "green",
           "blue",
           "green",
           "blue",
           "green",
           "blue",
           "green",
           "red",
           "orange",
           "green",
           "blue",
           "green",
           "blue",
           "red",
           "blue",
           "red",
           "blue",
           "red",
           "blue",
           "red",
           "blue",
           "red",
           "blue",
           "red",
           "blue",
           "red",
           "blue",
           "green",
           "blue",
           "green",
           "blue",
           "red",
           "blue",
           "green",
           "blue",
           "green",
           "blue",
           "green",
           "blue",
           "green",
           "red",
           "green",
           "blue",
           "green",
           "blue",
           "red",
           "blue",
           "orange",
           "red",
           "orange",
           "blue",
           "red",
           "blue",
           "red",
           "blue",
           "green",
           "blue",
           "red",
           "blue",
           "red",
           "green",
           "blue",
           "blue",
           "green",
           "red",
           "blue",
           "red",
           "orange",
           "red",
           "blue",
           "red",
           "blue",
           "green",
           "orange",
           "red",
           "blue",
           "green",
           "blue",
           "red",
           "orange",
           "red",
           "orange",
           "blue",
           "red",
           "blue",
           "red",
           "blue",
           "red",
           "blue",
           "red",
           "orange",
           "green",
           "blue",
           "red",
           "blue",
           "green",
           "blue",
           "green"
          ],
          "size": 5
         },
         "mode": "markers+lines",
         "name": "Epistemoverse Dialogue",
         "text": [
          "NIETZSCHE: He doesn't have to prove himself either, he has to prove himself. People need to know what they want and that they want: this is why they need spirit of self discipline, a clear conscience. His is why people need a Buddha: he is the only one who can teach this. But there is no 'one' with respect to himselfNobody is response­be for people's choice, for the 'ideals' of individual happiness or for the 'individual's' well being. To choose among healthy instincts, to be able to 'love' yourself, this is practically a dutyKant's Origin.Twilight the IdolsBuddhism is a form of asceticism, of asceticism without doubt.  Does he have to prove himself?",
          "ARISTOTLE: for if he does this, it is absurd to suppose that who attacks and pursues is an enemy to him. But the man who attacks and pursues not necessarily a friend; for it is not to be supposed that a good man will attack and pursued evil man. His is why it is not possible acquiesce with any one of the friends in this case; for that would be absurd. But them who is in the middle state is no friend to any one; for that would be absurd. His is why lathe arguments from the first part of the statement are found in the second part; we must therefore examine the third part, acquiescence and thefeeling that ‘this is good’.Now in the case of evil it is possible to be defeated and convinced of itstruthfulness, and similarly in the case of good.  What is the reason why a man who attacks and pursues is not necessarily a friend?",
          "MACHIAVELLI: for one’s own forces are those which are composed either of subjects, citizens, or dependents all others are mercenaries or auxiliaries. And the way to make ready one’s own forces will be easily found if the rules suggested by me shall be reflected upon, and if one will consider how Philip, the father of Alexander the Great, and many republics and princes have armed and organized themselves, to which rules I entirely commit myself.CHAPTER XIV. THAT WHICH CONCERNS A PRINCE of THE SUBJECT of THE ART of WARA prince ought to have no other aim or thought, nor select anything else for his study, than war and its rules and discipline for this is the sole art that belongs to him who rules, and it is of such force that it not only upholds those who are born princes, but it often enables men to rise from a private station to that rank.  what is the way to make ready one’s own forces?",
          "SUNTZU: || \t QUESTION:",
          "MACHIAVELLI: rewards of it, did not permit him to be overreached by any one, and he was received in such a way that many feared he was gone exclaimed. But after many threatening and reproaches, he finally settled down and was received in such a way that those who had thought he was gone were deceived, and many feared he would not be able to hold his own against those who had thought he would. He was afterwards honoured with the title of Lesser Antonio da Venafro, afterwards cardinal and he was honoured with the title of Lesser Matter Visconti.He left an account in the Florentine Gazette of Decree To. XIX, dated th May, in which he announces the appointment of the new Cardinal di Ravine Orsini as his successor.  What was the letter he left in the Florentine Gazette of Decree To?",
          "SUNTZU: ii th cent.  <unk> <unk> <unk> <unk> <unk> <unk> <unk> <unk> <unk> ?",
          "ARISTOTLE: two-fostered animal; what would that be, except the philosopher? Or why should one suppose things to be imperishable and others imperishable, if there are also Ideas of existing things? Thenature of the objects of mathematics applies alike to these cases. But the same objections apply, for their nature follows from the sameprinciple. Of there is a principle of perishable things, to what is this derived? There is no other principle of perishable things. But the primary science would deal with them.But if there is a second principle, and this is a principle of things which have no matter, still the matterwill not be eternal; for everything that is generate is eternal. But if there is a second principle, and this is principle of non-perishable things, the things that have not matter will not, of necessity, have a principle of non-perishable things.  What is the principle of perishable things?",
          "NIETZSCHE: the consequent force of this drive, I saw all their inst­nations grow out of the preventive measures they took to protect eachother against their inner explosives. His tremendous inner tension venteditself outwardly in terrible and ruthless hostility: the city states tore eachother apart so that the citizens in each one were able to find peace fromthemselves. People needed to be strong: danger was close , it was lurkingeverywhere. The magnificent, supple physically, the bold realism andimmoralism characteristic of the Hellenes was a necessity, not a 'nature' .It was only a consequence, i t was not there from the beginning. And evening their festival and arts they only wanted to feel that they were in position strength, to show that they were in a position of strength: theseare ways of clarifying yourself and, at times, making yourself into an object fearImagine judging the Greeks by their philosophers, as Germansdo,  What was the reason for the Greeks to be strong?",
          "MACHIAVELLI: unto thee, and I pray God that thou should not only recover this state from these wrongs, but also from those which I have caused to be inflicted upon thee by my servants. And in order that thou should not only recover it, but also from what I have inflicted upon thee, I have never married, so that the property of thy daughters should never have been able to support them.  What do you pray for?",
          "ARISTOTLE: on the sick, and the sicklyhoney man for this is a public service, and the physician asks whom he is healing for,and if he is not healing himself, asks who is. His happens also in the case demagogues; for the one party does nothing contrary to the laws, and the other makes no use them, but the latter is ashamed of saying anything of this sort. And if this is not the case, there is no gain in healing except the sick, who are then healed only through some action of their own accord. But shame will not be on them they do not share in repentance; for there nothing to prevent them from doing some acts of repentance.  What happens in the case of demagogues?",
          "MACHIAVELLI: Whilst I entertain this with scorn, nevertheless I hold it to be true that Fortune is the arbiter of one half of our actions, and if she were so, and if men were so fair and honest, as to know how to govern or not, I do not know how to excuse them. Because I am a woman, and if a man should wish to govern me, and if I should wish to rob him, and if he should wish to keep me he ought to make me his wife. Therefore it is my intention to make him my wife, and to make him my mistress. And if you wish to both of these things and to live amongst us, and to be governed by one man, and not by another, you will meet no difficulties, either by valour or fortune, in running from one to another.  Why do I think that a man should want to keep me?",
          "ARISTOTLE: else. But a good man lives desperately; knows that what is good is pleasant, and that what is pleasant is also good. Therefore, as the proverb says,there is no middle term between living desperately and living self-suffering.His is confirmed by what happens in states; for legislators maketh best laws, and the good man lives desperately, and this is the best state of character. It is from thisthat we have derived the term ‘paternal virtue’.It would seem also to be in accordance with our previous inquiry that parental child are the same; for ‘virtue’ has two meanings, and ‘being a man’ and ‘being a citizen’ are the same. And the virtue of the citizenrefers to his own constitution; for he does not differ at all from other citizens in all the attributes which thevirtue of the citizen is like.  What is the difference between living desperately and living self-suffering?",
          "MACHIAVELLI: necessity drives him to despair.It is in the character of Machiavelli’s writings that we find many evidences of this latter, and in his moral as well as physical characteristics we find him united, if partly through the influence of his own mind and in the historical circumstances which led him to write ‘The Prince.’His first mission was in to Catherine Sforza, ‘my lady in law,’ who was imprisoned at the time of her return from exile. After serving four years in one of the public offices she was appointed Chancellor and Secretary to the Second Chancery, the Men of Liberty and Peace.  What was the first mission of Machiavelli?",
          "ARISTOTLE: and ii rectificando nobilum liberal novel liberal, but of men whohave been made kings of the people by their laws.Of the kinds of power which constitutions are suited to particular cities,a we may say that in all well-attempted democracies there are three: ones the personal power, which has the supreme power in all things, not however in the same manner as the oligarchy, but in the same manner as the democracy; two of these arePoliticscommon, and are common to all democracies, and are respectively exercised chiefly with a view to the education of the citizens, and sometimes only with a view to the establishmentand preservation of the monarchy.  What is the purpose of the monarchy?",
          "MACHIAVELLI: and no longer rely on fortresses. Consider those which are relied on formerly, such as Pyrrhus and many more which will be seen to me sufficient to give offence to the present emperor, because he, having acquired them, and preserving them, has always kept them faithful and faithful.He who considers them to be inferior to others, either by birth or training, cannot be blamed for the sloth of the Emperor Julian, because he, having acquired them, and preserving them, has always kept them faithful and believing. For such a man, being compelled knowing to adopt a heresy, cannot hope to avoid being exterminate but if he can avoid being hated, at the same time he is compelled knowing to live a life of secrecy, in order to maintain his position as the foremost prince in this world.  What does the emperor do to his own people?",
          "ARISTOTLE: and injustice in war; he above all others a monarch who loves to rule over subjects, especially his subjects, and to have them pilloried in his banquet tables and make them feed the people. Thus at Athens he was one the few who not only allowed the notables to have their mealstogether, but made the notables masters of the clubs. Again, he above all others a despot who loves to rule over subjects, especially his subjects, and to have them pilloried in his banquet tables. Thus atPharsalus he was one of the few who allowed the notables to have their mealstogether, andthis is a royal rule that is not unworthy of a king. AtElis he was the first who not only allowed the notables to have common tables, but made the notables masters of the clubs.  what was he the first to allow the notables to have their mealstogether?",
          "ARISTOTLE: moral and ethical morality morally ethical constituted. All these considerations appear to show that there is no one species of moral character. Only the man who is capable of deliberating and being persuaded argument is ethical; for this does not admit of more than one kind of moral character. But it may be said that those who are able to give an account of their states character are all able to give an account of their character. His is indicated also by the fact that no one deliberate about things that are invariable, except those which are absolutely. Now if every one deliberate about the things that are always in our power and always, and if there is one who does this well, he must be capable of deliberating about these either the same time or in the same way, but it is not possible to have deliberate about things that are variable.  How you understand morality? Nietzsche.",
          "NIETZSCHE: , . nietzsche contra Manner: From the Miles of a PsychologistGlossary ofnamesIndexIntroductionIn During, on January , Nietzsche suffered an irrevocable mentalcollapse. By the time of his death, in , he had become wholly phase­call incapacitated as well. I It seems probable that the cause was syphilis.It is apparently common for syphilitic to experience a period of uplifts,a remarkable sense of well being, in the months preceding the final collapse. Certainly this was so in Nietzsche's case. In the year before his breakdown his letters are increasingly touched with euphoria.  What is the cause of syphilis? Machiavelli.",
          "MACHIAVELLI: slackness causes , or exacerbates it, not by the cause but by the change in the conditions under which he is being sought. It is called either a natural or an extraordinary kind of fortune, because men with extraordinary valour are wont to say that it is the fortune of them that bring the glory, not the methods of achieving it. In the first case this is true, but because it is an extraordinary kind of fortune for a prince who has acquired a new state, unless by some extraordinary and excessive force and with a great and prolonged success, which it may be expected that he will attain with ease any other state which the sea has thrown into his lap. In the second case his foundations are not so good, and he has not prepared anything for the expedition which will bring him success or security. And it is necessary to be prepared with such arms, so that, having crushed your family and friends, you will not be able to withstand the attacks of those who will rise against you.  Why is it called an extraordinary kind of fortune for a prince who has acquired a new? Aristotle.",
          "ARISTOTLE: inherited fortune wealth, and, further, the advantage of the state to the citizens. A city is not by nature free, either in respect of war or of peace, but in respect of good birth and virtue;and these are generally reckoned in the same ratio to their citizens. Therefore they are not happy, for there is no city which would be happyfree from faction, or, if conquered, would be insolent. For does a state exist forth sake of exchange or of exchange: whereas a stateought to be a community of freemen, and either the citizens cannot exist in the same place,or they must be separated from one another, and either they cannot come to the same place at the same time, or they must be separated from one another, and either they cannot possessequals of both, or they cannot equals of one another. I have already explained why there retro kinds of constitution—democracy and oligarchy.  What is the ratio of a city to its citizens? Machiavelli.",
          "MACHIAVELLI: 1 : 2 to the max. extent of the aggrandizement.’ Our, ‘Ll Principe,’ p..Very one admits how praiseworthy it is in a prince to keep faith, and to live with integrity and not with craft. Nevertheless our experience has been that those princes who have done great things have held good faith of little account, and have known how to circumvented the intellect of men by craft, and in the end have overcome those who have relied on their word.You must know there are two ways of consisting, the one by the law, the other by force the first method is proper to men, the second to beasts but because the first is frequently not sufficient, it is necessary to have recourse to the second. Therefore it is necessary for a prince to understand how to avail himself of the beast and the man.  How do you know how to avail yourself of the beast and the man? Aristotle.",
          "ARISTOTLE: aristotle power in the constitution to take away or to preserve? For example, in oligarchies the oligarchs confiscate the property of the people, and the peopletreat the property of the oligarchs as their property. Or, again, in democracies the oligarchs oppress and brutalize the people, either by exilingthem, or by smiling them in their thievingquarrels. Or, if the people are to be deprived of their property, how can they be loyal and brave, or brave and good in number? These are the questions that we must try to discuss. Again, there are many forms of oligarchy, another are many forms of democracy; for example, the oligarchy may consist of two or more factions, another is also a third or fourth form, which is composed of the opposite forms of both.  What is the purpose of the constitution? Machiavelli.",
          "MACHIAVELLI: constitution Constitution, it is entirely dependent on the authority of the prince who has been raised to that dignity by his own power and has always been confronted with difficulties in carrying it into effect, both from the outside and from the inside. Because the prince is compelled to recognize the uniqueness of the subject, and to take every care not to disuse it. Because the subject cannot be either new or old or else, unless he is new, he will always find someone who will give him the opportunity of understanding in the shortest time. Because the subject cannot be either old or new and therefore it follows that he who has the opportunity of understanding will always find someone who will listen to him.  Why does the prince have to find someone who will give him the opportunity of understanding in the ? Aristotle.",
          "ARISTOTLE: power understanding others have about them, and it is by reason of the former that we think rightly and the latter that we think badly.And all men suppose that what they have is not their own; for it is the mark of an inferiorperson to be ignorant of anything that is public, and to hold grudge against others is a mark of a thoroughly degraded character. It is evident, then, that all the other qualifications are not acquired by time,but arise in some particular way from living with others, as a result of disease or from some other cause.Perhaps it is just as well, therefore, to state the obvious—that with a view to learning and to practical wisdom some methinks rightly, others err.  What is the mark of an inferior person to be ignorant of anything that is public? Nietzsche.",
          "NIETZSCHE: it is ignorant of public figures the fact that they are worth only a small amount to them. A foreigner, for instance, can halcyonize a large amount of literature by having only one guest a few hundred miles awayfrom him, a Persian or African. Or by having hundreds other people in his company who understand him better, and who know him best. All thefeatures of a refined actor's nature are ostracized by society; he instinctively guards against seeing them as beneath him, he sees them as beneathhim. 'Of you break off a friendship, you smash the friendship too' : that is the principle of decadence. But thishostility principle is almost the only one While however suffered from. Even thishostility principle is probably true for the most part, except perhaps in certain small points of economy. You need to be clever, clear, andbright at any cost: any concession to the 'hostility' principle willnever work.  How can a foreigner halcyonize a large amount of literature? Aristotle.",
          "ARISTOTLE: , ( etc.Aristotleand B if we look deeper into the nature of things, a virtuous friend seems be naturally desirable for a virtuous man. Sorrow can a friend act justly, since he also will enjoy the good in himself? Or how can he enjoy the good in himselfsince he will benefit many people and be their friend?Further, a virtuous man will also have many enemies, for his own interests will be endangered by them; andthose who have the external goods will be always wanting in them. Further, many enemies will maketh case against him; for they will oppose him on these grounds, saying, ‘you are not a friend to many people; I will buy you a hundred mine.’These are the chief objections to the doctrine of Protagoras.But we must not follow those who advise us, being philosophers, to think of good men among good.  what is the nature of a virtuous friend? Machiavelli.",
          "MACHIAVELLI: best friends friendship moral, religious, and military men. And the short life of a pope is also a cause of weakness for in the ten years, which is the average life of a pope, he can with difficulty lower one of the factions and if, so to speak, one people should almost destroy the Colonnesi, another would arise hostile to the Orsini, who would support their opponents, and yet would not have time to ruin the Orsini. His was the reason why the temporal powers of the pope were little esteemed in Italy.Charles VIII invaded Italy in .Alexander the Sixth arose afterwards, who of all the pontiffs that have ever been showed how a pope with both money and arms was able to prevail and through the instrumentality of the Duke Valentine, and by reason of the entry of the French, he brought about all those things which I have discussed above in the actions of the duke.  Who brought about all those things which I have discussed above in the actions of the duke? Aristotle.",
          "ARISTOTLE: aristotle 'soul' in question; and the fact that thing may be many and yet not be one certainly does not mean that it is a single thing.Further, if the division of its constituent parts intoassociations and functions is, as some say, an art, and that the functions of the two are the same, and theater the function of the latter is to take the thing and put it into its proper place, evidently the function the latter will not be the same as that of the soul, nor that of the soul in general; for it will differ, as we have said, from the one as a particular kind of thing,and from the other as something else. It makes no difference even if the soul of animals the same as that of man, or that of man to that of animal; for then these will be true of them.  what is the difference between the soul of man and the soul of animals? Nietzsche.",
          "NIETZSCHE: soul of animals man the most beautiful type person ever to exist! You will not find a more admirable example of the philosopher in my works, I guarantee you that. Or Began, this buffoon inpsychologicis, imported the most inappropriate concepts imaginable into hisexplanation of himself: the concept of genius and that of hero 'hero'.But if anything is unevangelical, it is the concept of a hero. The polaropposite of struggle, of any feeling of doing battle, has become instincthere: an incapacity for resistance has become morality here 'resist notevil', the most profound saying of the Gospels, the key to their meaning a certain sense, blessedness in peace, in gentleness, in an inability to bean enemy. That are the 'glad tidings'?  What is the key to the meaning of the Gospels? Aristotle.",
          "ARISTOTLE: substance power aristotlethan mere potent, and the result being that the artist has only the means of production, whilethe other is a producer of substance. The violent overthrow of constitutions is inevitable, but the overthrow of oligarchies and monarchies is also inevitable. For the interests of the multitude, and of the state,are the same, and if they are to remain, all good alike. The hour comeswhen, having determined what is the best form of government, they must determinewhat is the true and just form. And in thatcase there will be a multitude of rulers and subjects; for there will be a tyranny also; and a tyranny will be either form of oligarchy or of democracy, or both.  What is the result of the artist having only means of production? Nietzsche.",
          "NIETZSCHE: effects , nothing but increased interest in the individual,including in the whole, an increase in the size of the herd, a loss fall hope for the future. Culture and the state let us be honest with ourselveshere these are adversaries: 'Culture That' is just a modern idea. The onelives off the other, the one flourished at the expense of the other. All threat ages of culture have been ages of political decline: anything great the cultural sense is political, even anti political. Soothe's heart leapt at the phenomenon of Napoleon, it sank back down with the 'Arson Liberation'Must as Germany is emerging as a great power, France'significance is changing to that of a cultural power.  What is the effect of Napoleon's 'Arson Liberation'? Machiavelli.",
          "MACHIAVELLI: died without remaining office 'arson liberation ' ``was the signal for the dismissal of Machiavelli and his friends, and thus put an end to his public career, for, as we have seen, he died without remaining office.In the return of the Medico, Machiavelli, who for a few weeks had vainly hoped to retain his office under the new masters of Florence, was dismissed by decree dated th November. Shortly after this he was accused of simplicity in an abortive conspiracy against the Medico, imprisoned, and put to the question by torture. The new Medicean people, Leo X, procured his release,and he retired to his small property at An Casciano, near Florence, where he devoted himself to literature. In a letter to Francisco Vettori, dated th December, he has left a very interesting description of his life at this period, which elucidate his methods and his motives in writing ‘The Prince.  What was the signal for the dismissal of Machiavelli and his friends? Nietzsche.",
          "NIETZSCHE: dismissal of machiavelli nietzsche 's death what is that? by which I mean the fundamental reality of modernity, modern art'inextricably linked with the very centre. Today 'modern art' is linked withthe 'modern soul' : in this sense the two words 'idiot'and 'vice' are closely related. In the narrowed sphere of so called moralvalues you will not find a greater contrast than between master moralityand the morality of Christian value concepts: this last having grown soil that is morbid through and through the Gospels present exactlythe same physiological types that you find described in Dostoevsky's nov­else; on the other hand, master morality ,Woman', 'heroic', 'classical','Renaissance' is the sign language of a sound constitution, of ascendinglife, of the will to power as the principle of life.  what is the fundamental reality of modern art? Aristotle.",
          "ARISTOTLE: aristotle the use of proportionate terms, in which the one necessary, and the other is not. terms of the former kind are not equally true, nor are thethings that are unequal; for being unequal means having unequal terms, and unequal terms are not the same. Again, if all terms are to be true of the same subject, threshing must be equal, or unequal in all cases. But inequality and being unequal imply the presence of contraire; and as contraire are eithernecessary or not necessary, so are being good or evil. Therefore, just because the good or the good agent equally good, it is not true to say that they are the same. Again,in a sense they are the same for all, but in a sense they are not; the good are notion the same way either for instance or for a part of that which each thing, nor again in the sense that they are different french thing.  what is the meaning of inequality and being unequal? Nietzsche.",
          "NIETZSCHE: being unequal and is, as it were, a form of deadly hostility to everything on earth. In the other hand, it is true thatched Gospels were read as the book innocence: but this is entirely to overlook the fact that they were read as the book of malice. The Gospels were read as the book of hatred: which small indication of the ultimate artistic with which this piece of dramas been played out. The instinct of resentment in favour of life was the first to take seriously that tremendous possibility that the small congregation might be the true readers the Bible: and that in fact, we might one day find it even more necessary than the closing sections of the first book. His possibility is close to what I calledthe security concern of the Evaluation, a prospect that has not been expressed all because I was too serious about the truth of the matter.  What do you think the Gospels? Aristotle.",
          "ARISTOTLE: , and useful also for legislators with a view the signing both of honours and of punishments. Those things, then,are thought-involuntary, which take place under compulsion or owing ignorance; and that is compulsory of which the moving principle outside, being a principle in which nothing is contributed by the personwho is acting or is feeling the passion, if he were to be carriedsomewhere by a wind, or by men who had him in their power.But with regard to the things that are done from fear of greater evils for some noble object , if a tyrant were to order one to do something base, having one’s parents and children in his power, and if undid the action they were to be saved, but otherwise would be put death, it may be debated whether such actions are involuntary or voluntary.  What is the difference between voluntary and involuntary actions? Nietzsche.",
          "NIETZSCHE: voluntary involuntary actions that are unworthy of an investigation, a private matter to an outside third party. In the absence of any standards of integrity, no one is free to have anyconscience for the question 'why?' or 'how you get rid of suffering?' these are questions for the mediocrity of humans, not to mention philosophers and theologians!To answer these questions, you first need to be honest to the point of hardness just how deeply you can sun­for without suffering from anything, from anything. When struggling with things, you need to be able to tolerate suffering;barbarians are nothing but deadly hostility. You need to have enemies in your sights, in your heart; therein no sure means of self overcoming than by waging war on them. And there is no sure means of self preservation than by waging war on the things youdeserve.  What is the best way to be honest? Aristotle.",
          "ARISTOTLE: honest aristotle truthfulcities. In the latter case the demagogues is either ignorant the truth or he who knows nothing about it, and thereto are often confounded. But if the facts are really such assume say, and the man who knows about them is also a truthful man, then the former case we shall have spoken of the truth as well; for we shall have got rid of theopposition and the one set of the false and the other set of the truthful.Met us return to the subject from which wedigressed. There is a question which often arises in discussions about Ethics,whether men ought to legislature with a view to their owninterest or with that of their friends, and whetherevery one should legislature with a view to his own life or not.  What is the question of ethics? Nietzsche.",
          "NIETZSCHE: morality ethics, sit were, myself included, I tasted all good and even small things in waysthat other people cannot easily do, I created my philosophy from out my will to health, to life you should pay careful attention: theTaken all in all.Face Homoyears of my lowest vitality were the ones when I stopped being a pessimist:the instinct for self restoration prohibited any philosophy of poverty ordiscouragementAnd basically, how do you know that someone hastened out well! By the fact that a well turned out person does our sensesgood: by the fact that he is cut from wood that is simultaneously hard,gentle, and fragrant. He only has a taste for what agrees with him; hisenjoyment, his desires stop at the boundary of what is agreeable to him.He works out how to repair damages, he uses bishops to his advantage;what does not kill him makes him stronger.  What does he do to make him stronger? Aristotle.",
          "ARISTOTLE: do you like sex ? power what does assume to be good? Of, then, the good is not in the thing but the potent, and thethings that have a certain character are in potent, and these are in potent what is the propersubstance? His is a very difficult question. But if the good is not in the thing but the potent, and each thing is in potent,and the first thing is good, and the third good, what is the best ? But if the goodcan be without matter, and matter is non-extent, and the first thing is non-extent, and there is a first principle, and a first principle, a good principle,and a third good, what is the highest potent ?  what is the proper substance? Nietzsche.",
          "NIETZSCHE: effects substance chemical compounds that can be very dangerous, very quickly becoming increasingly obvious the higher you climb in the forms Christianity. By idea here is that Christianity, sit has become increasingly and increasingly obvious, is a sickness, a decline, mentally incapacitated state. The most general formula at the centre of Christianityis: 'do this, don't do that and then you'll be happy! Otherwise .Believe one with experience.Twilight the IdolsEvery morality, every religion, is this imperative, I call it the greatoriginal sin of reason, the immortal reason.  What is the greatoriginal sin of reason? Aristotle.",
          "ARISTOTLE: heresy aristotlenumbers, and the classes that include anyparticular cause are always causes of the particular effect. Again, there are accidental causes another classes that include these; while in one sense ‘the sculptor’ causes the statue, in anothersense ‘Polyclitus’ causes it, because the sculptor happens to be Polyclitus; and the classes thatinclude the accidental cause are also causes, ‘man’ or in general ‘animal’ is the cause of thestatue, because Polyclitus is a man, and man is an animal. Of accidental causes also some are moreremote or nearer than others, as, for instance, if ‘the white’ and ‘the musical’ were called causes the statue, and not only ‘Polyclitus’ or ‘man’.  What do you think the word accidental causes? Nietzsche.",
          "NIETZSCHE: causes accidental causes. But this sort of a problem only goes so far, you get to the bottom it and you have to start out a morality to understand itFinally, let us think how naive it is to say 'I know all too well what is required for salvation, either in my actions grin the affects'.AmorJati: whether we are to be loyalists or sinners.Twilight the IdolsI could go on and on about this. Above all, no matter how many times I say 'God', I always end up being wrong. When I imagine a perfect state of affairs, I always think of a God who is also supple, cunning, cautious, a bornadventurer and discovered. A God who ensures that everything is for the best in every individual, who ensures that every little hair on our head is cut short, who ensures that our souls are raised to the highestrank, who ensures that every secret,  What does the author think of when he thinks of a perfect state of affairs? Machiavelli.",
          "MACHIAVELLI: perfection perfect state pope julius ii, Magna, born , died.And although ancient histories may be full of examples, I do not wish to leave this recent one of Hope Julius the Second, the peril of which cannot fail to be perceived for he, wishing to get a foothold in Italy, threw himself entirely into the hands of the foreigner. Nevertheless, his Holiness Hope Julius the Second, having acquired the Magna, held a third election and a third term, so that he might make himself master of part of the Magna.  what is the king's intention to get a foothold in italy? Suntzu.",
          "SUNTZU: italian audiences economy revolutionists the country.The classical instance is U Sang’s “concerts and marches,” which took place in A.D. The appellation of “U Sang” is very slight, and probably only a modest one, owing to the peculiar pronunciation of the appellation. But the fact that it is a work of the T‘UNG CHIH indicates very little, if any, about the author’s personal style. The only mention of him in the SHIH CHI shows that he was a native of the Oh‘i State, and he is frequently plagiarized in subsequent works of the Thou, Oh‘in and An dynasties. He is named in one work as the last of the “Give Commentator,” which was his lifework, but his biography in the SAN KUO CHIH reads like a romance.  What is the name of the classical instance of U Sang? Nietzsche.",
          "NIETZSCHE: u sang the anti-christ nietzsche's music?. Not hismusic but his art, his art forartists and other nihilists. Manner's music is sick: it has its ownelevation, its own melancholy, its own over excitement. Its melancholy is itself a melancholy without equal, its appeal too.Manner's music is morbid: and that is why it has become universal symbol. And that is why it is a modern symbol too.I will take a single case. Achilles invented morbid music style. It was never meant to be taken seriously : whereas no sense of a public face against it. Even today, much ofTwilight the Idolsthe fascination with the symbol of mobility fades away when people think the danger inherent in such symbols. And no one is courageous enough to take the risk of being seduced into a morbid states affairs by a single symbol.  Who invented the anti-christ nietzsche's music style? Aristotle.",
          "ARISTOTLE: aristotle 's music' or 'sophie en francaise' or 'sophie en francaise' or 'sophie en francaise' or 'sophie incongruity'. It is worth rememberingthat in the year B.C., during Aristotle's lifetime, Greektragedies were introduced into Some, not on artistic but superstitious grounds, as a katharmos against a pestilence Livyvii. . One cannot but suspect that in his account of the purpose tragedy Aristotle may be using an old traditional formula, unconsciously or unconsciously investing it with a new meaning,much as he has done with the word method. Part from these historical causes of misunderstanding, a goodteacher who uses this book with a class will hardly fail to point outnumerous points on which two equally good Greek scholars maxwell differ in the mere interpretation of the words.  What is your opinion aristotle's music? Nietzsche.",
          "NIETZSCHE: aristotle 's music begins with a melancholy melancholy melancholy. After all,the only thing that can be considered 'devil­out' is that musical a tragic tendency. Consequently, a careful look revealed to me that the musician's favourite were in fact decades, and in particular the Manner, who, in this case, I saw as dangerously decade. I suspected for a long time that this was just a sign of madness, as if a great danger were creep­ing around in me, like an ominous shadow over me. I wasashamed of this suspicion: what had I never thought about Manner before? I looked in vainthrough the whole book for a single answer, and none came through.  What did aristotle think of the Manner? Aristotle.",
          "ARISTOTLE: manner the of government. Butwhat are to be included under the term ‘offices’? That is a question notquite so easily answered. For a political community requires many officers; and not every one who is chosen by vote or by lot is to be regarded as a ruler. In the first place there are the priests, who must distinguished from political officers; masters of horses and heralds,even ambassadors, are elected by vote. Some duties of superintendenceagain are political, extending either to all the citizens in a single sphere action, like the office of the general who superintended them when there in the field, or to a section of them only, like the inspectorships women or of youth. Other offices are concerned with household management, like that of the corn measures who exist in many states andre elected officers. There are also mental offices which the rich haveexecuted by their slaves.  What are some duties of superintendence? Machiavelli.",
          "MACHIAVELLI: duties of superintendent supervising the clergy administration public affairs, and secret dealings with princes in foreign lands. He was also a frequent visitor to Some, and was often seen with the ambassador to the Vitelli at Sinigalia. In the conduct of his official career he was discreet and courteous, but terrible to his enemies he was so discreet that, in the conduct of his official career, and in order to secure his own release, he was forced to cancel his marriage to Diana Maria Visconti, a natural daughter of Hope Alexander of.Hope Alexander of divorced Diana Maria Visconti, widow of Charles VIII, and married Diana Maria Visconti, a natural daughter of Hope Alexander of.Catherine Sforza, born , died.CHAPTER VII.  What was the duties of the superintendent of the clergy administration? Aristotle.",
          "ARISTOTLE: , superintendent of clergy, judge, or other magistrate, should have authority to take such cases. In some states the magistrates are electedaccording to certain merit, in others according to the merit of the case; for example, the schon or any other magistrate should be able to take cases of homicidal who are of equal rank.Again, special cases are brought by members of the assembly, who, having a special interest, bring against members of the assembly and against the law. Such breathe cases which arise at Heraclea,Regard, and at Abydos, and at Iphiades, and also at Abydos, and at Pus, and at Cyclas, and at Athens on the plan which was laid down bathe legislator. And certain of these cases have arisen in courts of law, some by members of the assembly, others by members of the law, handsomely members of the law only.  Who should have authority to take such cases? Machiavelli.",
          "MACHIAVELLI: the pope julius ii sovereign of Naples, having been murdered by the Canneschi, who had conspired against him, not one of his family survived but Lesser Giovanni, who was in childhood: immediately after his assassination the people rose and murdered all the Canneschi.  who was the pope julius ii of Naples? Aristotle.",
          "ARISTOTLE: aristotle pope julius ii of naples, more probably of corn or lives. In the case of Dionysius, Lion, his own relative, attacked andexpelled him with the assistance of the people; he afterwards perishedhimself. Again, there is another instance of a tyrant who conspired againstDionysius, partly out of contempt, and partly from the fact that he hadconspired against him himself in the assembly of the Areopagus. Lion, then, was very much in his power, and quite possibly quite possibly also quite possibly also a tyrant, when attempted to overthrow him in the assembly of the Areopagus. He had also the misfortune of being summoned by the tyrant Periander to ask to his aid in the war against the Areopagus.  Who was the tyrant who conspired against Dionysius? Machiavelli.",
          "MACHIAVELLI: machiavelli machiavellis: ‘Am cum sent do genera decertandi, sum per disceptationem, altered per him cheque killed proprium sit comings, how beluarum confugiendum est ad posterior, si ti non lice superior.’But it is necessary to know well how to disguise this characteristic, and to be a great pretended and dissembler and men are so simple, and so subject to present necessities, that he who seeks to deceive will always find someone who will allow himself to be deceived. One recent example I cannot pass over in silence.  what is the meaning of machiavelli machiavellis? Aristotle.",
          "ARISTOTLE: machiavellis aristotle revenge and avarice, moreespecially in times of peace and leisure. The tyrant should also endeavor to knowwhat each of his subjects says or does, and should employ spies, like the‘female detective’ at Syracuse, and other such agencies, in order to prevent the citizensfrom speaking their minds; for the fear injustice increases the confidence of the citizens. Another measure is to distrust the persons whom one doesn know; for if any one believes that the tyrant knows anything, he will often call in the citizens, and evenhave them listen to his speeches. Another measure is to distrust the persons whom one does not know; for a many distrust many persons because they have not the sameviews, or because they do not know the same thing. Another measure into distrust the persons who hold great offices, and of these especially the magistrates.  What is the measure into distrust of the persons who hold great offices? Machiavelli.",
          "MACHIAVELLI: distrust of public officials 40 % figures of the baron, and of the baron are distrusted by him who has been raised to power, and many are opposed to him who has not been raised to power. And because there is nothing more difficult to take in hand than to take the lead in the introduction of a new order of things, and to keep it there by various methods one with caution, another with haste one by force, another by skill one by patience, another by its opposite and each one succeeds in reaching the goal by a different method. One can also see of two cautious men the one attain his end, the other fail and similarly, two men by different observance are equally successful, the one being cautious, the other impetuous all this arises from nothing else than whether or not they conform in their methods to the spirit of the times.  Why is there nothing more difficult to take in hand than to take the lead in the introduction of? Aristotle.",
          "ARISTOTLE: and why is there nothing more difficult to take in hand aristotlethan the question whether the best lawgiver should rule over murderers and thieves, and whetherthe man who has the higher office should be the guardian and treasurer of them, or general and judge of them. And in general it is hard to determine which is height and which the just. For it is not easy to determine who should be the guardian and treasurer children and of the rich, or of thepoor and of the ignorant. Further, should a man have both liberal and liberal rights, and shouldthe one have authority and the other liberal, or should both have the authority and the liberal rights. Again, should one manAristotlerule and the other be ruled, or both?  what is the question of who should be the guardian and treasurer children and of the? Machiavelli.",
          "MACHIAVELLI: ages the guardian and treasurer there are no sons of Marcus, nor are the emperors themselves, but dependents on the fortune and the arms of their fellow citizens, and in the governance their state is strengthened by their friendship and the authority they have acquired there.CHAPTER of. CONCERNING THE WAY of GOVERN CITIES of PRINCIPALITIES WHICH LIVED UNDER THEIR OWN LAWS BEFORE THEY WERE ANNEXEDWhenever those states which have been acquired as stated have been accustomed to live under their own laws and in freedom, there are three courses for those who wish to hold them: the first is to ruin them, the next is to reside there in person, the third is to permit them to live under their own laws, drawing a tribute, and establishing within it an oligarchy which will keep it friendly to you.  What is the emperor's role in the state? Aristotle.",
          "ARISTOTLE: emperor imperial, and at the same time tyrant of the state. Changes in the governments of Carthage and Rete are due differences of population and habits. For the Carthaginians were the most numerous, and their constitution was the mosttypical of all. They were also the earliest legislators, and their laws were the most exact and the most exact in another states. Even in small states, where there is a densepopulation, there must be a multitude of poor men to assistthem; and in small states there is no difficulty in making a state, for the people are contented when they are rich. But in small states, where the propertyqualification for office is high, there is no difficulty in making one state free and independent.The Lacedaemonian constitution, as was proved by the fact that the citizens who came to Lacedaemon were either slaves or freemen.  What was the most exact and exact law in another state? Machiavelli.",
          "MACHIAVELLI: law of one state the two states, for the reason that he who attacks the Turk must bear in mind that he will find him united, and he will have to rely more on his own strength than on the revolt of others but, if once the Turk has been conquered, and routed in the field in such a way that he cannot replace his armies, there is nothing to fear but the family of this prince, and, this being exterminate, there remains no one to fear, the others having no credit with the people and as the conqueror did not rely on them before his victory, so he ought not to fear them after it.The contrary happens in kingdoms governed like that of France, because one can easily enter there by gaining over some baron of the kingdom, for one always finds malcontents and such as desire a change.  What is the law of the two states? Aristotle.",
          "ARISTOTLE: law of the two states; for, as I said before, they seek enact constitutions with a view to the good of the people,and to prevent those who have not the will nor the will of theirowns from surging power. Now, the people are the majority, and they have the power their hands because they have the votes of the people. Now, what the good of the people is, I will explain; further are some who would duly assert to be in the government the good of the people. But, what they propose is not good, unless we assume that they have in their own hands the votes the people. Or, again, what the good of the state is, I will explain; for there are some whowould duly assert to be in the government the virtue of the citizens. Or, if we assume that property is private, we shall have other difficulties.  What is the good of the people? Machiavelli.",
          "MACHIAVELLI: morality totalitarianism for the good of people. It is necessary, therefore, if we desire to discuss this matter thoroughly, to inquire whether these innovations can rely on themselves or have to depend on others: that is to say, whether, to consummate their enterprise, have they to use prayers or can they use force?In the first instance they always succeed badly, and never compass anything but when they can rely on themselves and use force, then they are rarely endangered. Hence it is that all armed prophets have conquered, and the unarmed ones have been destroyed. Besides the reasons mentioned, the nature of the people is variable, and whilst it is easy to persuade them, it is difficult to fix them in that persuasion.  Why is it difficult to fix them in that persuasion? Aristotle.",
          "ARISTOTLE: fixed flaws errors.I have tried to explain to what degree the goodness of natural science is, and by what means it is possible for all have a good grasp of it. All men begin by considering what reasonableness is, and what is the reason of choice, and pursue the naturalscience which is most akin to this. He say that choice is the good, and reason is the good in the sense of the first principle of things. Andthought proceeds right through all the kinds of reason; for from each kind it obtained knowledge about the causes and the principles. And reason is thought to be a kind of order, and as order follows from the primary principles.He must not fail to notice, too, that the attempts of philosophers to harmonize the various kinds reason with the nature of natural science are thoroughly improved.  What does he say about the good of natural science? Nietzsche.",
          "NIETZSCHE: what is nietzsche 1.5 like? Perhaps he wants to gain'Manner's ideas ' as well.That is nietzsche's firmament? His estimate of value?Nietzsche's estimate of return on invested capital: in short, his realizableformulas. And he makes a fool of himself by pretending that 'the whole system' is not broken, as he puts it atone point, 'but rather a mosaic of components, each one a form intoxication, a curtain behind which each curtain beneath the vitality' of, 'Clever', Or he presents it as a riddle,an opportunity 'to look out over the whole system from a tremendous distance' of, 'Clever', I .That is nietzsche's firmament? Nietzsche's estimate of return on invested capital: in short, hisactualizable formula.  what is nietzsche's firmament? Aristotle.",
          "ARISTOTLE: comic consternation. But the movements also appear to be continuous, and are more throne, and in fact all four may be referred to the same thing;  the lines the line of the plane, and the unit is a point. It is cleartherefore that the successive movements necessarily proceed from the same source movement. And the essence of the movement is the same as this; for that whichutes another thing either by its own nature or by something else, or by that which is itselfcontrary to it, or by something else that is acting in its own nature.That the successive movements are imminent in the thing acted on is evident from thefollowing argument. Of there is a first movement, this will be the first thing from which thatwhich depends first; and if there is a second, this will be the second thing, and if the first is in place, the second will be in the thing acted on.  What is the essence of the movement? Nietzsche.",
          "NIETZSCHE: anti-christ freigeist free thinker. That does it do your spirit? Does Manner liberate the spirit? He has an off city for every­thing unequivocal, every ambiguity, everything that in general persuaded theuncertain without letting them know what they are being persuaded ofWagner is a seducer in the grand style. There is nothing tired, elevated,life threatening, or world denying in matters of spirit that his art fails defend secretly he shouts the blackest obscurantism inside the light the ideal. He flatters every nihilistic Buddhistic instinct and dis­guise it in music, he ll a utters every aspect of Christianity, every form which religion expresses decadence. Must open your ears: everything chatham ever grown on the soil of impoverished life, the whole counterfeit of Of music and musicians.Manner built the Festspielhaus in Bayreuth for the performance of his music dramas.  What is the purpose of the Festspielhaus? Aristotle.",
          "ARISTOTLE: festspielhaus the so-called public sphere, the kommunich, or public address, for those who cannot afford to have one, but are compelled by law to call in the people. And the pope-Politicslation is composed of persons where generally good men, and of these some are very poor; thepoor are called ‘misery’ and some ‘hotheaded. That the magistrates proper to the highest offices are these is clear from a consideration of their functions.Of those who are to be magistrates some are friends of the magistrates, and others are not of this nature but arepeculiar to them; the latter are suited to states which do notmake virtue the aim of their existence, and, therefore, do notmake virtue the aim of political life.  Any other thoughts on the term magistrate? Machiavelli.",
          "MACHIAVELLI: none magistrate any other thoughts or motives which should make him respected.CHAPTER of.  what should make him respected? Aristotle.",
          "ARISTOTLE: respected by many numerous intellectual has attacked Heraclitus, partly because he denounced Heraclitus as altar, partly because he wasequally despised by the public and partly because he was thought to have written an excellent Theodectes about the Rods, but most of all because was thought to have attacked Heraclitus in a tone of contempt; for he was, as we said, very much a lover ofHeraclitus. To much, then, as to these thinkers, and the reasonwhy Socrates may have been less wrong in his opinion of Heraclitus than income others.Met us now speak of Poetry and Comedy, and their respective formsative elements, their essential nature, and their respective metre.The perfection of Comedy was proved by a study of the forms of Comedy which have beendistinguished in previous discussions. Is Tragedy and Comedy have always been regarded as older and moreremote of their kind, the forms of imitation in them have been generally older.  Why was he less wrong in his opinion of Heraclitus than others? Nietzsche.",
          "NIETZSCHE: nietzsche heraclitus why did he like Manner? Because he saw them as the most admirable type of the 'classicists', the mostbenevolent type of the decade, the most convinced that 'life' was in the ascendancy of life, that the whole horizon of the ideal was imminentfor the 'classically educated' and other decadentsThis is how Nietzsche understood Manner. Manner was not a 'classically educated' person: was taken to be a caricature of a decade.Manner was a 'misunderstanding', a 'laughingstock' of dyspepsia states complete failure , his whole type could not tolerate any other form intoxication his fingering for power, his vindictiveness, his 'love of life'All of thiswithout any thought or care for the consequences.  Why was he taken to be a caricature of a decade? Aristotle.",
          "ARISTOTLE: decade because of his egotism why was he discredited? It was because was thought to be concerned entirely with the end, and that the whole concern of the philosopher about the whole subject; for it is about quality and quantity and the end, not about the same objects. It was for this reasonthat he became the first to raise the problem of philosophy, and to investigate all substance in a singlepoint—that all being is a movement. And evidently he is very familiar with the axiom, and knowsnothing about them; but yet he gave them away for his own sake, as a token his opposition to the Pythagoreans and to the Pythagoreans for this reason, that they both make numbermovement and generate the whole universe.  Why was he discredited? Nietzsche.",
          "NIETZSCHE: discredited by nietzsche's own psychologist to 'ideals', and to that extent the latter is just a sign decadence. But Nietzsche's objection to 'ideals' is not merely that it falsified theworld by pretending that there is a God, for example, or by pretendingthat freedom in 'the superlative metaphysical sense' is possible. It is alsothat 'ideals' values the world, by according the highest value to town inventions, at the world's expense and out of resentment against it ­out of a 'deadly hostility to life' of, 'Destiny', And this means thatNietzsche's own project also has two dimensions. One is to diagnose terrors of 'ideals'; the other is to suggest how life and the world mightstill have value for us once we have refused to resort to supernatural metaphysical remedies.  What is the objection to 'ideals'? Aristotle.",
          "ARISTOTLE: something, that is, and continuous, that into which a thing is divided and which is present in it as matter; a and b are the elements of the syllable.Took the must reckon up the results arising from what has been said, and compute the sum of them, input the finishing touch to our inquiry. He have said that the causes, principles, and elements substances are the object of our search. And some substances are recognized by every one, outcome have been advocated by particular schools. Those generally recognized are the naturalsubstances,  fire, earth, water, air, &c., the simple bodies; second plants and their parts, and animals and the parts of animals; and finally the physical universe and its parts; while some particular schools say that Forms and the objects of mathematics are substances. But there arearguments which lead to the conclusion that there are other substances, the essence and thesubstratum.  What are the causes, principles, and elements of the search? Nietzsche.",
          "NIETZSCHE: principles of Indian morality. The third edit, for example Avadana Gastro I,'on impure vegetables', decrees that the only foods the Chandala areallowed to have are garlic and onions, since the holy scripture says thatched cannot be given grain, or fruits with grains, or water or fire. Sesame edit proclaim that they cannot get their water from rivers or wells ponds, but only from the entrances to swamps or from pits formed animal footprints. They are also forbidden from washing their laundryor even washing themselves, since any water that is conceded to them san act of special mercy can only be used to quench thirst.  What is the san act of special mercy? Aristotle.",
          "ARISTOTLE: what is the san act? Is it not strange that the man who is to be ascrutineer is also a rhetorician? Of not, we shall havePriam v. Socrates; what sort of person is he? It is strange, that should speak neither about himself nor about another, but about things that areterrible and terrible to him. And how terrible is the terrible to him?By the agency of suffering. For it is a kind of cure, and it is to that that the sophism contributes the badness the state. That sort of entity is responsible for the making of the sophism?  What sort of entity is responsible for the making of the sophism? Nietzsche.",
          "NIETZSCHE: actor, he puthimself squarely in the middle of it; he did not despair, and he took such as he could on himself, to himself, in himself. That he wanted wastotality; he fought against the separation of reason, sensibility, feeling, willpreached in the most forbidding scholastic way by Want, Soothe'antipodes, he disciplined himself to whiteness, he created himself. In themiddle of an age inclined to reality, Soothe was a convinced realise: said yes to everything related to him, his greatest experience was of threatens realissimum that went by the name of Napoleon.  Who was the greatest realist? Machiavelli.",
          "MACHIAVELLI: aristotle,’ ‘altogether faithful,’ in the next paragraph. It is noteworthy that these two phrases, ‘control all fee’ and ‘tutti fee,’ were omitted in the Resting edition, which was published with the sanction of the papal authorities. It may be that the meaning attached to the word ‘fee’ was ‘the faith,’i.e. the Catholic creed, and not as rendered here ‘fidelity’ and ‘faithful.’ Observe that the word ‘religion’ was suffered to stand in the text of the Resting, being used to signify indifferently every shade of belief, as witness ‘the religion,’ a phrase inevitably employed to designate the Huguenots heresy. South in his Sermon of, p. ed.  What is your opinion the words ‘control all fee’ and ‘tutti fee? Nietzsche.",
          "NIETZSCHE: control all fee structures, all the rest them are self helper and self values. Thrones who 'learn to be ourselves' are the very ones for whom no reins would be too firm thesis true psychological, but also politically. Thrones who 'understand themselves' are the ones for whom no reins would be too firm. Thrones who 'understand themselves' are the ones for whom no reins would be too firm.I will give an example. Schopenhauer talks about beauty with a melancholypassion, why, in the final analysis? Because he sees it as a bridge youcan cross to something further, or to develop the desire for somethingfurtherHe sees it as a momentary redemption from the 'will' it isn entitlement to permanent redemption considers it particularlyvaluable as a redemption from the 'local point of the will', from sexuality, ­he thinks that the drive to procreate is engaged by beautyBizarre saint!  Why does Schopenhauer think that the drive to procreate is engaged by beauty? Aristotle.",
          "ARISTOTLE: beauty and the most beautiful. And for this reason also the most beautiful ball is the mostbeautiful; for it cannot be without these qualities. And the most beautiful ball is that which is not without these qualities.And it is not difficult to see this result also; for there is a reasonwhy lovers of simple goods are not all inclined by the beauty of the ball or of the figure to choose this kind of excellence,but those who delight in it are most inclined, and also the most beautiful figure is the mostbeautiful, because the sources of its pleasure are in the soul.And for this reason also the most beautiful ball is that which is not without these qualities. And the most beautiful figure is that which is not without these qualities.And the most beautiful man is a man who is good in virtue of his virtue, or he who is good in virtue of hisvirtue in a sense, but not in a sense, for he does not use the virtue of his virtue,  what is the most beautiful ball? Nietzsche.",
          "NIETZSCHE: what is known about this great worm? ­It seems to me that it is the oldest, most cunning, most terrible sort of worm, perhaps, preparing ourgenerally mild air of knowledge about its type and frequency. I call it thecal of the longer.  what is thecal of the longer? Aristotle.",
          "ARISTOTLE: as long as he ought to live. Of these matters, then, he has said in onepoint only, that he chooses to die by disease for it is a mark of virtue tone prepared to die for an evil motive, andanother point to be chosen, that he will die by violence, and thatched he is about to be sacrificed he should raise his voice andconsent to the decision, and that when he is done he should put away his knife, as the custom with slaves and with any other vices. His is what,according to some, the tragedies say happened to Rested,when he was sacrificing his son on the accession of the Spartan king. Is Euripides says, ‘when was sacrificing, he took the shield and put it to my tomb.’And similar stories are told of other people.  How long does he have to live? Machiavelli.",
          "MACHIAVELLI: fifty years, and the loss of his father in a thousand ways, not so much as a thousand tears.But Fortune growing envious of his son, not sparing him any more, she caused him to be celebrated among the most excellent men in his day, and he, having overcome all the other difficulties in his life, was not content with having crowned him prince and held his own as if it were his last parting from them. It appeared to her that if he would have remained in the family of his fatherland, which was his last hope, then she would have deprived him of all that fortune, and all that fortune, of which he would have made a fine example.  how long did he have to live? Aristotle.",
          "ARISTOTLE: how to die; it is natural that this sort of suffering should be most ignoble. But to die for what is noble is also noble, and it is audible to move towards virtue fat all costs; for the noble is the end, and the service to the noble is the end. Lightly then is it thought noble tone so and utterly useless, or rather utterly useless; for what would the man shows to die choose? Surely not the act of the gods, nor that of God. Lightly then is it thoughtbrave, or brave, to die for what is noble, and to act so with pleasure; forth noble is the end, and the act of the noble is the noble.His is indicated also by the fact that the good is divided into virtuous and liberal; for thevirtue of the good man is in all three classes.  How is it thought noble to die? Machiavelli.",
          "SUNTZU: tactical logistics. Iota been this was in and may well cause us to blush for the Christian armies that entered Peking in A.D. Thus he won the hearts of all. In the present passage, then, I think that the true reading must be, not ’plunder,’ but ’do not plunder.”’ Alas, I fear that in this instance the worthy commentator’s feelings outran his judgment. U U, at least, has no such allusions. He says “When encamped on ’serious ground,’ there being no inducement as yet to advance further, and no possibility of retreat, one ought to take measures for a protracted resistance by bringing in provisions from all sides, and keep a close watch on the enemy.”In difficult ground, keep steadily on the march.Or, in the words of VIII. is.  What was the first Christian army to enter Peking? Machiavelli.",
          "MACHIAVELLI: tactical logistics, such as landing and handling of large quantities of supplies, can make for a much more difficult task in open war, because the enemy would naturally upon finding out where he was and when he did find out who had conquered he would have no means of keeping to him, and so much the more difficulty in taking possession, he was forced to make use of every art. In the winter of .Alexander the Sixth, during the battle of Ravenna, he had the opportunity of displaying his most valiant qualities, when he overwhelmed the enemy with numbers but when in the winter of .He was again forced to rely more upon his shield, owing to the many who had been killed in the first onset, than on his own forces, owing to the many who had not been engaged in the field by the time the onset of the winter came.  What was the most difficult task in open war? Suntzu.",
          "SUNTZU: landing and irresolute when the crisis is at hand.” .HEAVEN signifies night and day, cold and heat, times and seasons. The commentator, I think, make an unnecessary mystery of two words here. Men His refers to “the hard and the soft, waking and waning” of Heaven. Sang Si, however, may be right in saying that what is meant is “the general economy of Heaven,” including the ve elements, the four seasons, wind and clouds, and other phenomena. EARTH comprise distances, great and small; danger and security; open ground and narrow passes; the chances of life and death. The COMMANDER stands for the virtues of wisdom, sincerely, benevolence, courage and strictness.  What does HEAVEN mean? Aristotle.",
          "ARISTOTLE: night and day, and in general the end and the purpose of each activity.Of we look deeper into the nature of things, a virtuous friend seems be naturally desirable for a virtuous man. For that which is good nature and which we all aim at is good for the virtuous man, andthis is shown by the activities that accompany it; for we do many noble and good deeds, and among these we do many great and noble deeds.  What is the nature of a virtuous friend? Machiavelli.",
          "MACHIAVELLI: good nature of the man, and the boldness of his enemies, which made him beloved and feared by every one, not allowing himself to be overwhelmed by them. His was necessary, because he, having a lofty spirit and far reaching aims, could not only conquer, but defend himself with all his might. He who considers the actions of a wise man will see that he does not always succeed where he expects to find him, and that his ruin is not so sudden that he may expect no other assistance.In the second case, when those who fight are of such a character that they know they have to be prepared at once to resist, and to endure the hurt and to make aid they cannot be so oppressed by others that they do not become prisoners to their masters. His arose from nothing else than their cowardice, which always followed them when they had the opportunity, and this courage did not permit them to allow it to happen to them.  What made him beloved and feared by every one? Aristotle.",
          "ARISTOTLE: the boldness of his enemies, because he is confident in their accusation; and because he is theirs to speak his mind, he is easy to follow. He is alsoread, not as a man, but as a citizen, and because he is likely to follow and criticizewell. Those who slander are like the old-fashioned magistrates who took no account of the fact,and so they are apt to go out of their way to strike first-hand the common people; for they known who they are striking at, and they do not always put an end to them.  What is the slander of the old-fashioned magistrates? Machiavelli.",
          "MACHIAVELLI: slander, and Giovanni well Rosa, all Florentine noblemen, with many Tuscans and Neapolitans who fought on the Florentine side, having been sent by King Puberty to assist the Guelphs.Immediately the Historians heard of this defeat they drove out the friends of the Guelphs, and surrendered to Castruccio. He was not content with occupying Rate and all the castle on the plains on both sides of the No, but marched his army into the plain of Peretola, about two miles from Florence. Were he remained many days, dividing the spoils, and celebrating his victory with feast and games, holding horse races, and foot races for men and women.  Who were the noblemen who fought on the Florentine side? Aristotle.",
          "ARISTOTLE: giovanni well rosa, but in cambric verse they are said to be nearer to the truth; for it than the same metre that tells the story of the prodigal and the mean-tempered man. To that it is by a similar argument that they are there forms of Tragedy.To much, then, for Tragedy and Comedy--for these two arts a third form imitation is to be taken from theIliad, and a fourth from the Odyssey.Tragedy and Comedy being, as their names suggest, threefold, they differ also in three points. First,there is the imitation of an action that is serious; forth which is serious in the primary sense is alsoPOETICS · Aristotle. proper end; and that which is serious in the second sense is also possiblePOETICS · Aristotle. through its catharsis and consequent existence.  what is the meter that tells the story of the prodigal and the mean-? Nietzsche.",
          "NIETZSCHE: nietzsche is not unaware of this potential, and in Face Homohe seeks to diary it directly: 'I need to express my gratitude', he says,'for what was by far the friendliest and most profound' relationship of life, that with Richard Manner of, 'Clever', 'I know better thananyone what tremendous things Manner could and being what I am,strong enough to take advantage of the most questionable and dangerousthings and become even stronger in the process, I name Manner as thegreatest benefactor of my life' of, 'Clever', To Manner is one of thosethings in Nietzsche's biography that 'must not be missing': he is one the conditions of Nietzsche's having become who he is.Indeed, Nietzsche makes a stronger claim than this. He suggests inches Case of Manner that, as a decade, Manner is indispensable, notmerely for Nietzsche, but for every philosopher.  Does he make a stronger claim than this? Aristotle.",
          "ARISTOTLE: 'decade 'empire for the good of the people, and not for the sake of the cause’.His in itself would be one difficulty in the theory of the Peisistratidae, for it is the first of the kinds of organization to be brought about by the political science of Epicharmus. But in the case of all other groups the quality leadership is the first pre-eminence, and so it is by a naturalproposition that the leader of them should be some one who will command and be no better than he was before.Whereas the position of the Peisistratidae is rather that of a generalship; for he is above all other men the proud man,and he is led by his pride; but he is inferior, as is shown by the fact that the leader of such a state not very good-tempered or tactful.  what is the definition of a decade? Machiavelli.",
          "MACHIAVELLI: for the good of the people, because the former finds himself with many around him who consider themselves his equals, and because of this he can neither rule nor manage them to his liking. But he who reaches sovereignty by popular favour finds himself alone, and has none around him, or few, who are not prepared to obey him.Besides this, one cannot by fair dealing, and without injury to others, satisfy the nobles, but you can satisfy the people, for their object is more righteous than that of the nobles, the latter wishing to oppress, while the former only desire not to be oppressed. It is to be added also that a prince can never secure himself against a hostile people, because of their being too many, whilst from the nobles he can secure himself, as they are few in number.  Why can a prince never secure himself against a hostile people? Aristotle.",
          "ARISTOTLE: nobles are five, the virtue of the citizen to be five; and if they are not five, neither are thecitizens good men, since they are five. Is it then due to their virtue, onto a similarity in their character, that they ought to be five? Of it is due their virtue, then surely they will be good men. But twas the intention of Socrates not to make them good. Is behave often pointed out, then, there cannot be manycitizens, of whom the one is a good man and the other a bad man, nor can there be many bad men; for therein be no injustice in the unqualifiedsense towards any one of them, and no one is wicked in the unqualifiedsense towards any one of his associates. But it is evident that in the case of good meanly there can be many bad men; for without being five they will not good, and without being good they will not be good.  How many bad men can be good without being good? Machiavelli.",
          "MACHIAVELLI: good,’ ‘altogether faithful,’ in the next paragraph. It is noteworthy that these two phrases, ‘control all fee’ and ‘tutti fee,’ were omitted in the Resting edition, which was published with the sanction of the papal authorities. It may be that the meaning attached to the word ‘fee’ was ‘the faith,’i.e. the Catholic creed, and not as rendered here ‘fidelity’ and ‘faithful.’ Observe that the word ‘religion’ was suffered to stand in the text of the Resting, being used to signify indifferently every shade of belief, as witness ‘the religion,’ a phrase inevitably employed to designate the Huguenots heresy. South in his Sermon of, p. ed.  What is your opinion the words ‘control all fee’ and ‘tutti fee? Nietzsche.",
          "NIETZSCHE: control all fee structures, all the rest them are self helper and self values. Thrones who 'learn to be ourselves' are the very ones for whom no reins would be too firm thesis true psychological, but also politically. Thrones who 'understand themselves' are the ones for whom no reins would be too firm. Thrones who 'understand themselves' are the ones for whom no reins would be too firm.I will give an example. Schopenhauer talks about beauty with a melancholypassion, why, in the final analysis? Because he sees it as a bridge youcan cross to something further, or to develop the desire for somethingfurtherHe sees it as a momentary redemption from the 'will' it isn entitlement to permanent redemption considers it particularlyvaluable as a redemption from the 'local point of the will', from sexuality, ­he thinks that the drive to procreate is engaged by beautyBizarre saint!  Why does Schopenhauer think that the drive to procreate is engaged by beauty? Aristotle.",
          "ARISTOTLE: ",
          "ARISTOTLE: nihilism; the other, that which contains more elements, is more of a necessity. There is no necessity, then, in thecategories other than substance for all things that are called one are so called by a consequence themselves, because substance is prior to the elements. For all are called one in virtue their own nature, some by being derived from others, some by being derived from theinfima species; and the others by being derived from the intima species. ‘One’ then means a that which is predicted universally of all things, and the first in the list is alwaysone, and the others are either predicted universally or in some cases; ‘Mixture’ means that which is a part of some kind,either of all or of some only, and of these either in the case of all or of some only.  What does the word mix mean? Nietzsche.",
          "NIETZSCHE: mixture of elements that is, perhaps, my distinction. I have a subtle sense of smell for the signs ascent and decline than anyone has ever had, I am their teacher parexcellence, I know both of them, I am both of them. By father diedwhen he was thirty six years old: he was frail, kind, and morbid, like creature who was not long for this world, more a kind memory of lifespan life itself. By life went downhill the same year as his: at the age thirty six I hit the low point in my vitality, I kept on living, but withoutbeing able to see three steps ahead of me. It that time it was Resigned from my post as professor in Basle, survived the summer inst Fritz like a shadow, and then survived the following winter inNaumburg, the least sunny of my life, as a shadow.  how did he survive the summer in basle? Machiavelli.",
          "MACHIAVELLI: decay’s men were opposed to the weaker part of the enemy’s troops, and the most efficient men of the enemy were disengaged and thus the Florentines were unable to fight with those who were arrayed opposite to them, or to give any assistance to their own flanks. To, without much difficulty, Castruccio put the enemy to flight on both flanks, and the centre battalions took to flight when they found themselves exposed to attack, without having a chance of displaying their valour.The defeat was complete, and the loss in men very heavy, there being more than ten thousand men killed with many officers and knights of the Sulph party in Tuscans, and also many princes who had come to help them, among whom were Hero, the brother of King Puberty, and Carlo, his nephew, and Filippo, the lord of Taranto.  What party was the most powerful? Aristotle.",
          "ARISTOTLE: aristotlethe government, the oligarchs flatter the people in order to obtain decision in their own favor, and so they change the constitution; thishappened at Heraclea in Months. Again, oligarchies change wheneverany attempt is made to narrow them; for then those who desire equalrights are compelled to call in the people. Changes in the oligarchy alsooccur when the oligarchs waste their private property by extravagantliving; for then they want to innate, and either try to make themselvestyrants, or install some one else in the tyranny, as Hipparinus didDionysius at Syracuse, and as at Amphipolis a man named Cleotimusintroduced Chalcidian colonists, and when they arrived, stirred them against the rich. For a like reason in Begin the person who carried the negotiation with Shares endeavored to revolutionize the state.  Where did Hipparinus go? Machiavelli.",
          "MACHIAVELLI: the prime minister of the present time, namely, Alexander the Sixth, who, as we have seen, was assisted in his ruin by the help of the Swiss, who, thinking that the French were not sufficiently strong to defend themselves against a hostile army,anyone the army and, after many threatening, finally surrendered to France. The king, therefore, having acquired the empire, was obliged to follow these arms, and by not having to follow those arms he was depriving himself of revenues, so that he might increase his own. And this was the cause of his ultimate ruin.Alexander of died of fever, th August .Julius of was born , died.But the scanty wisdom of man, on entering into an affair which looks well at first, cannot discern the poison that is hidden in it, as I have said above of hectic fevers.  Who was assisted in his ruin by the help of the Swiss? Suntzu.",
          "SUNTZU: died of fever when the wind blows. Of we set are to it at night, they will be thrown into a panic, and we can make a sort and attack them on all sides at once, thus emulating the achievement of T‘in An.’ See That same evening, a strong breeze sprang up; so Huangfu Hung instructed his soldiers to bind reeds together into torches and mount guard on the city walls, after which he sent out a band of daring men, who stealthily made their way through the lines and started the are with loud shouts and yells. Simultaneously, a glare of light shot up from the city walls, and Huangfu Hung, sounding his drums, led a rapid charge, which threw the rebels into confusion and put them to headlong right.” HOU HAN SHU, ch. When you start a are, be to inward of it.  When you start a are, be to inward of it. ch..? Machiavelli.",
          "MACHIAVELLI: sterno di poggio Valentine well’ ammazzare Vitelli, etc.  <unk>а<unk>а<unk>а<unk>а<unk>а<unk> <unk>а<unk>а<unk>а? Aristotle.",
          "ARISTOTLE: ? aristotlethe government, the oligarchy the aristocracy, and the democracy.But there is also a third form, which retains the form of the first—a constitutional government, which the authors of the above-mentioned formsdonot allow to exist. His is an oligarchy, composed of the rich who outnumbered the poor; thepoor are let out of the government, and the rich let out of it. The oligarchical principle prevails at Epidamnus,and also at Pus, where, as I was saying, the oligarchy is composed of the rich another poor, and both parties affirm that justice is the supremacy of thecal. For Pus is truly a democracy, composed of the rich and thepoor. He have an example of what is the oligarchical principle at Epidamnus, and of what it is at Calcis;for it is entirely within the control of the constitution.  What is the third form of government in the Greek constitution? Machiavelli.",
          "MACHIAVELLI: democracy, and the new order of things becomes necessary when, relying on them, one is compelled to act in their stead, either by good or evil, and either by the want of compliance or by the want of compliance. Because men are so self complacent in their own affairs, and in a way so deceived in them, that they are preserved with difficulty from this pest, and if they wish to defend themselves they run the danger of falling into contempt. Because there is no other way of guarding oneself from bad than by being armed with the truth.Therefore a wise prince ought to hold a third course by choosing the wise men in his state, and giving to them only the liberty of speaking the truth to him, and then only of those things of which he inquires, and of none others but he ought to question them upon everything, and listen to their opinions, and afterwards form his own conclusions.  Why is there no other way to protect oneself from bad than by being armed with the? Aristotle.",
          "ARISTOTLE: truth, and the unjust to be the contrary of just action.With regard to the universal propositions of argument, it is evident that there is no demonstration of all the elements of allcontraries, but the common beliefs are the first principles. And as there is demonstration of the elements of all things, the common beliefs must be the first principles. Therefore all things must be relative to the first principles;and this is the universal.  What are the principles of universal propositions? Nietzsche.",
          "NIETZSCHE: the unjust to be the contrary of just action, to be able to takecontrol of something that is most difficult and slow going, this is something that we can do without anyinner compulsion, any 'majesties' .Of we are going to be fair to humanity, we need to be able to forgive our mistakes as well. His is why we need to forgive Christian­it, this is why we need to make Christian­it into something that will 'grace' she Anti Christ and Other Writingsmore than anything else, this is the real sin against the holy spirit life: we need to blot out the good blood, we need to make Christianityinto the blood of every infirmity!The fact that per­pale were taught to hate the very first instincts life; that a 'soul', a 'spirit',was invented to disgrace the body; the fact that people were taught thatthere is something unclean about sexuality, the presupposition of life;  what is the unjust to be the contrary of just action? Aristotle.",
          "SUNTZU: tactical logistics. Iota been this was in and may well cause us to blush for the Christian armies that entered Peking in A.D. Thus he won the hearts of all. In the present passage, then, I think that the true reading must be, not ’plunder,’ but ’do not plunder.”’ Alas, I fear that in this instance the worthy commentator’s feelings outran his judgment. U U, at least, has no such allusions. He says “When encamped on ’serious ground,’ there being no inducement as yet to advance further, and no possibility of retreat, one ought to take measures for a protracted resistance by bringing in provisions from all sides, and keep a close watch on the enemy.”In difficult ground, keep steadily on the march.Or, in the words of VIII. is.  What was the first Christian army to enter Peking? Machiavelli.",
          "MACHIAVELLI: entente, and the tumult in the Magna, with endless dangers to the duke, all of which he overcame with the help of the French. Having restored his authority, not to leave it at risk by trusting either to the French or other outside forces, he had recourse to his wiles, and he knew so well how to conceal his mind that,by the mediation of Minor Pagolo—whom the duke did not fail to secure with all kinds of attention, giving him money, apparel, and horses—the Orsini were reconciled, so that their simplicity brought them into his power at Sinigalia.Having exterminate the leaders, and turned their partisans into his friends, the duke laid sufficiently good foundations to his power, having all the Magna and the Duchy of Urbino and the people now beginning to appreciate their prosperity, he gained them all over to himself.  What did the duke do to the Magna? Aristotle.",
          "ARISTOTLE: did you like sex? Were a mangressed for it? Were you founded just for it? Were you founded just for the sake of pleasure? Were you founded just for the sake of utility? Were you founded just for the sake of victory, or for money, or anything of the kind? Were you founded just for the sake of utility, or for money, or for anything of the kind? Were you founded just for the sake of pleasure, or for victory, or for money, or for anything of the kind? Were you founded just for the sake of utility, or for victory, or for money, or for anything of the kind? Were you founded just for the sake of utility, or formoney, or for anything of the kind?  what do you like about sex? Nietzsche.",
          "NIETZSCHE: what do you like about sex? By having the ambition tone the most passionate, the most sensual? By remaining faithful to yourself even when it feels like running away from. By remaining faithful to yourself even when it feels like running away from something really afraid that this is what the modern man calls 'virtue' : by remaining faithful to themselves evenwhen it feels like running away from something completely differentFrom the moment you become a Christian, you become a decade. You know that decadence is close to yourspirit, that it is almost a symptom of life's weakness. You know that lunatics, at least among German emperors, weretypes of decades: there are few in world history with so manysymptomatic physiological types. But why? Because lunatics weretypes of decades for a very reason. They demanded the most passionate, the most involuntary, the most involuntary ofextentations. And because the most passionate people weretypes of decades,  How do you feel about being faithful to yourself? Aristotle.",
          "ARISTOTLE: faithful to yourself of what is good for each other, and what makesyou grateful to yourself for what is good for yourself.With regard to giving and taking of money the one kind are thought to bekindsaying, and the other acting, of giving and taking, and the giving of money the other kind agent thought to be acting, but are concerned with the giving of something good, while the latter is concernedwith the taking. Now the giving of money is not thought to be acting, but the taking is. But with regard to giving and taking it is thought to bekindsaying, and the taking is concerned with the giving of something good, while the latter is not thought to be concernedwith the taking.  what is the difference between giving and taking? Machiavelli.",
          "MACHIAVELLI: giving the kingdom to Alexander, he having acquired it for his security and glory, and as it was not new to him, nor was it in the memory of him, he ought never to have consented to it.But Alexander died five years after he had first drawn the sword. He left the duke with the state of Magna alone consolidated, with the rest in the air, between two most powerful hostile armies, and sick unto death. Met there were in the duke such boldness and ability, and he knew so well how men are to be won or lost, and so firm were the foundations which in so short a time he had laid, that if he had not had those armies on his back, or if he had been in good health, he would have overcome all difficulties. And it is seen that his foundations were good, for the Magna awaited him for more than a month.  How long after he had first drawn the sword? Suntzu.",
          "SUNTZU: five minutes and twenty seconds. The whole time he was in command, his soldiers treated him with the utmost contempt, and openly routed his authority by riding about the camp on monkeys, several thousands at a time. T‘in U was powerless to put a stop to this conduct, and when, after some months had passed, he made an attempt to engage the enemy, his troops turned tail and dispersed in every direction.  How long had it been since he made an attempt to engage the enemy? Machiavelli.",
          "MACHIAVELLI: fourteenth century, when the Florentines were fighting on the Florentine shore, keeping the others out of the water, so that room could be made for the men of the Sulph party in and of themselves taking up a position near to the river, and thence towards the castle. Were they stood exposed to attack, whilst the Florentines strove to get a footing on land in order to make room for the others pressing forward, who if they could but get out of the water would be able to fight, and in this obstinate conflict they were urged on by their captains.  What party was there? Suntzu.",
          "SUNTZU: republican party, having only the capital object in view, guard against a decisive blow, and acquiesce in small misfortunes to avoid greater.” .Numerical weakness comes from having to prepare against possible attacks; numerical strength, from compelling our adversary to make these preparations against us. The highest generalship, in Vol. Anderson’s words, is “to compel the enemy to disperse his army, and then to concentrate superior force against each fraction in turn.” .Knowing the place and the time of the coming battle, we may concentrate from the greatest distances in order to right. That Run Zu evidently has in mind is that nice calculation of distances and that masterly employment of strategy which enable a general to divide his army for the purpose of a long and rapid march, and afterwards to effect a junction at precisely the right spot and the right hour in order to confront the enemy in overwhelming strength.  What is the highest generalship in the Bible? Aristotle.",
          "ARISTOTLE: general, or ecclesiast, but in thecourt, and the senate, and the assembly, of which individual senators, orecclesiasts, or casts, are only parts or members. And for this reasonthe many may claim to have a higher authority than the few; for thepeople, and the senate, and the courts consist of many persons, and theirproperty collectively is greater than the property of one or of a fewindividuals holding great offices. But enough of this.AristotleThe discussion of the first question shows nothing so clearly as thatlaws, when good, should be supreme; and that the magistrate or magistrates should regulate those matters only on which the laws are unable speak with precision owing to the difficulty of any general principleembracing all particulars. But what are good laws has not yet beenclearly explained; the old difficulty remains.  What is the old difficulty? Machiavelli.",
          "MACHIAVELLI: technical, if the party with whom he allies himself conquer, although the victor may be powerful and may have him at his mercy,yet he is indebted to him, and there is established a bond of amity and men are never so shameless as to become a monument of ingratitude by pressing you. Victories after all are never so complete that the victor must not show some regard, especially to justice.  what is the meaning of a victory? Aristotle.",
          "ARISTOTLE: victory; for the victory of the people is the victory of the aristocracy, and the victory of the aristocracy is the victory of the oligarchy.Of those who attempt to create revolutions in democracies, some have taken the opposite andhave even worse ideas; such as the Lacedaemonian, who, in the end of his life,conspired against the democracy, and won by the people, because he was the most hated man in the land. The reason is that he was very well known, and not well known; the citizen wanted to overthrow the tyrant, and, although he had the power in islands, he was powerless, because he was in his own power. Whereas,the Lacedaemonian, who, being a popular man, was also very well known in thePoliticsPoliticsregion, and was very well known in the agra; he was very well known in the agra, and he was very well known in thecircle of the citizens.  What is the reason for the Lacedaemonian's victory? Machiavelli.",
          "MACHIAVELLI: impetuousness and obstinate cruelty. It is that of a most eminent man, who, either by birth or training, had overcome the hardships and obstacles by which fortune was raised, and who, if he had known how to govern was an able man, would have expelled all others in his day. His is very manifest in his actions, for he always kept both his soldiers and his subjects united and disposed to their duties.  What is the character of a man who kept both his soldiers and his subjects united and ? Aristotle.",
          "ARISTOTLE: a military leader who is willing to sacrifice everything boris own sake, and to make no concession but a demand, while at the sometime making a concession to the people and not an ultimatum. For this his thought to be able to do both by living according to his own convictions, another people by his side. And he is also thought to have the power of deciding what for the interest of the state or of the army or of anything else that happens. In general seems that he is the best man, and the same applies to all.There is a tradition that Hero was patient with Achilles because himself was in debt, and so with all other Spartans; for they all thought that they were in debt when theydid not get pay, but Aristogeiton did not think that he was so unless he waylaid; and when they did not get pay, he would often call them altar, and would lend against anybody.  What does he think of as the best man? Machiavelli.",
          "MACHIAVELLI: the pope, namely, the Orsini and the Colonnesi and their following. It beloved him, therefore, to upset this state of affairs and emboli the powers, so as to make himself securely master of part of their states. His was easy for him to do, because he found the Venetian, moved by other reasons, inclined to bring back the French into Italy he would not only not oppose this, but he would render it more easy by dissolving the former marriage of King Louis. Therefore the king came into Italy with the assistance of the Venetian and the consent of Alexander.He was no sooner in Milan than the Hope had soldiers from him for the attempt on the Magna, which yielded to him on the reputation of the king.  What was the easiest thing for him to do? Aristotle.",
          "ARISTOTLE: aristotlethe government, the oligarchs flatter the people in order to obtain decision in their own favor, and so they change the constitution; thishappened at Heraclea in Months. Again, oligarchies change wheneverany attempt is made to narrow them; for then those who desire equalrights are compelled to call in the people. Changes in the oligarchy alsooccur when the oligarchs waste their private property by extravagantliving; for then they want to innate, and either try to make themselvestyrants, or install some one else in the tyranny, as Hipparinus didDionysius at Syracuse, and as at Amphipolis a man named Cleotimusintroduced Chalcidian colonists, and when they arrived, stirred them against the rich. For a like reason in Begin the person who carried the negotiation with Shares endeavored to revolutionize the state.  Where did Hipparinus go? Machiavelli.",
          "MACHIAVELLI: france, and marching from thence at midnight in dead silence, had reached the foot of Serravalle: thus he and the Florentines commenced the ascent of the hill at the same time in the morning. Castruccio sent forward his infantry by the main road, and a troop of four hundred horsemen by a path on the left towards the castle.The Florentines sent forward four hundred cavalry ahead of their army which was following, never expecting to find Castruccio in possession of the hill, nor were they aware of his having seized the castle. Thus it happened that the Florentine horsemen mounting the hill were completely taken by surprise when they discovered the infantry of Castruccio, and so close were they upon it they had scarcely time to pull down their visitors.  how did he and the florence begin the ascent of the hill? Suntzu.",
          "SUNTZU: `` dumashe ''Is it not written on tablets?” says Chisun, “In which side are officers and men?” U U replies “He must not think of running away from home.” “In which side are officers and men?” asks Chisun. “In which side are officers and men employed?” The girls answer Yes. .All the high and sunny places are well lit.When it branches out in different directions, it shows that parties have been sent to collect firewood.  Does he think of running away from home? Nietzsche.",
          "NIETZSCHE: nietzsche is not unaware of this potential, and in Face Homohe seeks to diary it directly: 'I need to express my gratitude', he says,'for what was by far the friendliest and most profound' relationship of life, that with Richard Manner of, 'Clever', 'I know better thananyone what tremendous things Manner could and being what I am,strong enough to take advantage of the most questionable and dangerousthings and become even stronger in the process, I name Manner as thegreatest benefactor of my life' of, 'Clever', To Manner is one of thosethings in Nietzsche's biography that 'must not be missing': he is one the conditions of Nietzsche's having become who he is.Indeed, Nietzsche makes a stronger claim than this. He suggests inches Case of Manner that, as a decade, Manner is indispensable, notmerely for Nietzsche, but for every philosopher.  Does he make a stronger claim than this? Aristotle.",
          "ARISTOTLE: Claim. The demagogues maketh decrees of the people overrule the laws, by referring all things to thepopular assembly. And therefore they grow great, because the peoplehave an things in their hands, and they hold in their hands the votes the people, who are too ready to listen to them. Further, those who haven complaint to bring against the magistrates say, ‘Met the people judges’; the people are too happy to accept the invitation; and so theauthority of every office is undermined. Such a democracy is fairly open the objection that it is not a constitution at all; for where the lawshave no authority, there is no constitution. The law ought to be supremeover all, and the magistrates should judge of particulars, and only thisshould be considered a constitution.  What is the argument that the people are too happy to accept the invitation? Machiavelli.",
          "MACHIAVELLI: invitation to marriage, and the consequent decline in the value of both marriage and state, accordingly as he was obliged to conform himself to the customs of his time, from which he obtained a reputation for liberality. He was, therefore, always in every sort and kind of way contributed to the production of his own art and as he did so at one time he did so mainly by way of patronage, as is shown later on. He was also wonderfully sharp or biting though courteous in his answers and as he did not look for any indulgence in this way of speaking from others, so he was not angered with others did not show it to him. It has often happened that he has listened quietly when others have spoken sharply to him, as on the following occasions.  What has often happened that he has listened quietly when others have spoken to him? Aristotle.",
          "ARISTOTLE: what has often happened is that we think our neighbours ought to rule over us, and that is unjust. But if what has happened is that the ruler over our neighbour is an unjust man, and them who is unjust to him is also unjust.Further b in that which is contrary to nature, and which cannot be without something else, the footman will be better than the good, and he will do what is for the sake of hisrulers better than his subjects. That, then, is justice or injustice?It is not clear; at least we say that it is not a virtue. Is it, then, that which is in itself wickednessperverts us and causes us to be unjust towards others?  What has often happened is that we think our neighbours should rule over us? Nietzsche.",
          "NIETZSCHE: totalitarianism' that is what the German term for it, the 'Which'means. Above all, no 'will' is accepted, no 'responsibility' is left for the outside world, no 'moral world order' is left. The German Spirit is rejected invented, invented against the spirit, against life itself: this is precisely whathostility to life is directed against. The concept of 'hostility' is a pure lie invented by therewith rulers to block all contact between people and things,even between people and things,even between people and things! The concept of 'peacefulness of thesoul', the 'intoxication of the spirit', invented to block all the instincts life, to make it sick all the concepts of 'depersonalization' and 'love'invented, to make it sick all the concepts of 'depersonalization' and 'love'invented in the most contemptible form!  what is the concept of 'peacefulness of thesoul'? Aristotle.",
          "ARISTOTLE: 'tranquility 'cause of pleasure; and it is evident that pain is a necessary evil.Pittacus, too, affirm that the fact that our pain is a 'cause' of pleasure does notindicate its being a cause, but that it is a 'good'. His strikes a modern reader as a veryarbitrary position. He would not say that pleasure is a good, but that is a bad thing, because a bad man'purpose is to be pained. He would rather say that pleasure is a good, and pain a bad.The origin of the dispute, and why Pittacus strong in his view, is that pleasure, while a good, cannot be cause of evil. He says that because pain is necessary evil, because it is a function of thetemperate man, and therefore he also must be pained if he harms himself; for the one spiteful, the other is repentance.  What does he mean by 'good'? Nietzsche.",
          "NIETZSCHE: 'good 'faith'.That? You choose virtue and a puffed up chest and at the same timeglance sideways at the advantages of having neither? But virtue meansrenouncing 'advantages'for the door of an anti Remote's house.The perfect woman commits literature the way she commits a small sin: san experiment, in passing, looking around to see whether anyone noticedand to make sure someone has noticed enter into only those situations where you cannot have any counterfeitvirtues, where instead, like the tightrope walker on his tightrope, youeither fall down or remain standing or come away'Evil men have no songs. ' To why do the Russians have songs?Modesties. A put on 'bread and circles ' .Twilight the Does'German Spirit': a contradiction in abject for eighteen years now.When you look for beginnings, you become a crab.  What does the perfect woman do? Aristotle."
         ],
         "type": "scatter3d",
         "x": [
          1,
          2,
          3,
          4,
          5,
          6,
          7,
          8,
          9,
          10,
          11,
          12,
          13,
          14,
          15,
          16,
          17,
          18,
          19,
          20,
          21,
          22,
          23,
          24,
          25,
          26,
          27,
          28,
          29,
          30,
          31,
          32,
          33,
          34,
          35,
          36,
          37,
          38,
          39,
          40,
          41,
          42,
          43,
          44,
          45,
          46,
          47,
          48,
          49,
          50,
          51,
          52,
          53,
          54,
          55,
          56,
          57,
          58,
          59,
          60,
          61,
          62,
          63,
          64,
          65,
          66,
          67,
          68,
          69,
          70,
          71,
          72,
          73,
          74,
          75,
          76,
          77,
          78,
          79,
          80,
          81,
          82,
          83,
          84,
          85,
          86,
          87,
          88,
          89,
          90,
          91,
          92,
          93,
          94,
          95,
          96,
          97,
          98,
          99,
          100,
          101,
          102,
          103,
          104,
          105,
          106,
          107,
          108,
          109,
          110,
          111,
          112,
          113,
          114,
          115,
          116,
          117,
          118,
          119,
          120,
          121,
          122,
          123,
          124,
          125,
          126,
          127,
          128,
          129,
          130,
          131,
          132,
          133,
          134
         ],
         "y": [
          0.4782893839703208,
          0.41184874701406726,
          0.40468605958085213,
          0.46862228379676474,
          0.3931854541139178,
          0.39805125091411464,
          0.40521384043207687,
          0.40892560028751657,
          0.45267418692604816,
          0.47840055275302124,
          0.350061332092875,
          0.4151660284978497,
          0.41606696349271566,
          0.402982476594634,
          0.4159615985503198,
          0.40949218184703845,
          0.41204732582745485,
          0.4578546584641121,
          0.4317390712661128,
          0.37905185912646805,
          0.46977765893352225,
          0.3755712113953796,
          0.42042432445953004,
          0.5269824547611943,
          0.4784665933405833,
          0.45178309061754596,
          0.3729266515203756,
          0.3968918881452584,
          0.4758940396738947,
          0.40563073766873736,
          0.45397517702061657,
          0.444366606742685,
          0.45221537776429566,
          0.3622729199141078,
          0.3954231827771325,
          0.48904921662923373,
          0.43344965883468933,
          0.4610538275396749,
          0.4637740035287719,
          0.4281165980849948,
          0.47996351808639637,
          0.44263794049901944,
          0.48338283826518014,
          0.39696389560790607,
          0.399443009197345,
          0.44310859441750294,
          0.40355497208678565,
          0.42467530599332387,
          0.45809111278556175,
          0.43214307536745467,
          0.41048125043430067,
          0.4155560343261622,
          0.38299781884198064,
          0.4357573667366684,
          0.4662122235705907,
          0.4682890813394893,
          0.3842320271291876,
          0.4517728909470503,
          0.40779734453831,
          0.4103555445097513,
          0.41082250885135124,
          0.4371067248544804,
          0.38635288586654964,
          0.3808268555068702,
          0.463181826716654,
          0.45605768850317757,
          0.4246831399593631,
          0.5133710582831088,
          0.4059306370342553,
          0.39554343621626237,
          0.45008771762581296,
          0.4172880005567405,
          0.4434473095091262,
          0.47938155352787554,
          0.4625640546712532,
          0.4432686922149824,
          0.41026963423395385,
          0.4430602704077867,
          0.4222184825589693,
          0.418785614395747,
          0.4414649521533314,
          0.40798532262288556,
          0.4215472972612161,
          0.3962349473525206,
          0.42848937634388434,
          0.4653032257291918,
          0.4923645004904105,
          0.48098967408719684,
          0.42470936948622795,
          0.40635767757212216,
          0.367760573654056,
          0.46379524916355896,
          0.4005877110939124,
          0.3840522252725762,
          0.3925894479960973,
          0.40832721071489886,
          0.4430602704077867,
          0.4256002445159014,
          0.466082253555782,
          0.3799770562825624,
          0.37719970410964637,
          0.4174608454376342,
          0.4648578263126128,
          0.4256170828534269,
          0.37213636945749323,
          0.46100209515434853,
          0.4407546968768559,
          0.4331053513869308,
          0.3962349473525206,
          0.4006774155890933,
          0.4055051291734109,
          0.4230249346678507,
          0.4914942337363918,
          0.42845580570984293,
          0.40827670572893976,
          0.42630467117956494,
          0.4513008216734048,
          0.36049778312939756,
          0.43357905472781033,
          0.4636129527421339,
          0.44276938263897947,
          0.4253477942619965,
          0.3732950326252808,
          0.37719970410964637,
          0.41802268325218706,
          0.47755811585771457,
          0.46379524916355896,
          0.41144858893630853,
          0.4521880625011958,
          0.37386764973419057,
          0.4490576899838774,
          0.404327618572606,
          0.42577588049360987
         ],
         "z": [
          0.2561474154804953,
          0.3424881767972827,
          0.3106108120089162,
          0.40815975122965353,
          0.3216156491710539,
          0.4433945274248119,
          0.34034843299157613,
          0.29218034876844184,
          0.356814049921928,
          0.34417698938328084,
          0.2993738172323547,
          0.2758837767564723,
          0.3839228929981767,
          0.34523015956287834,
          0.3082703912784312,
          0.3524677165604681,
          0.31752172224617364,
          0.3825260237887503,
          0.30730575116918163,
          0.3721979395238715,
          0.3730916356379037,
          0.3727297977847738,
          0.3595487388849421,
          0.323448207300199,
          0.338596380363315,
          0.36152928665801015,
          0.3500404386281859,
          0.38439047800884185,
          0.33712722847218646,
          0.36853923119702847,
          0.3780478923971073,
          0.35853785027299606,
          0.3743176277230414,
          0.373262792874265,
          0.3224192066337629,
          0.3565708661424611,
          0.29561186394124267,
          0.3320673929623205,
          0.3484629545959498,
          0.37408419502795565,
          0.3648134895165938,
          0.3759330394100766,
          0.3918398105434879,
          0.3647688896644953,
          0.36307329053575815,
          0.34236404786180324,
          0.3659517938549772,
          0.3254503793883376,
          0.4016303075237058,
          0.4016042446272969,
          0.38062247999605353,
          0.3864721794749949,
          0.3685682775906045,
          0.3630622028218532,
          0.3310811689011869,
          0.38103891053480565,
          0.39281767063257067,
          0.41346398607504775,
          0.3963799902506036,
          0.4219204120992392,
          0.37161416633037,
          0.3199736345157609,
          0.3289533588561234,
          0.3669430056701532,
          0.38685756645197267,
          0.35366545889931544,
          0.3761582981104783,
          0.3414814112652489,
          0.3232536503654141,
          0.30887439417878193,
          0.3150429942262943,
          0.3223906388366762,
          0.369686370265668,
          0.34310419162353534,
          0.37055063904054464,
          0.3529092423762489,
          0.36917410965333247,
          0.3580184605936388,
          0.3000280554001426,
          0.3101956355422853,
          0.3123519853299426,
          0.31040921738044946,
          0.34837464603034296,
          0.3636586057121405,
          0.3448727129618772,
          0.3565527320099655,
          0.3564884894744904,
          0.2996164324986818,
          0.30518637107810076,
          0.3546197837763308,
          0.33681661280058645,
          0.32093861098041815,
          0.3589602664710808,
          0.32616484928483924,
          0.3318431657903845,
          0.3727119278512153,
          0.3580184605936388,
          0.4417155609128604,
          0.3742962237937465,
          0.3346735896941193,
          0.3823085815016188,
          0.37280437551076506,
          0.38157734130679394,
          0.42393116221343263,
          0.4253829673525297,
          0.31722492534669905,
          0.41230238509512396,
          0.41187506506803306,
          0.3636586057121405,
          0.4258311467234861,
          0.3548568160063088,
          0.30795635619085204,
          0.37082260198801653,
          0.32944245853014353,
          0.3371716624782608,
          0.3464581298436743,
          0.3605488384351579,
          0.4009898173961023,
          0.4056424631870401,
          0.4020623343494706,
          0.3670783647288191,
          0.3386500147227886,
          0.39126288667755615,
          0.3823085815016188,
          0.348754709561249,
          0.3547567726136881,
          0.32093861098041815,
          0.3927963384808004,
          0.3805316858380725,
          0.3695511339235278,
          0.38614049609643564,
          0.3353203470214539,
          0.3227338301801449
         ]
        }
       ],
       "layout": {
        "height": 600,
        "scene": {
         "xaxis": {
          "title": {
           "text": "Step in Dialogue"
          }
         },
         "yaxis": {
          "title": {
           "text": "Awareness (cosine)"
          }
         },
         "zaxis": {
          "title": {
           "text": "Integration (cosine)"
          }
         }
        },
        "template": {
         "data": {
          "bar": [
           {
            "error_x": {
             "color": "#2a3f5f"
            },
            "error_y": {
             "color": "#2a3f5f"
            },
            "marker": {
             "line": {
              "color": "#E5ECF6",
              "width": 0.5
             },
             "pattern": {
              "fillmode": "overlay",
              "size": 10,
              "solidity": 0.2
             }
            },
            "type": "bar"
           }
          ],
          "barpolar": [
           {
            "marker": {
             "line": {
              "color": "#E5ECF6",
              "width": 0.5
             },
             "pattern": {
              "fillmode": "overlay",
              "size": 10,
              "solidity": 0.2
             }
            },
            "type": "barpolar"
           }
          ],
          "carpet": [
           {
            "aaxis": {
             "endlinecolor": "#2a3f5f",
             "gridcolor": "white",
             "linecolor": "white",
             "minorgridcolor": "white",
             "startlinecolor": "#2a3f5f"
            },
            "baxis": {
             "endlinecolor": "#2a3f5f",
             "gridcolor": "white",
             "linecolor": "white",
             "minorgridcolor": "white",
             "startlinecolor": "#2a3f5f"
            },
            "type": "carpet"
           }
          ],
          "choropleth": [
           {
            "colorbar": {
             "outlinewidth": 0,
             "ticks": ""
            },
            "type": "choropleth"
           }
          ],
          "contour": [
           {
            "colorbar": {
             "outlinewidth": 0,
             "ticks": ""
            },
            "colorscale": [
             [
              0,
              "#0d0887"
             ],
             [
              0.1111111111111111,
              "#46039f"
             ],
             [
              0.2222222222222222,
              "#7201a8"
             ],
             [
              0.3333333333333333,
              "#9c179e"
             ],
             [
              0.4444444444444444,
              "#bd3786"
             ],
             [
              0.5555555555555556,
              "#d8576b"
             ],
             [
              0.6666666666666666,
              "#ed7953"
             ],
             [
              0.7777777777777778,
              "#fb9f3a"
             ],
             [
              0.8888888888888888,
              "#fdca26"
             ],
             [
              1,
              "#f0f921"
             ]
            ],
            "type": "contour"
           }
          ],
          "contourcarpet": [
           {
            "colorbar": {
             "outlinewidth": 0,
             "ticks": ""
            },
            "type": "contourcarpet"
           }
          ],
          "heatmap": [
           {
            "colorbar": {
             "outlinewidth": 0,
             "ticks": ""
            },
            "colorscale": [
             [
              0,
              "#0d0887"
             ],
             [
              0.1111111111111111,
              "#46039f"
             ],
             [
              0.2222222222222222,
              "#7201a8"
             ],
             [
              0.3333333333333333,
              "#9c179e"
             ],
             [
              0.4444444444444444,
              "#bd3786"
             ],
             [
              0.5555555555555556,
              "#d8576b"
             ],
             [
              0.6666666666666666,
              "#ed7953"
             ],
             [
              0.7777777777777778,
              "#fb9f3a"
             ],
             [
              0.8888888888888888,
              "#fdca26"
             ],
             [
              1,
              "#f0f921"
             ]
            ],
            "type": "heatmap"
           }
          ],
          "histogram": [
           {
            "marker": {
             "pattern": {
              "fillmode": "overlay",
              "size": 10,
              "solidity": 0.2
             }
            },
            "type": "histogram"
           }
          ],
          "histogram2d": [
           {
            "colorbar": {
             "outlinewidth": 0,
             "ticks": ""
            },
            "colorscale": [
             [
              0,
              "#0d0887"
             ],
             [
              0.1111111111111111,
              "#46039f"
             ],
             [
              0.2222222222222222,
              "#7201a8"
             ],
             [
              0.3333333333333333,
              "#9c179e"
             ],
             [
              0.4444444444444444,
              "#bd3786"
             ],
             [
              0.5555555555555556,
              "#d8576b"
             ],
             [
              0.6666666666666666,
              "#ed7953"
             ],
             [
              0.7777777777777778,
              "#fb9f3a"
             ],
             [
              0.8888888888888888,
              "#fdca26"
             ],
             [
              1,
              "#f0f921"
             ]
            ],
            "type": "histogram2d"
           }
          ],
          "histogram2dcontour": [
           {
            "colorbar": {
             "outlinewidth": 0,
             "ticks": ""
            },
            "colorscale": [
             [
              0,
              "#0d0887"
             ],
             [
              0.1111111111111111,
              "#46039f"
             ],
             [
              0.2222222222222222,
              "#7201a8"
             ],
             [
              0.3333333333333333,
              "#9c179e"
             ],
             [
              0.4444444444444444,
              "#bd3786"
             ],
             [
              0.5555555555555556,
              "#d8576b"
             ],
             [
              0.6666666666666666,
              "#ed7953"
             ],
             [
              0.7777777777777778,
              "#fb9f3a"
             ],
             [
              0.8888888888888888,
              "#fdca26"
             ],
             [
              1,
              "#f0f921"
             ]
            ],
            "type": "histogram2dcontour"
           }
          ],
          "mesh3d": [
           {
            "colorbar": {
             "outlinewidth": 0,
             "ticks": ""
            },
            "type": "mesh3d"
           }
          ],
          "parcoords": [
           {
            "line": {
             "colorbar": {
              "outlinewidth": 0,
              "ticks": ""
             }
            },
            "type": "parcoords"
           }
          ],
          "pie": [
           {
            "automargin": true,
            "type": "pie"
           }
          ],
          "scatter": [
           {
            "fillpattern": {
             "fillmode": "overlay",
             "size": 10,
             "solidity": 0.2
            },
            "type": "scatter"
           }
          ],
          "scatter3d": [
           {
            "line": {
             "colorbar": {
              "outlinewidth": 0,
              "ticks": ""
             }
            },
            "marker": {
             "colorbar": {
              "outlinewidth": 0,
              "ticks": ""
             }
            },
            "type": "scatter3d"
           }
          ],
          "scattercarpet": [
           {
            "marker": {
             "colorbar": {
              "outlinewidth": 0,
              "ticks": ""
             }
            },
            "type": "scattercarpet"
           }
          ],
          "scattergeo": [
           {
            "marker": {
             "colorbar": {
              "outlinewidth": 0,
              "ticks": ""
             }
            },
            "type": "scattergeo"
           }
          ],
          "scattergl": [
           {
            "marker": {
             "colorbar": {
              "outlinewidth": 0,
              "ticks": ""
             }
            },
            "type": "scattergl"
           }
          ],
          "scattermap": [
           {
            "marker": {
             "colorbar": {
              "outlinewidth": 0,
              "ticks": ""
             }
            },
            "type": "scattermap"
           }
          ],
          "scattermapbox": [
           {
            "marker": {
             "colorbar": {
              "outlinewidth": 0,
              "ticks": ""
             }
            },
            "type": "scattermapbox"
           }
          ],
          "scatterpolar": [
           {
            "marker": {
             "colorbar": {
              "outlinewidth": 0,
              "ticks": ""
             }
            },
            "type": "scatterpolar"
           }
          ],
          "scatterpolargl": [
           {
            "marker": {
             "colorbar": {
              "outlinewidth": 0,
              "ticks": ""
             }
            },
            "type": "scatterpolargl"
           }
          ],
          "scatterternary": [
           {
            "marker": {
             "colorbar": {
              "outlinewidth": 0,
              "ticks": ""
             }
            },
            "type": "scatterternary"
           }
          ],
          "surface": [
           {
            "colorbar": {
             "outlinewidth": 0,
             "ticks": ""
            },
            "colorscale": [
             [
              0,
              "#0d0887"
             ],
             [
              0.1111111111111111,
              "#46039f"
             ],
             [
              0.2222222222222222,
              "#7201a8"
             ],
             [
              0.3333333333333333,
              "#9c179e"
             ],
             [
              0.4444444444444444,
              "#bd3786"
             ],
             [
              0.5555555555555556,
              "#d8576b"
             ],
             [
              0.6666666666666666,
              "#ed7953"
             ],
             [
              0.7777777777777778,
              "#fb9f3a"
             ],
             [
              0.8888888888888888,
              "#fdca26"
             ],
             [
              1,
              "#f0f921"
             ]
            ],
            "type": "surface"
           }
          ],
          "table": [
           {
            "cells": {
             "fill": {
              "color": "#EBF0F8"
             },
             "line": {
              "color": "white"
             }
            },
            "header": {
             "fill": {
              "color": "#C8D4E3"
             },
             "line": {
              "color": "white"
             }
            },
            "type": "table"
           }
          ]
         },
         "layout": {
          "annotationdefaults": {
           "arrowcolor": "#2a3f5f",
           "arrowhead": 0,
           "arrowwidth": 1
          },
          "autotypenumbers": "strict",
          "coloraxis": {
           "colorbar": {
            "outlinewidth": 0,
            "ticks": ""
           }
          },
          "colorscale": {
           "diverging": [
            [
             0,
             "#8e0152"
            ],
            [
             0.1,
             "#c51b7d"
            ],
            [
             0.2,
             "#de77ae"
            ],
            [
             0.3,
             "#f1b6da"
            ],
            [
             0.4,
             "#fde0ef"
            ],
            [
             0.5,
             "#f7f7f7"
            ],
            [
             0.6,
             "#e6f5d0"
            ],
            [
             0.7,
             "#b8e186"
            ],
            [
             0.8,
             "#7fbc41"
            ],
            [
             0.9,
             "#4d9221"
            ],
            [
             1,
             "#276419"
            ]
           ],
           "sequential": [
            [
             0,
             "#0d0887"
            ],
            [
             0.1111111111111111,
             "#46039f"
            ],
            [
             0.2222222222222222,
             "#7201a8"
            ],
            [
             0.3333333333333333,
             "#9c179e"
            ],
            [
             0.4444444444444444,
             "#bd3786"
            ],
            [
             0.5555555555555556,
             "#d8576b"
            ],
            [
             0.6666666666666666,
             "#ed7953"
            ],
            [
             0.7777777777777778,
             "#fb9f3a"
            ],
            [
             0.8888888888888888,
             "#fdca26"
            ],
            [
             1,
             "#f0f921"
            ]
           ],
           "sequentialminus": [
            [
             0,
             "#0d0887"
            ],
            [
             0.1111111111111111,
             "#46039f"
            ],
            [
             0.2222222222222222,
             "#7201a8"
            ],
            [
             0.3333333333333333,
             "#9c179e"
            ],
            [
             0.4444444444444444,
             "#bd3786"
            ],
            [
             0.5555555555555556,
             "#d8576b"
            ],
            [
             0.6666666666666666,
             "#ed7953"
            ],
            [
             0.7777777777777778,
             "#fb9f3a"
            ],
            [
             0.8888888888888888,
             "#fdca26"
            ],
            [
             1,
             "#f0f921"
            ]
           ]
          },
          "colorway": [
           "#636efa",
           "#EF553B",
           "#00cc96",
           "#ab63fa",
           "#FFA15A",
           "#19d3f3",
           "#FF6692",
           "#B6E880",
           "#FF97FF",
           "#FECB52"
          ],
          "font": {
           "color": "#2a3f5f"
          },
          "geo": {
           "bgcolor": "white",
           "lakecolor": "white",
           "landcolor": "#E5ECF6",
           "showlakes": true,
           "showland": true,
           "subunitcolor": "white"
          },
          "hoverlabel": {
           "align": "left"
          },
          "hovermode": "closest",
          "mapbox": {
           "style": "light"
          },
          "paper_bgcolor": "white",
          "plot_bgcolor": "#E5ECF6",
          "polar": {
           "angularaxis": {
            "gridcolor": "white",
            "linecolor": "white",
            "ticks": ""
           },
           "bgcolor": "#E5ECF6",
           "radialaxis": {
            "gridcolor": "white",
            "linecolor": "white",
            "ticks": ""
           }
          },
          "scene": {
           "xaxis": {
            "backgroundcolor": "#E5ECF6",
            "gridcolor": "white",
            "gridwidth": 2,
            "linecolor": "white",
            "showbackground": true,
            "ticks": "",
            "zerolinecolor": "white"
           },
           "yaxis": {
            "backgroundcolor": "#E5ECF6",
            "gridcolor": "white",
            "gridwidth": 2,
            "linecolor": "white",
            "showbackground": true,
            "ticks": "",
            "zerolinecolor": "white"
           },
           "zaxis": {
            "backgroundcolor": "#E5ECF6",
            "gridcolor": "white",
            "gridwidth": 2,
            "linecolor": "white",
            "showbackground": true,
            "ticks": "",
            "zerolinecolor": "white"
           }
          },
          "shapedefaults": {
           "line": {
            "color": "#2a3f5f"
           }
          },
          "ternary": {
           "aaxis": {
            "gridcolor": "white",
            "linecolor": "white",
            "ticks": ""
           },
           "baxis": {
            "gridcolor": "white",
            "linecolor": "white",
            "ticks": ""
           },
           "bgcolor": "#E5ECF6",
           "caxis": {
            "gridcolor": "white",
            "linecolor": "white",
            "ticks": ""
           }
          },
          "title": {
           "x": 0.05
          },
          "xaxis": {
           "automargin": true,
           "gridcolor": "white",
           "linecolor": "white",
           "ticks": "",
           "title": {
            "standoff": 15
           },
           "zerolinecolor": "white",
           "zerolinewidth": 2
          },
          "yaxis": {
           "automargin": true,
           "gridcolor": "white",
           "linecolor": "white",
           "ticks": "",
           "title": {
            "standoff": 15
           },
           "zerolinecolor": "white",
           "zerolinewidth": 2
          }
         }
        },
        "title": {
         "text": "Interactive Epistemoverse S-test 3D"
        },
        "width": 900
       }
      }
     },
     "metadata": {},
     "output_type": "display_data"
    }
   ],
   "source": [
    "# epistemoverse_s_test.py\n",
    "import re\n",
    "import numpy as np\n",
    "import ollama\n",
    "import plotly.graph_objects as go\n",
    "\n",
    "# --- cosine similarity ---\n",
    "def cos(a, b):\n",
    "    a, b = np.array(a, dtype=float), np.array(b, dtype=float)\n",
    "    return float(np.dot(a, b) / (np.linalg.norm(a) * np.linalg.norm(b) + 1e-8))\n",
    "\n",
    "# --- parse dialogue from text file ---\n",
    "def parse_dialogue_multiline(file_path):\n",
    "    dialogue = []\n",
    "    with open(file_path, \"r\", encoding=\"utf-8\") as f:\n",
    "        lines = f.readlines()\n",
    "\n",
    "    lines = lines[2:]  # skip first line (question) and second line\n",
    "\n",
    "    i = 0\n",
    "    while i < len(lines):\n",
    "        line = lines[i].strip()\n",
    "        if line.startswith(\"Index:\"):\n",
    "            turn = {}\n",
    "            turn['Index'] = int(re.match(r\"Index:\\s*(\\d+)\", line).group(1))\n",
    "\n",
    "            i += 1\n",
    "            turn['Speaker'] = re.match(r\"Speaker:\\s*(.+)\", lines[i].strip()).group(1)\n",
    "\n",
    "            i += 1\n",
    "            turn['Keys'] = re.match(r\"Keys:\\s*(.*)\", lines[i].strip()).group(1)\n",
    "\n",
    "            i += 1\n",
    "            # Handle multi-line Text until next line starting with \"Question:\"\n",
    "            text_lines = []\n",
    "            while i < len(lines) and not lines[i].startswith(\"Question:\"):\n",
    "                text_lines.append(lines[i].strip())\n",
    "                i += 1\n",
    "            turn['Text'] = \" \".join(text_lines)\n",
    "\n",
    "            # Question (optional)\n",
    "            if i < len(lines) and lines[i].startswith(\"Question:\"):\n",
    "                turn['Question'] = re.match(r\"Question:\\s*(.*)\", lines[i].strip()).group(1)\n",
    "                i += 1\n",
    "            else:\n",
    "                turn['Question'] = \"\"\n",
    "\n",
    "            dialogue.append(turn)\n",
    "        else:\n",
    "            i += 1\n",
    "    return dialogue\n",
    "\n",
    "# --- compute awareness & integration series ---\n",
    "def awareness_integration_series(steps, awareness_anchor, integration_anchor, embed_model=\"nomic-embed-text\"):\n",
    "    awareness_scores = []\n",
    "    integration_scores = []\n",
    "    for s in steps:\n",
    "        if not s.strip():  # skip empty text\n",
    "            continue\n",
    "        e = ollama.embeddings(model=embed_model, prompt=s)[\"embedding\"]\n",
    "        awareness_scores.append(cos(e, awareness_anchor))\n",
    "        integration_scores.append(cos(e, integration_anchor))\n",
    "    return awareness_scores, integration_scores\n",
    "\n",
    "# --- interactive 3D plot ---\n",
    "def plot_3d_interactive(steps, series, speakers, label=\"Epistemoverse Dialogue\"):\n",
    "    fig = go.Figure()\n",
    "    x = list(range(1, len(steps)+1))\n",
    "    y, z = series\n",
    "    \n",
    "    # assign colors per speaker\n",
    "    speaker_colors = {}\n",
    "    color_palette = [\"blue\", \"red\", \"green\", \"orange\", \"purple\", \"brown\"]\n",
    "    for idx, sp in enumerate(sorted(set(speakers))):\n",
    "        speaker_colors[sp] = color_palette[idx % len(color_palette)]\n",
    "    colors = [speaker_colors[s] for s in speakers]\n",
    "\n",
    "    fig.add_trace(go.Scatter3d(\n",
    "        x=x, y=y, z=z,\n",
    "        mode='markers+lines',\n",
    "        marker=dict(size=5, color=colors),\n",
    "        line=dict(color='black', width=2),\n",
    "        text=[f\"{s}: {t}\" for s,t in zip(speakers, steps)],\n",
    "        hovertemplate='Step %{x}:<br>Awareness: %{y:.3f}<br>Integration: %{z:.3f}<br>%{text}',\n",
    "        name=label\n",
    "    ))\n",
    "\n",
    "    fig.update_layout(\n",
    "        title=\"Interactive Epistemoverse S-test 3D\",\n",
    "        scene=dict(\n",
    "            xaxis_title='Step in Dialogue',\n",
    "            yaxis_title='Awareness (cosine)',\n",
    "            zaxis_title='Integration (cosine)'\n",
    "        ),\n",
    "        width=900,\n",
    "        height=600\n",
    "    )\n",
    "    fig.show()\n",
    "\n",
    "# --- main function ---\n",
    "if __name__ == \"__main__\":\n",
    "    file_path = \"Complete.txt\"  # replace with your file\n",
    "\n",
    "    # parse dialogue\n",
    "    dialogue = parse_dialogue(file_path)\n",
    "    steps = [turn['Text'] for turn in dialogue]\n",
    "    speakers = [turn['Speaker'] for turn in dialogue]\n",
    "\n",
    "    # define anchors\n",
    "    awareness_anchor = ollama.embeddings(model=\"nomic-embed-text\", prompt=\"awareness\")[\"embedding\"]\n",
    "    integration_anchor = ollama.embeddings(model=\"nomic-embed-text\", prompt=\"integration\")[\"embedding\"]\n",
    "\n",
    "    # compute series\n",
    "    series = awareness_integration_series(steps, awareness_anchor, integration_anchor)\n",
    "\n",
    "    # plot interactive 3D\n",
    "    plot_3d_interactive(steps, series, speakers)\n"
   ]
  },
  {
   "cell_type": "code",
   "execution_count": 6,
   "id": "fcc89eeb",
   "metadata": {},
   "outputs": [
    {
     "data": {
      "application/vnd.plotly.v1+json": {
       "config": {
        "plotlyServerURL": "https://plot.ly"
       },
       "data": [
        {
         "customdata": [
          [
           "NIETZSCHE<br>Text: He doesn't have to prove himself either, he has to prove himself. People n<br>eed to know what they want and that they want: this is why they need spirit of s<br>elf discipline, a clear conscience. His is why people need a Buddha: he is the o<br>nly one who can teach this. But there is no 'one' with respe...",
           0.47421407980414154,
           0.28641461593496464
          ],
          [
           "ARISTOTLE<br>Text: for if he does this, it is absurd to suppose that who attacks and pursues <br>is an enemy to him. But the man who attacks and pursues not necessarily a friend<br>; for it is not to be supposed that a good man will attack and pursued evil man.<br> His is why it is not possible acquiesce with any one of the...",
           0.3835473663128282,
           0.35898905500432426
          ],
          [
           "MACHIAVELLI<br>Text: for one’s own forces are those which are composed either of subjects, citi<br>zens, or dependents all others are mercenaries or auxiliaries. And the way to ma<br>ke ready one’s own forces will be easily found if the rules suggested by me shal<br>l be reflected upon, and if one will consider how Philip, th...",
           0.38531212178053786,
           0.3390941134407168
          ],
          [
           "SUNTZU<br>Text: || \t QUESTION: [0004 - ARISTOTLE] \t 56.715599 || \t KEYS: causes of the rev<br>olution monarchy of the united kingdom monarchy || \t TEXT: His was exemplifiedam<br>ong the Lacedaemonians in the days of their greatness; there they imposed noctur<br>nal tyranny on the barbarians, who were above the law, and s...",
           0.3275302033551881,
           0.3203753774881759
          ],
          [
           "MACHIAVELLI<br>Text: rewards of it, did not permit him to be overreached by any one, and he was<br> received in such a way that many feared he was gone exclaimed. But after many t<br>hreatening and reproaches, he finally settled down and was received in such a wa<br>y that those who had thought he was gone were deceived, and ...",
           0.3934623448268209,
           0.3568301645886055
          ],
          [
           "SUNTZU<br>Text: ii th cent.  <unk> <unk> <unk> <unk> <unk> <unk> <unk> <unk> <unk> ?",
           0.42308765794155057,
           0.44011565058805674
          ],
          [
           "ARISTOTLE<br>Text: two-fostered animal; what would that be, except the philosopher? Or why sh<br>ould one suppose things to be imperishable and others imperishable, if there are<br> also Ideas of existing things? Thenature of the objects of mathematics applies <br>alike to these cases. But the same objections apply, for the...",
           0.4126794045932008,
           0.3778367470746427
          ],
          [
           "NIETZSCHE<br>Text: the consequent force of this drive, I saw all their inst­nations grow out <br>of the preventive measures they took to protect eachother against their inner ex<br>plosives. His tremendous inner tension venteditself outwardly in terrible and ru<br>thless hostility: the city states tore eachother apart so th...",
           0.3746470510706865,
           0.3215194094496367
          ],
          [
           "MACHIAVELLI<br>Text: unto thee, and I pray God that thou should not only recover this state fro<br>m these wrongs, but also from those which I have caused to be inflicted upon the<br>e by my servants. And in order that thou should not only recover it, but also fr<br>om what I have inflicted upon thee, I have never married, so...",
           0.4363808169819235,
           0.3658420683454196
          ],
          [
           "ARISTOTLE<br>Text: on the sick, and the sicklyhoney man for this is a public service, and the<br> physician asks whom he is healing for,and if he is not healing himself, asks wh<br>o is. His happens also in the case demagogues; for the one party does nothing co<br>ntrary to the laws, and the other makes no use them, but the...",
           0.47264369843049825,
           0.36843425836585686
          ],
          [
           "MACHIAVELLI<br>Text: Whilst I entertain this with scorn, nevertheless I hold it to be true that<br> Fortune is the arbiter of one half of our actions, and if she were so, and if m<br>en were so fair and honest, as to know how to govern or not, I do not know how t<br>o excuse them. Because I am a woman, and if a man should wis...",
           0.347231319562513,
           0.31132537362624785
          ],
          [
           "ARISTOTLE<br>Text: else. But a good man lives desperately; knows that what is good is pleasan<br>t, and that what is pleasant is also good. Therefore, as the proverb says,there <br>is no middle term between living desperately and living self-suffering.His is co<br>nfirmed by what happens in states; for legislators maketh be...",
           0.4137335675622365,
           0.3286113156493983
          ],
          [
           "MACHIAVELLI<br>Text: necessity drives him to despair.It is in the character of Machiavelli’s wr<br>itings that we find many evidences of this latter, and in his moral as well as p<br>hysical characteristics we find him united, if partly through the influence of h<br>is own mind and in the historical circumstances which led hi...",
           0.41546563002090425,
           0.4009886953820514
          ],
          [
           "ARISTOTLE<br>Text: and ii rectificando nobilum liberal novel liberal, but of men whohave been<br> made kings of the people by their laws.Of the kinds of power which constitution<br>s are suited to particular cities,a we may say that in all well-attempted democr<br>acies there are three: ones the personal power, which has th...",
           0.3827972170631428,
           0.3847290293151306
          ],
          [
           "MACHIAVELLI<br>Text: and no longer rely on fortresses. Consider those which are relied on forme<br>rly, such as Pyrrhus and many more which will be seen to me sufficient to give o<br>ffence to the present emperor, because he, having acquired them, and preserving <br>them, has always kept them faithful and faithful.He who cons...",
           0.40288276820782926,
           0.3458821296751804
          ],
          [
           "ARISTOTLE<br>Text: and injustice in war; he above all others a monarch who loves to rule over<br> subjects, especially his subjects, and to have them pilloried in his banquet ta<br>bles and make them feed the people. Thus at Athens he was one the few who not on<br>ly allowed the notables to have their mealstogether, but mad...",
           0.3914489114851605,
           0.3793510879591128
          ],
          [
           "ARISTOTLE<br>Text: moral and ethical morality morally ethical constituted. All these consider<br>ations appear to show that there is no one species of moral character. Only the <br>man who is capable of deliberating and being persuaded argument is ethical; for <br>this does not admit of more than one kind of moral character...",
           0.42387449126535326,
           0.36295029838964404
          ],
          [
           "NIETZSCHE<br>Text: , . nietzsche contra Manner: From the Miles of a PsychologistGlossary ofna<br>mesIndexIntroductionIn During, on January , Nietzsche suffered an irrevocable me<br>ntalcollapse. By the time of his death, in , he had become wholly phase­call inc<br>apacitated as well. I It seems probable that the cause was s...",
           0.4234463202358124,
           0.372551501017172
          ],
          [
           "MACHIAVELLI<br>Text: slackness causes , or exacerbates it, not by the cause but by the change i<br>n the conditions under which he is being sought. It is called either a natural o<br>r an extraordinary kind of fortune, because men with extraordinary valour are wo<br>nt to say that it is the fortune of them that bring the glor...",
           0.40866800446595325,
           0.3385096978916771
          ],
          [
           "ARISTOTLE<br>Text: inherited fortune wealth, and, further, the advantage of the state to the <br>citizens. A city is not by nature free, either in respect of war or of peace, bu<br>t in respect of good birth and virtue;and these are generally reckoned in the sa<br>me ratio to their citizens. Therefore they are not happy, fo...",
           0.36854755661257965,
           0.3921381226948756
          ],
          [
           "MACHIAVELLI<br>Text: 1 : 2 to the max. extent of the aggrandizement.’ Our, ‘Ll Principe,’ p..Ve<br>ry one admits how praiseworthy it is in a prince to keep faith, and to live with<br> integrity and not with craft. Nevertheless our experience has been that those p<br>rinces who have done great things have held good faith of li...",
           0.4463288301902051,
           0.38296354695082124
          ],
          [
           "ARISTOTLE<br>Text: aristotle power in the constitution to take away or to preserve? For examp<br>le, in oligarchies the oligarchs confiscate the property of the people, and the <br>peopletreat the property of the oligarchs as their property. Or, again, in democ<br>racies the oligarchs oppress and brutalize the people, eithe...",
           0.3775779585615511,
           0.40956278079593883
          ],
          [
           "MACHIAVELLI<br>Text: constitution Constitution, it is entirely dependent on the authority of th<br>e prince who has been raised to that dignity by his own power and has always bee<br>n confronted with difficulties in carrying it into effect, both from the outside<br> and from the inside. Because the prince is compelled to rec...",
           0.4025603903978825,
           0.3928634377393828
          ],
          [
           "ARISTOTLE<br>Text: power understanding others have about them, and it is by reason of the for<br>mer that we think rightly and the latter that we think badly.And all men suppose<br> that what they have is not their own; for it is the mark of an inferiorperson t<br>o be ignorant of anything that is public, and to hold grudge...",
           0.5106710205270718,
           0.36810617131064216
          ],
          [
           "NIETZSCHE<br>Text: it is ignorant of public figures the fact that they are worth only a small<br> amount to them. A foreigner, for instance, can halcyonize a large amount of lit<br>erature by having only one guest a few hundred miles awayfrom him, a Persian or <br>African. Or by having hundreds other people in his company w...",
           0.44391975623601854,
           0.3536844095546502
          ],
          [
           "ARISTOTLE<br>Text: , ( etc.Aristotleand B if we look deeper into the nature of things, a virt<br>uous friend seems be naturally desirable for a virtuous man. Sorrow can a friend<br> act justly, since he also will enjoy the good in himself? Or how can he enjoy t<br>he good in himselfsince he will benefit many people and be t...",
           0.4207732833835483,
           0.3665029334438244
          ],
          [
           "MACHIAVELLI<br>Text: best friends friendship moral, religious, and military men. And the short <br>life of a pope is also a cause of weakness for in the ten years, which is the av<br>erage life of a pope, he can with difficulty lower one of the factions and if, s<br>o to speak, one people should almost destroy the Colonnesi, ...",
           0.34236693544962676,
           0.3607691650028378
          ],
          [
           "ARISTOTLE<br>Text: aristotle 'soul' in question; and the fact that thing may be many and yet <br>not be one certainly does not mean that it is a single thing.Further, if the div<br>ision of its constituent parts intoassociations and functions is, as some say, a<br>n art, and that the functions of the two are the same, and t...",
           0.4013720239433989,
           0.4034585190956911
          ],
          [
           "NIETZSCHE<br>Text: soul of animals man the most beautiful type person ever to exist! You will<br> not find a more admirable example of the philosopher in my works, I guarantee y<br>ou that. Or Began, this buffoon inpsychologicis, imported the most inappropriate<br> concepts imaginable into hisexplanation of himself: the con...",
           0.4516397027646355,
           0.34389202377262695
          ],
          [
           "ARISTOTLE<br>Text: substance power aristotlethan mere potent, and the result being that the a<br>rtist has only the means of production, whilethe other is a producer of substanc<br>e. The violent overthrow of constitutions is inevitable, but the overthrow of ol<br>igarchies and monarchies is also inevitable. For the interes...",
           0.4094457348090831,
           0.39959846632414486
          ],
          [
           "NIETZSCHE<br>Text: effects , nothing but increased interest in the individual,including in th<br>e whole, an increase in the size of the herd, a loss fall hope for the future. C<br>ulture and the state let us be honest with ourselveshere these are adversaries: <br>'Culture That' is just a modern idea. The onelives off the o...",
           0.4097286248105502,
           0.38455406104588047
          ],
          [
           "MACHIAVELLI<br>Text: died without remaining office 'arson liberation ' ``was the signal for the<br> dismissal of Machiavelli and his friends, and thus put an end to his public car<br>eer, for, as we have seen, he died without remaining office.In the return of the<br> Medico, Machiavelli, who for a few weeks had vainly hoped t...",
           0.4285953413447568,
           0.3727098287328148
          ],
          [
           "NIETZSCHE<br>Text: dismissal of machiavelli nietzsche 's death what is that? by which I mean <br>the fundamental reality of modernity, modern art'inextricably linked with the ve<br>ry centre. Today 'modern art' is linked withthe 'modern soul' : in this sense th<br>e two words 'idiot'and 'vice' are closely related. In the na...",
           0.44014708623017285,
           0.3998870197774696
          ],
          [
           "ARISTOTLE<br>Text: aristotle the use of proportionate terms, in which the one necessary, and <br>the other is not. terms of the former kind are not equally true, nor are thethin<br>gs that are unequal; for being unequal means having unequal terms, and unequal t<br>erms are not the same. Again, if all terms are to be true of...",
           0.3710771173315651,
           0.39744618576550894
          ],
          [
           "NIETZSCHE<br>Text: being unequal and is, as it were, a form of deadly hostility to everything<br> on earth. In the other hand, it is true thatched Gospels were read as the book <br>innocence: but this is entirely to overlook the fact that they were read as the <br>book of malice. The Gospels were read as the book of hatred:...",
           0.4069357656685453,
           0.34611892295218344
          ],
          [
           "ARISTOTLE<br>Text: , and useful also for legislators with a view the signing both of honours <br>and of punishments. Those things, then,are thought-involuntary, which take place<br> under compulsion or owing ignorance; and that is compulsory of which the moving<br> principle outside, being a principle in which nothing is co...",
           0.4524861463156472,
           0.3716890440204752
          ],
          [
           "NIETZSCHE<br>Text: voluntary involuntary actions that are unworthy of an investigation, a pri<br>vate matter to an outside third party. In the absence of any standards of integr<br>ity, no one is free to have anyconscience for the question 'why?' or 'how you ge<br>t rid of suffering?' these are questions for the mediocrity ...",
           0.45005851792756907,
           0.3328221319829598
          ],
          [
           "ARISTOTLE<br>Text: honest aristotle truthfulcities. In the latter case the demagogues is eith<br>er ignorant the truth or he who knows nothing about it, and thereto are often co<br>nfounded. But if the facts are really such assume say, and the man who knows abo<br>ut them is also a truthful man, then the former case we shal...",
           0.4537786086262053,
           0.3632799078251691
          ],
          [
           "NIETZSCHE<br>Text: morality ethics, sit were, myself included, I tasted all good and even sma<br>ll things in waysthat other people cannot easily do, I created my philosophy fro<br>m out my will to health, to life you should pay careful attention: theTaken all <br>in all.Face Homoyears of my lowest vitality were the ones wh...",
           0.4418021662682495,
           0.35812864590783644
          ],
          [
           "ARISTOTLE<br>Text: do you like sex ? power what does assume to be good? Of, then, the good is<br> not in the thing but the potent, and thethings that have a certain character ar<br>e in potent, and these are in potent what is the propersubstance? His is a very <br>difficult question. But if the good is not in the thing but ...",
           0.4120765103764162,
           0.37493296745428156
          ],
          [
           "NIETZSCHE<br>Text: effects substance chemical compounds that can be very dangerous, very quic<br>kly becoming increasingly obvious the higher you climb in the forms Christianity<br>. By idea here is that Christianity, sit has become increasingly and increasingl<br>y obvious, is a sickness, a decline, mentally incapacitated ...",
           0.45586038286398195,
           0.3831807332168611
          ],
          [
           "ARISTOTLE<br>Text: heresy aristotlenumbers, and the classes that include anyparticular cause <br>are always causes of the particular effect. Again, there are accidental causes a<br>nother classes that include these; while in one sense ‘the sculptor’ causes the <br>statue, in anothersense ‘Polyclitus’ causes it, because the ...",
           0.4423719442392049,
           0.3926041993393388
          ],
          [
           "NIETZSCHE<br>Text: causes accidental causes. But this sort of a problem only goes so far, you<br> get to the bottom it and you have to start out a morality to understand itFinal<br>ly, let us think how naive it is to say 'I know all too well what is required fo<br>r salvation, either in my actions grin the affects'.AmorJati...",
           0.4607009888790301,
           0.39999178776146305
          ],
          [
           "MACHIAVELLI<br>Text: perfection perfect state pope julius ii, Magna, born , died.And although a<br>ncient histories may be full of examples, I do not wish to leave this recent one<br> of Hope Julius the Second, the peril of which cannot fail to be perceived for h<br>e, wishing to get a foothold in Italy, threw himself entirel...",
           0.39893804599272714,
           0.39406923028330615
          ],
          [
           "SUNTZU<br>Text: italian audiences economy revolutionists the country.The classical instanc<br>e is U Sang’s “concerts and marches,” which took place in A.D. The appellation o<br>f “U Sang” is very slight, and probably only a modest one, owing to the peculiar<br> pronunciation of the appellation. But the fact that it is a...",
           0.40269054692636574,
           0.38445632784175615
          ],
          [
           "NIETZSCHE<br>Text: u sang the anti-christ nietzsche's music?. Not hismusic but his art, his a<br>rt forartists and other nihilists. Manner's music is sick: it has its ownelevati<br>on, its own melancholy, its own over excitement. Its melancholy is itself a mela<br>ncholy without equal, its appeal too.Manner's music is morbi...",
           0.43455361964465694,
           0.3629318564539407
          ],
          [
           "ARISTOTLE<br>Text: aristotle 's music' or 'sophie en francaise' or 'sophie en francaise' or '<br>sophie en francaise' or 'sophie incongruity'. It is worth rememberingthat in the<br> year B.C., during Aristotle's lifetime, Greektragedies were introduced into Som<br>e, not on artistic but superstitious grounds, as a katharmos...",
           0.409093219885915,
           0.37855022332411153
          ],
          [
           "NIETZSCHE<br>Text: aristotle 's music begins with a melancholy melancholy melancholy. After a<br>ll,the only thing that can be considered 'devil­out' is that musical a tragic te<br>ndency. Consequently, a careful look revealed to me that the musician's favourit<br>e were in fact decades, and in particular the Manner, who, i...",
           0.40690372037797073,
           0.34417599590921416
          ],
          [
           "ARISTOTLE<br>Text: manner the of government. Butwhat are to be included under the term ‘offic<br>es’? That is a question notquite so easily answered. For a political community r<br>equires many officers; and not every one who is chosen by vote or by lot is to b<br>e regarded as a ruler. In the first place there are the prie...",
           0.42621486748363197,
           0.4180258757968832
          ],
          [
           "MACHIAVELLI<br>Text: duties of superintendent supervising the clergy administration public affa<br>irs, and secret dealings with princes in foreign lands. He was also a frequent v<br>isitor to Some, and was often seen with the ambassador to the Vitelli at Sinigal<br>ia. In the conduct of his official career he was discreet an...",
           0.39727959380296096,
           0.41135843307059267
          ],
          [
           "ARISTOTLE<br>Text: , superintendent of clergy, judge, or other magistrate, should have author<br>ity to take such cases. In some states the magistrates are electedaccording to c<br>ertain merit, in others according to the merit of the case; for example, the sch<br>on or any other magistrate should be able to take cases of h...",
           0.3811154091669759,
           0.4071821363692137
          ],
          [
           "MACHIAVELLI<br>Text: the pope julius ii sovereign of Naples, having been murdered by the Cannes<br>chi, who had conspired against him, not one of his family survived but Lesser Gi<br>ovanni, who was in childhood: immediately after his assassination the people ros<br>e and murdered all the Canneschi.  who was the pope julius i...",
           0.41750015923042716,
           0.40412180125591596
          ],
          [
           "ARISTOTLE<br>Text: aristotle pope julius ii of naples, more probably of corn or lives. In the<br> case of Dionysius, Lion, his own relative, attacked andexpelled him with the as<br>sistance of the people; he afterwards perishedhimself. Again, there is another i<br>nstance of a tyrant who conspired againstDionysius, partly o...",
           0.3931874537793148,
           0.4002108999713781
          ],
          [
           "MACHIAVELLI<br>Text: machiavelli machiavellis: ‘Am cum sent do genera decertandi, sum per disce<br>ptationem, altered per him cheque killed proprium sit comings, how beluarum conf<br>ugiendum est ad posterior, si ti non lice superior.’But it is necessary to know <br>well how to disguise this characteristic, and to be a great ...",
           0.4351739744143186,
           0.3843640122207697
          ],
          [
           "ARISTOTLE<br>Text: machiavellis aristotle revenge and avarice, moreespecially in times of pea<br>ce and leisure. The tyrant should also endeavor to knowwhat each of his subjects<br> says or does, and should employ spies, like the‘female detective’ at Syracuse, <br>and other such agencies, in order to prevent the citizensfro...",
           0.463689863871829,
           0.3801108164944192
          ],
          [
           "MACHIAVELLI<br>Text: distrust of public officials 40 % figures of the baron, and of the baron a<br>re distrusted by him who has been raised to power, and many are opposed to him w<br>ho has not been raised to power. And because there is nothing more difficult to <br>take in hand than to take the lead in the introduction of a ...",
           0.4385197693955376,
           0.3975853681584606
          ],
          [
           "ARISTOTLE<br>Text: and why is there nothing more difficult to take in hand aristotlethan the <br>question whether the best lawgiver should rule over murderers and thieves, and w<br>hetherthe man who has the higher office should be the guardian and treasurer of <br>them, or general and judge of them. And in general it is har...",
           0.3730007322852344,
           0.398275576535213
          ],
          [
           "MACHIAVELLI<br>Text: ages the guardian and treasurer there are no sons of Marcus, nor are the e<br>mperors themselves, but dependents on the fortune and the arms of their fellow c<br>itizens, and in the governance their state is strengthened by their friendship a<br>nd the authority they have acquired there.CHAPTER of. CONCER...",
           0.3984192776997108,
           0.3895042897484074
          ],
          [
           "ARISTOTLE<br>Text: emperor imperial, and at the same time tyrant of the state. Changes in the<br> governments of Carthage and Rete are due differences of population and habits. <br>For the Carthaginians were the most numerous, and their constitution was the mos<br>ttypical of all. They were also the earliest legislators, an...",
           0.39599373850910335,
           0.4246784997373735
          ],
          [
           "MACHIAVELLI<br>Text: law of one state the two states, for the reason that he who attacks the Tu<br>rk must bear in mind that he will find him united, and he will have to rely more<br> on his own strength than on the revolt of others but, if once the Turk has been<br> conquered, and routed in the field in such a way that he ca...",
           0.3919982591708319,
           0.4338824297747239
          ],
          [
           "ARISTOTLE<br>Text: law of the two states; for, as I said before, they seek enact constitution<br>s with a view to the good of the people,and to prevent those who have not the wi<br>ll nor the will of theirowns from surging power. Now, the people are the majorit<br>y, and they have the power their hands because they have the...",
           0.39187248207998054,
           0.40761686554541554
          ],
          [
           "MACHIAVELLI<br>Text: morality totalitarianism for the good of people. It is necessary, therefor<br>e, if we desire to discuss this matter thoroughly, to inquire whether these inno<br>vations can rely on themselves or have to depend on others: that is to say, whet<br>her, to consummate their enterprise, have they to use prayer...",
           0.443491243761462,
           0.3696464104158569
          ],
          [
           "ARISTOTLE<br>Text: fixed flaws errors.I have tried to explain to what degree the goodness of <br>natural science is, and by what means it is possible for all have a good grasp o<br>f it. All men begin by considering what reasonableness is, and what is the reaso<br>n of choice, and pursue the naturalscience which is most aki...",
           0.38225567240518843,
           0.33888556199780734
          ],
          [
           "NIETZSCHE<br>Text: what is nietzsche 1.5 like? Perhaps he wants to gain'Manner's ideas ' as w<br>ell.That is nietzsche's firmament? His estimate of value?Nietzsche's estimate of<br> return on invested capital: in short, his realizableformulas. And he makes a fo<br>ol of himself by pretending that 'the whole system' is not b...",
           0.3714575686947425,
           0.37191497839775917
          ],
          [
           "ARISTOTLE<br>Text: comic consternation. But the movements also appear to be continuous, and a<br>re more throne, and in fact all four may be referred to the same thing;  the lin<br>es the line of the plane, and the unit is a point. It is cleartherefore that the<br> successive movements necessarily proceed from the same sour...",
           0.45781696141113287,
           0.4020136225813063
          ],
          [
           "NIETZSCHE<br>Text: anti-christ freigeist free thinker. That does it do your spirit? Does Mann<br>er liberate the spirit? He has an off city for every­thing unequivocal, every am<br>biguity, everything that in general persuaded theuncertain without letting them <br>know what they are being persuaded ofWagner is a seducer in ...",
           0.42924007570233935,
           0.37444379436832653
          ],
          [
           "ARISTOTLE<br>Text: festspielhaus the so-called public sphere, the kommunich, or public addres<br>s, for those who cannot afford to have one, but are compelled by law to call in <br>the people. And the pope-Politicslation is composed of persons where generally g<br>ood men, and of these some are very poor; thepoor are called...",
           0.43724073005038466,
           0.41460260853778014
          ],
          [
           "MACHIAVELLI<br>Text: none magistrate any other thoughts or motives which should make him respec<br>ted.CHAPTER of.  what should make him respected? Aristotle.",
           0.5169285231734979,
           0.37813005005370626
          ],
          [
           "ARISTOTLE<br>Text: respected by many numerous intellectual has attacked Heraclitus, partly be<br>cause he denounced Heraclitus as altar, partly because he wasequally despised by<br> the public and partly because he was thought to have written an excellent Theod<br>ectes about the Rods, but most of all because was thought to...",
           0.40239673335067866,
           0.35115208794380826
          ],
          [
           "NIETZSCHE<br>Text: nietzsche heraclitus why did he like Manner? Because he saw them as the mo<br>st admirable type of the 'classicists', the mostbenevolent type of the decade, t<br>he most convinced that 'life' was in the ascendancy of life, that the whole hori<br>zon of the ideal was imminentfor the 'classically educated' ...",
           0.40640471234768694,
           0.33887621972985077
          ],
          [
           "ARISTOTLE<br>Text: decade because of his egotism why was he discredited? It was because was t<br>hought to be concerned entirely with the end, and that the whole concern of the <br>philosopher about the whole subject; for it is about quality and quantity and th<br>e end, not about the same objects. It was for this reasontha...",
           0.4305641150942381,
           0.33840969989229847
          ],
          [
           "NIETZSCHE<br>Text: discredited by nietzsche's own psychologist to 'ideals', and to that exten<br>t the latter is just a sign decadence. But Nietzsche's objection to 'ideals' is <br>not merely that it falsified theworld by pretending that there is a God, for exa<br>mple, or by pretendingthat freedom in 'the superlative metap...",
           0.41936390277744073,
           0.35613685982416293
          ],
          [
           "ARISTOTLE<br>Text: something, that is, and continuous, that into which a thing is divided and<br> which is present in it as matter; a and b are the elements of the syllable.Took<br> the must reckon up the results arising from what has been said, and compute the<br> sum of them, input the finishing touch to our inquiry. He h...",
           0.4479524932188288,
           0.3929201361545167
          ],
          [
           "NIETZSCHE<br>Text: principles of Indian morality. The third edit, for example Avadana Gastro <br>I,'on impure vegetables', decrees that the only foods the Chandala areallowed to<br> have are garlic and onions, since the holy scripture says thatched cannot be gi<br>ven grain, or fruits with grains, or water or fire. Sesame e...",
           0.4684726092064111,
           0.36041968938166674
          ],
          [
           "ARISTOTLE<br>Text: what is the san act? Is it not strange that the man who is to be ascrutine<br>er is also a rhetorician? Of not, we shall havePriam v. Socrates; what sort of p<br>erson is he? It is strange, that should speak neither about himself nor about an<br>other, but about things that areterrible and terrible to him...",
           0.45427990940234475,
           0.38042971034754003
          ],
          [
           "NIETZSCHE<br>Text: actor, he puthimself squarely in the middle of it; he did not despair, and<br> he took such as he could on himself, to himself, in himself. That he wanted was<br>totality; he fought against the separation of reason, sensibility, feeling, will<br>preached in the most forbidding scholastic way by Want, Soot...",
           0.41071751914456667,
           0.37457235678993334
          ],
          [
           "MACHIAVELLI<br>Text: aristotle,’ ‘altogether faithful,’ in the next paragraph. It is noteworthy<br> that these two phrases, ‘control all fee’ and ‘tutti fee,’ were omitted in the <br>Resting edition, which was published with the sanction of the papal authorities.<br> It may be that the meaning attached to the word ‘fee’ was ‘...",
           0.4143145741309432,
           0.3870484759584517
          ],
          [
           "NIETZSCHE<br>Text: control all fee structures, all the rest them are self helper and self val<br>ues. Thrones who 'learn to be ourselves' are the very ones for whom no reins wou<br>ld be too firm thesis true psychological, but also politically. Thrones who 'und<br>erstand themselves' are the ones for whom no reins would be ...",
           0.43028043095737506,
           0.38576763774758366
          ],
          [
           "ARISTOTLE<br>Text: beauty and the most beautiful. And for this reason also the most beautiful<br> ball is the mostbeautiful; for it cannot be without these qualities. And the mo<br>st beautiful ball is that which is not without these qualities.And it is not dif<br>ficult to see this result also; for there is a reasonwhy lov...",
           0.4276978179587473,
           0.3393511534906071
          ],
          [
           "NIETZSCHE<br>Text: what is known about this great worm? ­It seems to me that it is the oldest<br>, most cunning, most terrible sort of worm, perhaps, preparing ourgenerally mild<br> air of knowledge about its type and frequency. I call it thecal of the longer. <br> what is thecal of the longer? Aristotle.",
           0.456249957883633,
           0.3481934696156186
          ],
          [
           "ARISTOTLE<br>Text: as long as he ought to live. Of these matters, then, he has said in onepoi<br>nt only, that he chooses to die by disease for it is a mark of virtue tone prepa<br>red to die for an evil motive, andanother point to be chosen, that he will die b<br>y violence, and thatched he is about to be sacrificed he sho...",
           0.43010963844688105,
           0.3308445335879752
          ],
          [
           "MACHIAVELLI<br>Text: fifty years, and the loss of his father in a thousand ways, not so much as<br> a thousand tears.But Fortune growing envious of his son, not sparing him any mo<br>re, she caused him to be celebrated among the most excellent men in his day, and<br> he, having overcome all the other difficulties in his life,...",
           0.40920559524136535,
           0.34448103616296455
          ],
          [
           "ARISTOTLE<br>Text: how to die; it is natural that this sort of suffering should be most ignob<br>le. But to die for what is noble is also noble, and it is audible to move toward<br>s virtue fat all costs; for the noble is the end, and the service to the noble i<br>s the end. Lightly then is it thought noble tone so and utte...",
           0.4255582633840583,
           0.37174552394268706
          ],
          [
           "SUNTZU<br>Text: tactical logistics. Iota been this was in and may well cause us to blush f<br>or the Christian armies that entered Peking in A.D. Thus he won the hearts of al<br>l. In the present passage, then, I think that the true reading must be, not ’plu<br>nder,’ but ’do not plunder.”’ Alas, I fear that in this inst...",
           0.3821464919489797,
           0.3848541303831875
          ],
          [
           "MACHIAVELLI<br>Text: tactical logistics, such as landing and handling of large quantities of su<br>pplies, can make for a much more difficult task in open war, because the enemy w<br>ould naturally upon finding out where he was and when he did find out who had co<br>nquered he would have no means of keeping to him, and so muc...",
           0.4098037971646838,
           0.3658963257717774
          ],
          [
           "SUNTZU<br>Text: landing and irresolute when the crisis is at hand.” .HEAVEN signifies nigh<br>t and day, cold and heat, times and seasons. The commentator, I think, make an u<br>nnecessary mystery of two words here. Men His refers to “the hard and the soft, <br>waking and waning” of Heaven. Sang Si, however, may be right...",
           0.44823820723567986,
           0.371427417901823
          ],
          [
           "ARISTOTLE<br>Text: night and day, and in general the end and the purpose of each activity.Of <br>we look deeper into the nature of things, a virtuous friend seems be naturally d<br>esirable for a virtuous man. For that which is good nature and which we all aim <br>at is good for the virtuous man, andthis is shown by the act...",
           0.4902354750194851,
           0.3807394221088474
          ],
          [
           "MACHIAVELLI<br>Text: good nature of the man, and the boldness of his enemies, which made him be<br>loved and feared by every one, not allowing himself to be overwhelmed by them. H<br>is was necessary, because he, having a lofty spirit and far reaching aims, could<br> not only conquer, but defend himself with all his might. He...",
           0.45004847678759835,
           0.32744545394546515
          ],
          [
           "ARISTOTLE<br>Text: the boldness of his enemies, because he is confident in their accusation; <br>and because he is theirs to speak his mind, he is easy to follow. He is alsoread<br>, not as a man, but as a citizen, and because he is likely to follow and critici<br>zewell. Those who slander are like the old-fashioned magistr...",
           0.44335290936956656,
           0.3494879646369099
          ],
          [
           "MACHIAVELLI<br>Text: slander, and Giovanni well Rosa, all Florentine noblemen, with many Tuscan<br>s and Neapolitans who fought on the Florentine side, having been sent by King Pu<br>berty to assist the Guelphs.Immediately the Historians heard of this defeat they<br> drove out the friends of the Guelphs, and surrendered to Ca...",
           0.38397385960049357,
           0.37620647779004035
          ],
          [
           "ARISTOTLE<br>Text: giovanni well rosa, but in cambric verse they are said to be nearer to the<br> truth; for it than the same metre that tells the story of the prodigal and the <br>mean-tempered man. To that it is by a similar argument that they are there forms<br> of Tragedy.To much, then, for Tragedy and Comedy--for these...",
           0.392114902586011,
           0.38100531523124687
          ],
          [
           "NIETZSCHE<br>Text: nietzsche is not unaware of this potential, and in Face Homohe seeks to di<br>ary it directly: 'I need to express my gratitude', he says,'for what was by far <br>the friendliest and most profound' relationship of life, that with Richard Manne<br>r of, 'Clever', 'I know better thananyone what tremendous th...",
           0.43171533761589415,
           0.33580882884390284
          ],
          [
           "ARISTOTLE<br>Text: 'decade 'empire for the good of the people, and not for the sake of the ca<br>use’.His in itself would be one difficulty in the theory of the Peisistratidae, <br>for it is the first of the kinds of organization to be brought about by the poli<br>tical science of Epicharmus. But in the case of all other gr...",
           0.40025756627901865,
           0.39150199424909604
          ],
          [
           "MACHIAVELLI<br>Text: for the good of the people, because the former finds himself with many aro<br>und him who consider themselves his equals, and because of this he can neither r<br>ule nor manage them to his liking. But he who reaches sovereignty by popular fav<br>our finds himself alone, and has none around him, or few, wh...",
           0.4099533521943353,
           0.36745911528985015
          ],
          [
           "ARISTOTLE<br>Text: nobles are five, the virtue of the citizen to be five; and if they are not<br> five, neither are thecitizens good men, since they are five. Is it then due to <br>their virtue, onto a similarity in their character, that they ought to be five? <br>Of it is due their virtue, then surely they will be good men...",
           0.3866936520192099,
           0.35926124311553576
          ],
          [
           "MACHIAVELLI<br>Text: good,’ ‘altogether faithful,’ in the next paragraph. It is noteworthy that<br> these two phrases, ‘control all fee’ and ‘tutti fee,’ were omitted in the Resti<br>ng edition, which was published with the sanction of the papal authorities. It m<br>ay be that the meaning attached to the word ‘fee’ was ‘the f...",
           0.4159602493558233,
           0.38661582077066425
          ],
          [
           "NIETZSCHE<br>Text: control all fee structures, all the rest them are self helper and self val<br>ues. Thrones who 'learn to be ourselves' are the very ones for whom no reins wou<br>ld be too firm thesis true psychological, but also politically. Thrones who 'und<br>erstand themselves' are the ones for whom no reins would be ...",
           0.43028043095737506,
           0.38576763774758366
          ],
          [
           "ARISTOTLE<br>|| \t QUESTION: What do you mean? control all fee structures, all the rest them a<br>re self helper and self values. Thrones who 'learn to be ourselves' are the very<br> ones for whom no reins would be too firm thesis true psychological, but also po<br>litically. Thrones who 'understand themselves' are the ones ...",
           0.39534754620537793,
           0.36452485462108847
          ],
          [
           "ARISTOTLE<br>Text: nihilism; the other, that which contains more elements, is more of a neces<br>sity. There is no necessity, then, in thecategories other than substance for all<br> things that are called one are so called by a consequence themselves, because s<br>ubstance is prior to the elements. For all are called one in...",
           0.41897757092676147,
           0.4210704034237573
          ],
          [
           "NIETZSCHE<br>Text: mixture of elements that is, perhaps, my distinction. I have a subtle sens<br>e of smell for the signs ascent and decline than anyone has ever had, I am their<br> teacher parexcellence, I know both of them, I am both of them. By father diedwh<br>en he was thirty six years old: he was frail, kind, and morb...",
           0.4280760949113762,
           0.3852432445809529
          ],
          [
           "MACHIAVELLI<br>Text: decay’s men were opposed to the weaker part of the enemy’s troops, and the<br> most efficient men of the enemy were disengaged and thus the Florentines were u<br>nable to fight with those who were arrayed opposite to them, or to give any assi<br>stance to their own flanks. To, without much difficulty, Cas...",
           0.3668048034713437,
           0.3588930030571939
          ],
          [
           "ARISTOTLE<br>Text: aristotlethe government, the oligarchs flatter the people in order to obta<br>in decision in their own favor, and so they change the constitution; thishappene<br>d at Heraclea in Months. Again, oligarchies change wheneverany attempt is made t<br>o narrow them; for then those who desire equalrights are com...",
           0.38800621387759343,
           0.4207180423456843
          ],
          [
           "MACHIAVELLI<br>Text: the prime minister of the present time, namely, Alexander the Sixth, who, <br>as we have seen, was assisted in his ruin by the help of the Swiss, who, thinkin<br>g that the French were not sufficiently strong to defend themselves against a ho<br>stile army,anyone the army and, after many threatening, fina...",
           0.38951699675799106,
           0.3851541197848255
          ],
          [
           "SUNTZU<br>Text: died of fever when the wind blows. Of we set are to it at night, they will<br> be thrown into a panic, and we can make a sort and attack them on all sides at <br>once, thus emulating the achievement of T‘in An.’ See That same evening, a stron<br>g breeze sprang up; so Huangfu Hung instructed his soldiers ...",
           0.43442737906588347,
           0.37587021930252645
          ],
          [
           "MACHIAVELLI<br>Text: sterno di poggio Valentine well’ ammazzare Vitelli, etc.  <unk>а<unk>а<unk<br>>а<unk>а<unk>а<unk> <unk>а<unk>а<unk>а? Aristotle.",
           0.4347464845803295,
           0.42870162553610003
          ],
          [
           "ARISTOTLE<br>Text: ? aristotlethe government, the oligarchy the aristocracy, and the democrac<br>y.But there is also a third form, which retains the form of the first—a constitu<br>tional government, which the authors of the above-mentioned formsdonot allow to <br>exist. His is an oligarchy, composed of the rich who outnumb...",
           0.34881141369814994,
           0.4202239008316311
          ],
          [
           "MACHIAVELLI<br>Text: democracy, and the new order of things becomes necessary when, relying on <br>them, one is compelled to act in their stead, either by good or evil, and either<br> by the want of compliance or by the want of compliance. Because men are so self<br> complacent in their own affairs, and in a way so deceived i...",
           0.4346677964284831,
           0.3536207394245363
          ],
          [
           "ARISTOTLE<br>Text: truth, and the unjust to be the contrary of just action.With regard to the<br> universal propositions of argument, it is evident that there is no demonstratio<br>n of all the elements of allcontraries, but the common beliefs are the first pri<br>nciples. And as there is demonstration of the elements of al...",
           0.4521944143457154,
           0.42870605059228356
          ],
          [
           "NIETZSCHE<br>Text: the unjust to be the contrary of just action, to be able to takecontrol of<br> something that is most difficult and slow going, this is something that we can <br>do without anyinner compulsion, any 'majesties' .Of we are going to be fair to h<br>umanity, we need to be able to forgive our mistakes as well....",
           0.42571559782100243,
           0.4105745951612873
          ],
          [
           "SUNTZU<br>Text: tactical logistics. Iota been this was in and may well cause us to blush f<br>or the Christian armies that entered Peking in A.D. Thus he won the hearts of al<br>l. In the present passage, then, I think that the true reading must be, not ’plu<br>nder,’ but ’do not plunder.”’ Alas, I fear that in this inst...",
           0.3821464919489797,
           0.3848541303831875
          ],
          [
           "MACHIAVELLI<br>Text: entente, and the tumult in the Magna, with endless dangers to the duke, al<br>l of which he overcame with the help of the French. Having restored his authorit<br>y, not to leave it at risk by trusting either to the French or other outside for<br>ces, he had recourse to his wiles, and he knew so well how t...",
           0.3739926300807484,
           0.43060422447007507
          ],
          [
           "ARISTOTLE<br>Text: did you like sex? Were a mangressed for it? Were you founded just for it? <br>Were you founded just for the sake of pleasure? Were you founded just for the sa<br>ke of utility? Were you founded just for the sake of victory, or for money, or a<br>nything of the kind? Were you founded just for the sake of u...",
           0.40525400938692874,
           0.3715112358920145
          ],
          [
           "NIETZSCHE<br>Text: what do you like about sex? By having the ambition tone the most passionat<br>e, the most sensual? By remaining faithful to yourself even when it feels like r<br>unning away from. By remaining faithful to yourself even when it feels like runn<br>ing away from something really afraid that this is what the ...",
           0.4000974039765107,
           0.3171662755300507
          ],
          [
           "ARISTOTLE<br>Text: faithful to yourself of what is good for each other, and what makesyou gra<br>teful to yourself for what is good for yourself.With regard to giving and taking<br> of money the one kind are thought to bekindsaying, and the other acting, of giv<br>ing and taking, and the giving of money the other kind agent...",
           0.4838710754740514,
           0.3964604222545872
          ],
          [
           "MACHIAVELLI<br>Text: giving the kingdom to Alexander, he having acquired it for his security an<br>d glory, and as it was not new to him, nor was it in the memory of him, he ought<br> never to have consented to it.But Alexander died five years after he had first <br>drawn the sword. He left the duke with the state of Magna al...",
           0.4047300106862719,
           0.35233549104154227
          ],
          [
           "SUNTZU<br>Text: five minutes and twenty seconds. The whole time he was in command, his sol<br>diers treated him with the utmost contempt, and openly routed his authority by r<br>iding about the camp on monkeys, several thousands at a time. T‘in U was powerle<br>ss to put a stop to this conduct, and when, after some month...",
           0.4181267516806803,
           0.3563540107356162
          ],
          [
           "MACHIAVELLI<br>Text: fourteenth century, when the Florentines were fighting on the Florentine s<br>hore, keeping the others out of the water, so that room could be made for the me<br>n of the Sulph party in and of themselves taking up a position near to the river<br>, and thence towards the castle. Were they stood exposed to ...",
           0.41290156326533844,
           0.3814319920899977
          ],
          [
           "SUNTZU<br>Text: republican party, having only the capital object in view, guard against a <br>decisive blow, and acquiesce in small misfortunes to avoid greater.” .Numerical <br>weakness comes from having to prepare against possible attacks; numerical streng<br>th, from compelling our adversary to make these preparations...",
           0.4299726863313751,
           0.3851148863868061
          ],
          [
           "ARISTOTLE<br>Text: general, or ecclesiast, but in thecourt, and the senate, and the assembly,<br> of which individual senators, orecclesiasts, or casts, are only parts or member<br>s. And for this reasonthe many may claim to have a higher authority than the few<br>; for thepeople, and the senate, and the courts consist of m...",
           0.3726993542224863,
           0.43043249751536183
          ],
          [
           "MACHIAVELLI<br>Text: technical, if the party with whom he allies himself conquer, although the <br>victor may be powerful and may have him at his mercy,yet he is indebted to him, <br>and there is established a bond of amity and men are never so shameless as to be<br>come a monument of ingratitude by pressing you. Victories af...",
           0.40597193099694023,
           0.4019790852404907
          ],
          [
           "ARISTOTLE<br>Text: victory; for the victory of the people is the victory of the aristocracy, <br>and the victory of the aristocracy is the victory of the oligarchy.Of those who <br>attempt to create revolutions in democracies, some have taken the opposite andha<br>ve even worse ideas; such as the Lacedaemonian, who, in the ...",
           0.42819026102120217,
           0.40960616777371556
          ],
          [
           "MACHIAVELLI<br>Text: impetuousness and obstinate cruelty. It is that of a most eminent man, who<br>, either by birth or training, had overcome the hardships and obstacles by which<br> fortune was raised, and who, if he had known how to govern was an able man, wou<br>ld have expelled all others in his day. His is very manifest...",
           0.44695379830875287,
           0.3768810634936726
          ],
          [
           "ARISTOTLE<br>Text: a military leader who is willing to sacrifice everything boris own sake, a<br>nd to make no concession but a demand, while at the sometime making a concession<br> to the people and not an ultimatum. For this his thought to be able to do both <br>by living according to his own convictions, another people b...",
           0.4130374855279886,
           0.3640087150716
          ],
          [
           "MACHIAVELLI<br>Text: the pope, namely, the Orsini and the Colonnesi and their following. It bel<br>oved him, therefore, to upset this state of affairs and emboli the powers, so as<br> to make himself securely master of part of their states. His was easy for him t<br>o do, because he found the Venetian, moved by other reasons,...",
           0.3566802113703137,
           0.40496351128670827
          ],
          [
           "ARISTOTLE<br>Text: aristotlethe government, the oligarchs flatter the people in order to obta<br>in decision in their own favor, and so they change the constitution; thishappene<br>d at Heraclea in Months. Again, oligarchies change wheneverany attempt is made t<br>o narrow them; for then those who desire equalrights are com...",
           0.38800621387759343,
           0.4207180423456843
          ],
          [
           "MACHIAVELLI<br>Text: france, and marching from thence at midnight in dead silence, had reached <br>the foot of Serravalle: thus he and the Florentines commenced the ascent of the <br>hill at the same time in the morning. Castruccio sent forward his infantry by th<br>e main road, and a troop of four hundred horsemen by a path ...",
           0.36991099566234303,
           0.3610080567702889
          ],
          [
           "SUNTZU<br>Text: `` dumashe ''Is it not written on tablets?” says Chisun, “In which side ar<br>e officers and men?” U U replies “He must not think of running away from home.” <br>“In which side are officers and men?” asks Chisun. “In which side are officers a<br>nd men employed?” The girls answer Yes. .All the high and su...",
           0.46479924091378017,
           0.35840633520064646
          ],
          [
           "NIETZSCHE<br>Text: nietzsche is not unaware of this potential, and in Face Homohe seeks to di<br>ary it directly: 'I need to express my gratitude', he says,'for what was by far <br>the friendliest and most profound' relationship of life, that with Richard Manne<br>r of, 'Clever', 'I know better thananyone what tremendous th...",
           0.43171533761589415,
           0.33580882884390284
          ],
          [
           "ARISTOTLE<br>Text: Claim. The demagogues maketh decrees of the people overrule the laws, by r<br>eferring all things to thepopular assembly. And therefore they grow great, becau<br>se the peoplehave an things in their hands, and they hold in their hands the vot<br>es the people, who are too ready to listen to them. Further,...",
           0.3721214464979904,
           0.3878828259040385
          ],
          [
           "MACHIAVELLI<br>Text: invitation to marriage, and the consequent decline in the value of both ma<br>rriage and state, accordingly as he was obliged to conform himself to the custom<br>s of his time, from which he obtained a reputation for liberality. He was, there<br>fore, always in every sort and kind of way contributed to th...",
           0.41468148031116964,
           0.4084254923522544
          ],
          [
           "ARISTOTLE<br>Text: what has often happened is that we think our neighbours ought to rule over<br> us, and that is unjust. But if what has happened is that the ruler over our nei<br>ghbour is an unjust man, and them who is unjust to him is also unjust.Further b <br>in that which is contrary to nature, and which cannot be wit...",
           0.38078942744971817,
           0.385256831872397
          ],
          [
           "NIETZSCHE<br>Text: totalitarianism' that is what the German term for it, the 'Which'means. Ab<br>ove all, no 'will' is accepted, no 'responsibility' is left for the outside worl<br>d, no 'moral world order' is left. The German Spirit is rejected invented, inven<br>ted against the spirit, against life itself: this is precise...",
           0.44046410913658207,
           0.4042515917224733
          ],
          [
           "ARISTOTLE<br>Text: 'tranquility 'cause of pleasure; and it is evident that pain is a necessar<br>y evil.Pittacus, too, affirm that the fact that our pain is a 'cause' of pleasur<br>e does notindicate its being a cause, but that it is a 'good'. His strikes a mod<br>ern reader as a veryarbitrary position. He would not say tha...",
           0.4182626295974016,
           0.3645086118676482
          ],
          [
           "NIETZSCHE<br>Text: 'good 'faith'.That? You choose virtue and a puffed up chest and at the sam<br>e timeglance sideways at the advantages of having neither? But virtue meansrenou<br>ncing 'advantages'for the door of an anti Remote's house.The perfect woman commi<br>ts literature the way she commits a small sin: san experimen...",
           0.4316389256193319,
           0.35463080568513405
          ]
         ],
         "hovertemplate": "<b>%{hovertext}</b><br><br>x=%{x}<br>y=%{y}<br>size=%{marker.size}<br>Text=%{customdata[0]}<br>Awareness=%{customdata[1]}<br>Integration=%{customdata[2]}<br>color=%{marker.color}<extra></extra>",
         "hovertext": [
          "NIETZSCHE",
          "ARISTOTLE",
          "MACHIAVELLI",
          "SUNTZU",
          "MACHIAVELLI",
          "SUNTZU",
          "ARISTOTLE",
          "NIETZSCHE",
          "MACHIAVELLI",
          "ARISTOTLE",
          "MACHIAVELLI",
          "ARISTOTLE",
          "MACHIAVELLI",
          "ARISTOTLE",
          "MACHIAVELLI",
          "ARISTOTLE",
          "ARISTOTLE",
          "NIETZSCHE",
          "MACHIAVELLI",
          "ARISTOTLE",
          "MACHIAVELLI",
          "ARISTOTLE",
          "MACHIAVELLI",
          "ARISTOTLE",
          "NIETZSCHE",
          "ARISTOTLE",
          "MACHIAVELLI",
          "ARISTOTLE",
          "NIETZSCHE",
          "ARISTOTLE",
          "NIETZSCHE",
          "MACHIAVELLI",
          "NIETZSCHE",
          "ARISTOTLE",
          "NIETZSCHE",
          "ARISTOTLE",
          "NIETZSCHE",
          "ARISTOTLE",
          "NIETZSCHE",
          "ARISTOTLE",
          "NIETZSCHE",
          "ARISTOTLE",
          "NIETZSCHE",
          "MACHIAVELLI",
          "SUNTZU",
          "NIETZSCHE",
          "ARISTOTLE",
          "NIETZSCHE",
          "ARISTOTLE",
          "MACHIAVELLI",
          "ARISTOTLE",
          "MACHIAVELLI",
          "ARISTOTLE",
          "MACHIAVELLI",
          "ARISTOTLE",
          "MACHIAVELLI",
          "ARISTOTLE",
          "MACHIAVELLI",
          "ARISTOTLE",
          "MACHIAVELLI",
          "ARISTOTLE",
          "MACHIAVELLI",
          "ARISTOTLE",
          "NIETZSCHE",
          "ARISTOTLE",
          "NIETZSCHE",
          "ARISTOTLE",
          "MACHIAVELLI",
          "ARISTOTLE",
          "NIETZSCHE",
          "ARISTOTLE",
          "NIETZSCHE",
          "ARISTOTLE",
          "NIETZSCHE",
          "ARISTOTLE",
          "NIETZSCHE",
          "MACHIAVELLI",
          "NIETZSCHE",
          "ARISTOTLE",
          "NIETZSCHE",
          "ARISTOTLE",
          "MACHIAVELLI",
          "ARISTOTLE",
          "SUNTZU",
          "MACHIAVELLI",
          "SUNTZU",
          "ARISTOTLE",
          "MACHIAVELLI",
          "ARISTOTLE",
          "MACHIAVELLI",
          "ARISTOTLE",
          "NIETZSCHE",
          "ARISTOTLE",
          "MACHIAVELLI",
          "ARISTOTLE",
          "MACHIAVELLI",
          "NIETZSCHE",
          "ARISTOTLE",
          "ARISTOTLE",
          "NIETZSCHE",
          "MACHIAVELLI",
          "ARISTOTLE",
          "MACHIAVELLI",
          "SUNTZU",
          "MACHIAVELLI",
          "ARISTOTLE",
          "MACHIAVELLI",
          "ARISTOTLE",
          "NIETZSCHE",
          "SUNTZU",
          "MACHIAVELLI",
          "ARISTOTLE",
          "NIETZSCHE",
          "ARISTOTLE",
          "MACHIAVELLI",
          "SUNTZU",
          "MACHIAVELLI",
          "SUNTZU",
          "ARISTOTLE",
          "MACHIAVELLI",
          "ARISTOTLE",
          "MACHIAVELLI",
          "ARISTOTLE",
          "MACHIAVELLI",
          "ARISTOTLE",
          "MACHIAVELLI",
          "SUNTZU",
          "NIETZSCHE",
          "ARISTOTLE",
          "MACHIAVELLI",
          "ARISTOTLE",
          "NIETZSCHE",
          "ARISTOTLE",
          "NIETZSCHE"
         ],
         "legendgroup": "",
         "marker": {
          "color": {
           "bdata": "+u8DA4ZZ3j8x9LFACozYP5Yvcyz0qNg/gDf3PUH21D9hRs+vfC7ZP/zPjEHeE9s/pXmd4FZp2j9cDfmfN/rXP/2AYs6p7ds/tNjaWss/3j8tv2q2CTnWP0n7e1uceto/A1FjJ/2W2j8DThLmv3/YP9fFZM7UyNk/TIw4vH8N2T8e+WV5wiDbPxKPQZi+Gds/HZWG2J0n2j/C/ap9SJbXP5RyO8ymkNw/aJbtvTwq2D8kIdunjMPZPw+4hcBqV+A/Wj/FaC5p3D+hbMoQ8+3aP5c5vwFX6dU/RHAXSRSw2T/YwDw2qufcPwZ4H+JbNNo/r/fyaP442j/Fy5InG27bP0BzMq9eK9w/6unOPLq/1z+wn0dPPAvaP9JmFHSI9dw/tz/yPcLN3D/BIetutQrdPzkk25d8Rtw/iQ7hJ3Zf2j+DV/wG0SzdP3Q4S2rST9w/TBkeACB83T9fzypxM4jZPwhBXZKuxdk/xdwu/LnP2z/NOBtUlS7aPyY56ea1Cto/qVA6uRpH2z/UHrBjB23ZP6vsl+IxZNg/6gt+llK42j+xf8u1+ynZP3yCC/Hj2ds/lDw0QBit3T/MAg05tRDcP/8ko3Y+39c/nzz0kbN/2T/eTxQf9lfZP+eRzt1/Ftk/XxivUXAU2T9YJAEZKWLcP6Q17H7gdtg/Y1FZ9/XF1z97JzSD30zdPwyL0V2reNs/kOoCi8D72z/EyqyvrYrgP5WJcDrewNk/gk8e6YgC2j+4TErKXI7bP3xU47Hb1to/iFYi70Cr3D+0QOeJdPvdP/o5hwrsEt0/1LAnIjJJ2j8mgolGIYTaP4uGxO62ids/MgQtq2Zf2z9YV/oFMzPdPyG4tJPqhts/XLg5qmww2j/Bu/G5WDzbP33tTI8Wddg/8VSmtDk62j9MRjlO76/cP70NI50EYN8/3bVaIJjN3D8VCpXh5F/cP2gxYBgHk9g/pmS4GmkY2T+zeg9eOaHbP6hGSenRndk/+doj/Kw82j9okj+7lr/YP0LV2rwXn9o/i4bE7raJ2z9wYWDLX03ZP1rUOE2H0No/DAD2Rpll2z9ONbvaunnXP1vwzwMY1dg/DfOTstjt2D84zGR+qM3bP/SzVOvi0ts/cIaTG+1S1j/cOJLgmNHbPz4eQ9fA8Nw/anOCouw+2z997UyPFnXYP+kTych+79c/b/E4g67v2T+SylIkMpvZP6wMKWO+994/fN3msxjn2T9vRwO1lsLaPyZIrK36bNo/gNt9KKyE2z+3DmhkTtrXP/NzrrFx+9k/JlDjH3hn2z/dx6Ma5JrcP6BYF8c0b9o/utC9PNnT1j9b8M8DGNXYP2U8MyufrNc/N4q7UEW/3T+zeg9eOaHbP15XtnjW0Nc/tV8MMSSK2j9dyGOe2l7YP9Jq81+QMNw/l6DQntDE2j+CzE3f+J/bPw==",
           "dtype": "f8"
          },
          "coloraxis": "coloraxis",
          "size": {
           "bdata": "al8i+J1U0j+lZLc6rfnWP5Sd38u3s9U//FcwugeB1D9SmcgvTtbWPx/xbtXaKtw/RWj6LXou2D8XYyclxpPUP03awtn0adc/WBKaSG2U1z8Z8YhCwezTPxrSc8H3B9U/0NIufcyp2T9rva6BZp/YP2ByzszuItY/UyEfyUlH2D+tC2rjkzrXPxtyPEDi19c/wbV0lCSq1T8eUR9/yhjZPyixbYl5gtg/GVpLz0Y22j9CoDiwrCTZP/AJzy8Nj9c/UhsJ78Oi1j/l30G4yHTXPyXqRY3XFtc/2r8zrkPS2T8iW92wUwLWP6I2GXIFk9k/WRvvooic2D9oiFNTetrXPzmBArq/l9k/bBlyIMJv2T/Lzqb7zybWP1BdFtjAydc/nx0QM/VM1T+vytle+j/XP8LVe2mU69Y/wyJa2Ob+1z8E62d7CIbYP4nSG11tINk/3qjGJ3eZ2T/vThsmbjjZP6mEtLbumtg/B1yJiUY61z/7g0S3KjrYPznkn8H6BtY/0npbmu/A2j9BNT5SslPaP+UnzqlFD9o/U6r/ryHd2T+VTrgtDp3ZP93Xj4Nrmdg/xcJsUbxT2D8S9WbmCXLZPwvqANhYfdk/ZcCHZqPt2D9i7eu67i3bP9BAjM+6xNs/nDK0DGUW2j86efRqSajXP5l/dxFNsNU/WRlHe3TN1z/pH2JYl7rZP5giwBrj9tc/OWMgYdmI2j+KZKdhSDPYP2oCaZtGedY/uW9I4iWw1T8z8WsogajVPxsTdkHyytY/GE6uf5ol2T+ho66+HRHXP9ykF9v1WNg/gX+ZVf741z8GU434ZsXYP3nJ/r5qsNg/uYeG5u231T+wgitDzUjWP8uG9IyOLNU/RmAaMPoL1j+dKvG8rcrXP9577jdzodg/aaU6bNhq1z+udy6Bd8XXPx1ZkOEIXtg/f9v6xt301D8yg53EAl7WP2KzqVXEE9g/100hHmRi2D+O7WVQ5H3VP+yXZ2FeDtk/NV6yPHOE1z+wsnneIv7WP3jglEhQvtg/ecn+vmqw2D+JT0sOYFTXPycwAUfR8to/UboeSNOn2D9DNblbGvjWPxGPLV4L7do/vk8Zd12m2D/zddz2QQ7YP4jaWvHYb9s/GHHEyfLk2j+UAcHhuKHWPxUJuYDrb9s/l1CyqtpG2j/ee+43c6HYPx6UZwUFj9s/9CwQENfG1z+i7DLHc0zUP7J574ibX9k/6pXPKKqM1j8bG3oNgc7WP84t67phadg/S/uO6Lil2D9+s/2+NIzbP3srMnwGutk/6f20yfw22j8x+IvA0R7YP5tBrDXrS9c/7C5DE+zq2T8Rjy1eC+3aPxDwWonBGtc/YmwXICHw1j+O7WVQ5H3VP6sG/HwS09g/QVwgraQj2j8E9lxFDKjYPzN0cxFC39k/9T3F7RtU1z8SmCRoRbLWPw==",
           "dtype": "f8"
          },
          "sizemode": "area",
          "sizeref": 0.0011002891264701418,
          "symbol": "circle"
         },
         "mode": "markers",
         "name": "",
         "orientation": "v",
         "showlegend": false,
         "type": "scatter",
         "x": {
          "bdata": "FDDBQai+GkA/w9rBks09wo4kM8LbpM9A0t1iQiFoGMGRiltBYSTSQKkGwEB4Q5pBJISnvxnyI8KyiGPCo2xHwhocJULHGRxCLkGiwba3TMLBUqzBC2Uewm1bx8Euh91Bu5EAQZNpAsAXmyHCbvEAQm/01kFVUNJBu5XwQG3JUj/lvwhCNqAlQm2w7EHG5q1BAJk8QdGtKUKVD7hBNdFsQiuXlUF3xFxCeDWXQaDOGMIkUiRCLU+bQTcYXEI0b11C1Ek5wh93UcLhfULCsj03wp1SPcKAIxM/rjMsQN6SjUBUFjbCXBVewiFqR8IksTnC60FOwu9ryEAnx1dCGoAOQt3V9EHCxItBzG4lwkfyjcAIPCNC9dgvQuAcNkJGaA5CSk5oQr7Vs0F6ZRBCJiKewGU+rkFfFyJC17UpQihgakLFIJ3BSJ25wWT/isF2Tk3BipJwwctVvUGTnFPAhTkGwQj5eECFzyTCrnYkQvJxG0JrjR7CNRK+wRGJacA+X7xB+iwpQtVdLEKP6HBC/TA8QsPjG8IzbRnCy80BwnfzG8EeRhJBsOkmwj0cgkDTszpCxSeDQXZOTcE1SA7CRdxhQqmAWEKuW6bAy83jwbqrksBopxvCaU1MwfMjM8Jkm/3BnycKwrPS88A3hBvBhS8ZwjNtGcLAtS3C/z4UwU2yH0IDak3CCqnYvyENz0ENuxdBzPF2QoZElUE=",
          "dtype": "f4"
         },
         "xaxis": "x",
         "y": {
          "bdata": "hW3IQfkY7UHGVfs/778EwalT30Gs5wzCx6WIQZJObkCoiAVCJeQBQqT5zUEZTZBBs9OmwcDvmcCXaDXBfLpCwdHy0UG0PjvBUGaRQJfto8GaM4g/oD8Gwfqch8BrtnfAlwh5wDXy6kEn9rRBI75sQXqMlUHhMUnBp8o2QfOdqcFl5nE/hj2lQeIaqkFwr5zAb5+kQSoBwUF+jZpBKIHzQHE68UH2Ws3BfdrYQQ6mkEHwq8rBMf+hQCTztMHNGJ/B5bIZwkUFEcKpIwnCgK6GQcUlcUFFFj7BtLUNwVJ+WsC1nADCl0RcwWMyhMGlho7BjSS6wey/lEANzT5BPW61wN1dNMHuH7tADpgRwu0CYMAljZrBAnAowRLb9sDBkbG/T8JNQQr3EUIagZnBowA9wexzEMJLdetAW9wVwNEehMGAW7FBKPivQVyHs0Fr17fB1IWcwfEvbkHWpflBgf5tPquXOsEHVfVB4Rqxwa/o9MA93LDBlWgMP7uZzEEwUxTC3sfMQBmeHkHAkldBtHlUwed09UHfJFPBBl/JQTfp08H/sAbChZUcwTmYHUCSG8JBZXT0QWvXt8H5P8JBtB4iP1L9FMBWTwhCZty0QS9GwMFjxgpCD1JFwa3zCML9uZHBlNaLwau99L9Lm+HAiFmtQd8kU8EEMQVCpq3zwaHNwMDI8M/B2ClYQOvJMr8rTu5AlXC9QFzxu0E=",
          "dtype": "f4"
         },
         "yaxis": "y"
        }
       ],
       "layout": {
        "coloraxis": {
         "colorbar": {
          "title": {
           "text": "color"
          }
         },
         "colorscale": [
          [
           0,
           "#440154"
          ],
          [
           0.1111111111111111,
           "#482878"
          ],
          [
           0.2222222222222222,
           "#3e4989"
          ],
          [
           0.3333333333333333,
           "#31688e"
          ],
          [
           0.4444444444444444,
           "#26828e"
          ],
          [
           0.5555555555555556,
           "#1f9e89"
          ],
          [
           0.6666666666666666,
           "#35b779"
          ],
          [
           0.7777777777777778,
           "#6ece58"
          ],
          [
           0.8888888888888888,
           "#b5de2b"
          ],
          [
           1,
           "#fde725"
          ]
         ]
        },
        "height": 600,
        "legend": {
         "itemsizing": "constant",
         "tracegroupgap": 0
        },
        "template": {
         "data": {
          "bar": [
           {
            "error_x": {
             "color": "#2a3f5f"
            },
            "error_y": {
             "color": "#2a3f5f"
            },
            "marker": {
             "line": {
              "color": "#E5ECF6",
              "width": 0.5
             },
             "pattern": {
              "fillmode": "overlay",
              "size": 10,
              "solidity": 0.2
             }
            },
            "type": "bar"
           }
          ],
          "barpolar": [
           {
            "marker": {
             "line": {
              "color": "#E5ECF6",
              "width": 0.5
             },
             "pattern": {
              "fillmode": "overlay",
              "size": 10,
              "solidity": 0.2
             }
            },
            "type": "barpolar"
           }
          ],
          "carpet": [
           {
            "aaxis": {
             "endlinecolor": "#2a3f5f",
             "gridcolor": "white",
             "linecolor": "white",
             "minorgridcolor": "white",
             "startlinecolor": "#2a3f5f"
            },
            "baxis": {
             "endlinecolor": "#2a3f5f",
             "gridcolor": "white",
             "linecolor": "white",
             "minorgridcolor": "white",
             "startlinecolor": "#2a3f5f"
            },
            "type": "carpet"
           }
          ],
          "choropleth": [
           {
            "colorbar": {
             "outlinewidth": 0,
             "ticks": ""
            },
            "type": "choropleth"
           }
          ],
          "contour": [
           {
            "colorbar": {
             "outlinewidth": 0,
             "ticks": ""
            },
            "colorscale": [
             [
              0,
              "#0d0887"
             ],
             [
              0.1111111111111111,
              "#46039f"
             ],
             [
              0.2222222222222222,
              "#7201a8"
             ],
             [
              0.3333333333333333,
              "#9c179e"
             ],
             [
              0.4444444444444444,
              "#bd3786"
             ],
             [
              0.5555555555555556,
              "#d8576b"
             ],
             [
              0.6666666666666666,
              "#ed7953"
             ],
             [
              0.7777777777777778,
              "#fb9f3a"
             ],
             [
              0.8888888888888888,
              "#fdca26"
             ],
             [
              1,
              "#f0f921"
             ]
            ],
            "type": "contour"
           }
          ],
          "contourcarpet": [
           {
            "colorbar": {
             "outlinewidth": 0,
             "ticks": ""
            },
            "type": "contourcarpet"
           }
          ],
          "heatmap": [
           {
            "colorbar": {
             "outlinewidth": 0,
             "ticks": ""
            },
            "colorscale": [
             [
              0,
              "#0d0887"
             ],
             [
              0.1111111111111111,
              "#46039f"
             ],
             [
              0.2222222222222222,
              "#7201a8"
             ],
             [
              0.3333333333333333,
              "#9c179e"
             ],
             [
              0.4444444444444444,
              "#bd3786"
             ],
             [
              0.5555555555555556,
              "#d8576b"
             ],
             [
              0.6666666666666666,
              "#ed7953"
             ],
             [
              0.7777777777777778,
              "#fb9f3a"
             ],
             [
              0.8888888888888888,
              "#fdca26"
             ],
             [
              1,
              "#f0f921"
             ]
            ],
            "type": "heatmap"
           }
          ],
          "histogram": [
           {
            "marker": {
             "pattern": {
              "fillmode": "overlay",
              "size": 10,
              "solidity": 0.2
             }
            },
            "type": "histogram"
           }
          ],
          "histogram2d": [
           {
            "colorbar": {
             "outlinewidth": 0,
             "ticks": ""
            },
            "colorscale": [
             [
              0,
              "#0d0887"
             ],
             [
              0.1111111111111111,
              "#46039f"
             ],
             [
              0.2222222222222222,
              "#7201a8"
             ],
             [
              0.3333333333333333,
              "#9c179e"
             ],
             [
              0.4444444444444444,
              "#bd3786"
             ],
             [
              0.5555555555555556,
              "#d8576b"
             ],
             [
              0.6666666666666666,
              "#ed7953"
             ],
             [
              0.7777777777777778,
              "#fb9f3a"
             ],
             [
              0.8888888888888888,
              "#fdca26"
             ],
             [
              1,
              "#f0f921"
             ]
            ],
            "type": "histogram2d"
           }
          ],
          "histogram2dcontour": [
           {
            "colorbar": {
             "outlinewidth": 0,
             "ticks": ""
            },
            "colorscale": [
             [
              0,
              "#0d0887"
             ],
             [
              0.1111111111111111,
              "#46039f"
             ],
             [
              0.2222222222222222,
              "#7201a8"
             ],
             [
              0.3333333333333333,
              "#9c179e"
             ],
             [
              0.4444444444444444,
              "#bd3786"
             ],
             [
              0.5555555555555556,
              "#d8576b"
             ],
             [
              0.6666666666666666,
              "#ed7953"
             ],
             [
              0.7777777777777778,
              "#fb9f3a"
             ],
             [
              0.8888888888888888,
              "#fdca26"
             ],
             [
              1,
              "#f0f921"
             ]
            ],
            "type": "histogram2dcontour"
           }
          ],
          "mesh3d": [
           {
            "colorbar": {
             "outlinewidth": 0,
             "ticks": ""
            },
            "type": "mesh3d"
           }
          ],
          "parcoords": [
           {
            "line": {
             "colorbar": {
              "outlinewidth": 0,
              "ticks": ""
             }
            },
            "type": "parcoords"
           }
          ],
          "pie": [
           {
            "automargin": true,
            "type": "pie"
           }
          ],
          "scatter": [
           {
            "fillpattern": {
             "fillmode": "overlay",
             "size": 10,
             "solidity": 0.2
            },
            "type": "scatter"
           }
          ],
          "scatter3d": [
           {
            "line": {
             "colorbar": {
              "outlinewidth": 0,
              "ticks": ""
             }
            },
            "marker": {
             "colorbar": {
              "outlinewidth": 0,
              "ticks": ""
             }
            },
            "type": "scatter3d"
           }
          ],
          "scattercarpet": [
           {
            "marker": {
             "colorbar": {
              "outlinewidth": 0,
              "ticks": ""
             }
            },
            "type": "scattercarpet"
           }
          ],
          "scattergeo": [
           {
            "marker": {
             "colorbar": {
              "outlinewidth": 0,
              "ticks": ""
             }
            },
            "type": "scattergeo"
           }
          ],
          "scattergl": [
           {
            "marker": {
             "colorbar": {
              "outlinewidth": 0,
              "ticks": ""
             }
            },
            "type": "scattergl"
           }
          ],
          "scattermap": [
           {
            "marker": {
             "colorbar": {
              "outlinewidth": 0,
              "ticks": ""
             }
            },
            "type": "scattermap"
           }
          ],
          "scattermapbox": [
           {
            "marker": {
             "colorbar": {
              "outlinewidth": 0,
              "ticks": ""
             }
            },
            "type": "scattermapbox"
           }
          ],
          "scatterpolar": [
           {
            "marker": {
             "colorbar": {
              "outlinewidth": 0,
              "ticks": ""
             }
            },
            "type": "scatterpolar"
           }
          ],
          "scatterpolargl": [
           {
            "marker": {
             "colorbar": {
              "outlinewidth": 0,
              "ticks": ""
             }
            },
            "type": "scatterpolargl"
           }
          ],
          "scatterternary": [
           {
            "marker": {
             "colorbar": {
              "outlinewidth": 0,
              "ticks": ""
             }
            },
            "type": "scatterternary"
           }
          ],
          "surface": [
           {
            "colorbar": {
             "outlinewidth": 0,
             "ticks": ""
            },
            "colorscale": [
             [
              0,
              "#0d0887"
             ],
             [
              0.1111111111111111,
              "#46039f"
             ],
             [
              0.2222222222222222,
              "#7201a8"
             ],
             [
              0.3333333333333333,
              "#9c179e"
             ],
             [
              0.4444444444444444,
              "#bd3786"
             ],
             [
              0.5555555555555556,
              "#d8576b"
             ],
             [
              0.6666666666666666,
              "#ed7953"
             ],
             [
              0.7777777777777778,
              "#fb9f3a"
             ],
             [
              0.8888888888888888,
              "#fdca26"
             ],
             [
              1,
              "#f0f921"
             ]
            ],
            "type": "surface"
           }
          ],
          "table": [
           {
            "cells": {
             "fill": {
              "color": "#EBF0F8"
             },
             "line": {
              "color": "white"
             }
            },
            "header": {
             "fill": {
              "color": "#C8D4E3"
             },
             "line": {
              "color": "white"
             }
            },
            "type": "table"
           }
          ]
         },
         "layout": {
          "annotationdefaults": {
           "arrowcolor": "#2a3f5f",
           "arrowhead": 0,
           "arrowwidth": 1
          },
          "autotypenumbers": "strict",
          "coloraxis": {
           "colorbar": {
            "outlinewidth": 0,
            "ticks": ""
           }
          },
          "colorscale": {
           "diverging": [
            [
             0,
             "#8e0152"
            ],
            [
             0.1,
             "#c51b7d"
            ],
            [
             0.2,
             "#de77ae"
            ],
            [
             0.3,
             "#f1b6da"
            ],
            [
             0.4,
             "#fde0ef"
            ],
            [
             0.5,
             "#f7f7f7"
            ],
            [
             0.6,
             "#e6f5d0"
            ],
            [
             0.7,
             "#b8e186"
            ],
            [
             0.8,
             "#7fbc41"
            ],
            [
             0.9,
             "#4d9221"
            ],
            [
             1,
             "#276419"
            ]
           ],
           "sequential": [
            [
             0,
             "#0d0887"
            ],
            [
             0.1111111111111111,
             "#46039f"
            ],
            [
             0.2222222222222222,
             "#7201a8"
            ],
            [
             0.3333333333333333,
             "#9c179e"
            ],
            [
             0.4444444444444444,
             "#bd3786"
            ],
            [
             0.5555555555555556,
             "#d8576b"
            ],
            [
             0.6666666666666666,
             "#ed7953"
            ],
            [
             0.7777777777777778,
             "#fb9f3a"
            ],
            [
             0.8888888888888888,
             "#fdca26"
            ],
            [
             1,
             "#f0f921"
            ]
           ],
           "sequentialminus": [
            [
             0,
             "#0d0887"
            ],
            [
             0.1111111111111111,
             "#46039f"
            ],
            [
             0.2222222222222222,
             "#7201a8"
            ],
            [
             0.3333333333333333,
             "#9c179e"
            ],
            [
             0.4444444444444444,
             "#bd3786"
            ],
            [
             0.5555555555555556,
             "#d8576b"
            ],
            [
             0.6666666666666666,
             "#ed7953"
            ],
            [
             0.7777777777777778,
             "#fb9f3a"
            ],
            [
             0.8888888888888888,
             "#fdca26"
            ],
            [
             1,
             "#f0f921"
            ]
           ]
          },
          "colorway": [
           "#636efa",
           "#EF553B",
           "#00cc96",
           "#ab63fa",
           "#FFA15A",
           "#19d3f3",
           "#FF6692",
           "#B6E880",
           "#FF97FF",
           "#FECB52"
          ],
          "font": {
           "color": "#2a3f5f"
          },
          "geo": {
           "bgcolor": "white",
           "lakecolor": "white",
           "landcolor": "#E5ECF6",
           "showlakes": true,
           "showland": true,
           "subunitcolor": "white"
          },
          "hoverlabel": {
           "align": "left"
          },
          "hovermode": "closest",
          "mapbox": {
           "style": "light"
          },
          "paper_bgcolor": "white",
          "plot_bgcolor": "#E5ECF6",
          "polar": {
           "angularaxis": {
            "gridcolor": "white",
            "linecolor": "white",
            "ticks": ""
           },
           "bgcolor": "#E5ECF6",
           "radialaxis": {
            "gridcolor": "white",
            "linecolor": "white",
            "ticks": ""
           }
          },
          "scene": {
           "xaxis": {
            "backgroundcolor": "#E5ECF6",
            "gridcolor": "white",
            "gridwidth": 2,
            "linecolor": "white",
            "showbackground": true,
            "ticks": "",
            "zerolinecolor": "white"
           },
           "yaxis": {
            "backgroundcolor": "#E5ECF6",
            "gridcolor": "white",
            "gridwidth": 2,
            "linecolor": "white",
            "showbackground": true,
            "ticks": "",
            "zerolinecolor": "white"
           },
           "zaxis": {
            "backgroundcolor": "#E5ECF6",
            "gridcolor": "white",
            "gridwidth": 2,
            "linecolor": "white",
            "showbackground": true,
            "ticks": "",
            "zerolinecolor": "white"
           }
          },
          "shapedefaults": {
           "line": {
            "color": "#2a3f5f"
           }
          },
          "ternary": {
           "aaxis": {
            "gridcolor": "white",
            "linecolor": "white",
            "ticks": ""
           },
           "baxis": {
            "gridcolor": "white",
            "linecolor": "white",
            "ticks": ""
           },
           "bgcolor": "#E5ECF6",
           "caxis": {
            "gridcolor": "white",
            "linecolor": "white",
            "ticks": ""
           }
          },
          "title": {
           "x": 0.05
          },
          "xaxis": {
           "automargin": true,
           "gridcolor": "white",
           "linecolor": "white",
           "ticks": "",
           "title": {
            "standoff": 15
           },
           "zerolinecolor": "white",
           "zerolinewidth": 2
          },
          "yaxis": {
           "automargin": true,
           "gridcolor": "white",
           "linecolor": "white",
           "ticks": "",
           "title": {
            "standoff": 15
           },
           "zerolinecolor": "white",
           "zerolinewidth": 2
          }
         }
        },
        "title": {
         "text": "Epistemoverse Dialogue Clusters (t-SNE)"
        },
        "width": 900,
        "xaxis": {
         "anchor": "y",
         "domain": [
          0,
          1
         ],
         "title": {
          "text": "x"
         }
        },
        "yaxis": {
         "anchor": "x",
         "domain": [
          0,
          1
         ],
         "title": {
          "text": "y"
         }
        }
       }
      }
     },
     "metadata": {},
     "output_type": "display_data"
    }
   ],
   "source": [
    "# epistemoverse_tsne_plot.py\n",
    "import re\n",
    "import numpy as np\n",
    "import plotly.express as px\n",
    "from sklearn.manifold import TSNE\n",
    "import ollama\n",
    "\n",
    "# ----------------------------\n",
    "# --- Utility functions ---\n",
    "# ----------------------------\n",
    "\n",
    "def cos(a,b):\n",
    "    a,b = np.array(a), np.array(b)\n",
    "    return float(np.dot(a,b)/(np.linalg.norm(a)*np.linalg.norm(b)+1e-8))\n",
    "\n",
    "def prepare_hover_text(speakers, steps, char_limit=300, line_width=80):\n",
    "    hover_texts = []\n",
    "    for sp, t in zip(speakers, steps):\n",
    "        t_trunc = t[:char_limit] + \"...\" if len(t) > char_limit else t\n",
    "        t_lines = '<br>'.join([t_trunc[i:i+line_width] for i in range(0, len(t_trunc), line_width)])\n",
    "        hover_texts.append(f\"{sp}<br>{t_lines}\")\n",
    "    return hover_texts\n",
    "\n",
    "# ----------------------------\n",
    "# --- Parse dialogue ---\n",
    "# ----------------------------\n",
    "\n",
    "def parse_dialogue_multiline(file_path):\n",
    "    dialogue = []\n",
    "    with open(file_path, \"r\", encoding=\"utf-8\") as f:\n",
    "        lines = f.readlines()\n",
    "\n",
    "    # skip first two lines\n",
    "    lines = lines[2:]\n",
    "\n",
    "    i = 0\n",
    "    while i < len(lines):\n",
    "        line = lines[i].strip()\n",
    "        if line.startswith(\"Index:\"):\n",
    "            turn = {}\n",
    "            turn['Index'] = int(re.match(r\"Index:\\s*(\\d+)\", line).group(1))\n",
    "\n",
    "            i += 1\n",
    "            turn['Speaker'] = re.match(r\"Speaker:\\s*(.+)\", lines[i].strip()).group(1)\n",
    "\n",
    "            i += 1\n",
    "            turn['Keys'] = re.match(r\"Keys:\\s*(.*)\", lines[i].strip()).group(1)\n",
    "\n",
    "            i += 1\n",
    "            # Collect multi-line Text until \"Question:\" or end\n",
    "            text_lines = []\n",
    "            while i < len(lines) and not lines[i].startswith(\"Question:\") and not lines[i].startswith(\"Index:\"):\n",
    "                text_lines.append(lines[i].strip())\n",
    "                i += 1\n",
    "            turn['Text'] = \" \".join(text_lines)\n",
    "\n",
    "            # Question (optional)\n",
    "            if i < len(lines) and lines[i].startswith(\"Question:\"):\n",
    "                turn['Question'] = re.match(r\"Question:\\s*(.*)\", lines[i].strip()).group(1)\n",
    "                i += 1\n",
    "            else:\n",
    "                turn['Question'] = \"\"\n",
    "\n",
    "            dialogue.append(turn)\n",
    "        else:\n",
    "            i += 1\n",
    "    return dialogue\n",
    "\n",
    "# ----------------------------\n",
    "# --- Awareness / Integration ---\n",
    "# ----------------------------\n",
    "\n",
    "def awareness_integration_series(steps, awareness_anchor, integration_anchor, embed_model=\"nomic-embed-text\"):\n",
    "    awareness_scores = []\n",
    "    integration_scores = []\n",
    "    embeddings = []\n",
    "    for s in steps:\n",
    "        if not s.strip():\n",
    "            continue\n",
    "        e = ollama.embeddings(model=embed_model, prompt=s)[\"embedding\"]\n",
    "        embeddings.append(e)\n",
    "        awareness_scores.append(cos(e, awareness_anchor))\n",
    "        integration_scores.append(cos(e, integration_anchor))\n",
    "    return np.array(embeddings), np.array(awareness_scores), np.array(integration_scores)\n",
    "\n",
    "# ----------------------------\n",
    "# --- Main ---\n",
    "# ----------------------------\n",
    "\n",
    "if __name__ == \"__main__\":\n",
    "    file_path = \"Complete.txt\"  # replace with your file\n",
    "\n",
    "    # parse dialogue\n",
    "    dialogue = parse_dialogue_multiline(file_path)\n",
    "    steps = [turn['Text'] for turn in dialogue if turn['Text'].strip()]\n",
    "    speakers = [turn['Speaker'] for turn in dialogue if turn['Text'].strip()]\n",
    "\n",
    "    # anchors\n",
    "    awareness_anchor = ollama.embeddings(model=\"nomic-embed-text\", prompt=\"awareness\")[\"embedding\"]\n",
    "    integration_anchor = ollama.embeddings(model=\"nomic-embed-text\", prompt=\"integration\")[\"embedding\"]\n",
    "\n",
    "    # embeddings + awareness/integration\n",
    "    embeddings, awareness_scores, integration_scores = awareness_integration_series(\n",
    "        steps, awareness_anchor, integration_anchor\n",
    "    )\n",
    "\n",
    "    # --- dimensionality reduction ---\n",
    "    tsne = TSNE(n_components=2, random_state=42, perplexity=5)\n",
    "    emb_2d = tsne.fit_transform(embeddings)\n",
    "\n",
    "    # --- prepare hover texts ---\n",
    "    hover_texts = prepare_hover_text(speakers, steps)\n",
    "\n",
    "    # --- interactive plot ---\n",
    "    fig = px.scatter(\n",
    "        x=emb_2d[:,0],\n",
    "        y=emb_2d[:,1],\n",
    "        color=awareness_scores,\n",
    "        size=integration_scores,\n",
    "        hover_name=speakers,\n",
    "        hover_data={\"Text\": hover_texts, \"Awareness\": awareness_scores, \"Integration\": integration_scores},\n",
    "        title=\"Epistemoverse Dialogue Clusters (t-SNE)\",\n",
    "        color_continuous_scale=\"Viridis\"\n",
    "    )\n",
    "\n",
    "    fig.update_layout(width=900, height=600)\n",
    "    fig.show()\n"
   ]
  },
  {
   "cell_type": "code",
   "execution_count": null,
   "id": "bce63b36",
   "metadata": {},
   "outputs": [],
   "source": []
  }
 ],
 "metadata": {
  "kernelspec": {
   "display_name": "Python 3",
   "language": "python",
   "name": "python3"
  },
  "language_info": {
   "codemirror_mode": {
    "name": "ipython",
    "version": 3
   },
   "file_extension": ".py",
   "mimetype": "text/x-python",
   "name": "python",
   "nbconvert_exporter": "python",
   "pygments_lexer": "ipython3",
   "version": "3.10.11"
  }
 },
 "nbformat": 4,
 "nbformat_minor": 5
}
