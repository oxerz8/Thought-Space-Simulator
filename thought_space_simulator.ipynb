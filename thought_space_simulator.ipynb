{
 "cells": [
  {
   "cell_type": "code",
   "execution_count": 1,
   "id": "70b4a4cf",
   "metadata": {},
   "outputs": [],
   "source": [
    "import random\n",
    "import networkx as nx\n",
    "import plotly.graph_objects as go\n",
    "from IPython.display import display, clear_output\n",
    "import time\n",
    "import re\n",
    "import json\n",
    "import hashlib\n",
    "import os\n",
    "from ollama import chat\n",
    "import ipywidgets as widgets\n",
    "from ipywidgets import VBox, Button\n"
   ]
  },
  {
   "cell_type": "code",
   "execution_count": null,
   "id": "89eba617",
   "metadata": {},
   "outputs": [],
   "source": [
    "\n",
    "# --------------------------\n",
    "# Thought Node and Edge Classes\n",
    "# --------------------------\n",
    "class ThoughtNode:\n",
    "    def __init__(self, phrase, awareness, contradiction, recursion, intensity, concept=\"unknown\", state='superposed'):\n",
    "        self.phrase = phrase\n",
    "        self.awareness = awareness\n",
    "        self.contradiction = contradiction\n",
    "        self.recursion = recursion\n",
    "        self.intensity = intensity\n",
    "        self.concept = concept\n",
    "        self.state = state\n",
    "        self.links = []\n",
    "        self.position = (0, 0, 0)  # ← new field to store coordinates\n",
    "\n",
    "class ThoughtEdge:\n",
    "    def __init__(self, source, target, weight=1.0, type='logical'):\n",
    "        self.source = source\n",
    "        self.target = target\n",
    "        self.weight = weight\n",
    "        self.type = type # not used yet\n"
   ]
  },
  {
   "cell_type": "code",
   "execution_count": 3,
   "id": "daf6e8ec",
   "metadata": {},
   "outputs": [],
   "source": [
    "\n",
    "# --------------------------\n",
    "# Cache Setup for Reproducibility\n",
    "# --------------------------\n",
    "CACHE_FILE = \"thought_cache.json\"\n",
    "if os.path.exists(CACHE_FILE):\n",
    "    with open(CACHE_FILE, \"r\") as f:\n",
    "        THOUGHT_CACHE = json.load(f)\n",
    "else:\n",
    "    THOUGHT_CACHE = {}\n",
    "\n",
    "def save_cache():\n",
    "    with open(CACHE_FILE, \"w\") as f:\n",
    "        json.dump(THOUGHT_CACHE, f, indent=2)\n",
    "\n",
    "def clear_cache():\n",
    "    global THOUGHT_CACHE\n",
    "    THOUGHT_CACHE = {}\n",
    "    save_cache()\n",
    "    print(\"Cache cleared.\")\n",
    "\n",
    "def hash_thought(phrase: str) -> str:\n",
    "    normalized = phrase.strip().lower()\n",
    "    return hashlib.md5(normalized.encode('utf-8')).hexdigest()\n"
   ]
  },
  {
   "cell_type": "code",
   "execution_count": 4,
   "id": "1544ec8b",
   "metadata": {},
   "outputs": [],
   "source": [
    "\n",
    "# --------------------------\n",
    "# Auto-Rating with Ollama (Deterministic + Caching)\n",
    "# --------------------------\n",
    "def rate_thought_nlp(phrase):\n",
    "    phrase = phrase.strip().lower()\n",
    "    key = hash_thought(phrase)\n",
    "    if key in THOUGHT_CACHE:\n",
    "        return tuple(THOUGHT_CACHE[key])\n",
    "\n",
    "    prompt = (\n",
    "        f\"Evaluate the following thought by analyzing its cognitive structure. \"\n",
    "        f\"Consider how aware or insightful it is (awareness), how much internal conflict or contradiction it contains, \"\n",
    "        f\"whether it reflects on itself or involves nested reasoning (recursion), and how intense or emotionally charged it feels (intensity). \"\n",
    "        f\"Then assign a one-word concept that best captures its essence.\\n\\n\"\n",
    "        f\"Thought: \\\"{phrase}\\\"\\n\\n\"\n",
    "        f\"Respond ONLY with a JSON like this:\\n\"\n",
    "        f\"{{\\n\"\n",
    "        f\"  \\\"awareness\\\": <0-1>,\\n\"\n",
    "        f\"  \\\"contradiction\\\": <0-1>,\\n\"\n",
    "        f\"  \\\"recursion\\\": <0-5>,\\n\"\n",
    "        f\"  \\\"intensity\\\": <0-1>,\\n\"\n",
    "        f\"  \\\"concept\\\": \\\"<one-word>\\\"\\n\"\n",
    "        f\"}}\"\n",
    "    )\n",
    "\n",
    "    try:\n",
    "        response = chat(\n",
    "            model='llama3.2',\n",
    "            messages=[\n",
    "                {'role': 'system', 'content': 'Respond only with a valid JSON dictionary. No explanations.'},\n",
    "                {'role': 'user', 'content': prompt}\n",
    "            ],\n",
    "            options={\"temperature\": 0}\n",
    "        )\n",
    "\n",
    "        response_text = response['message']['content']\n",
    "        print(\"Raw response:\", response_text)  # debug print\n",
    "        output = json.loads(response_text.strip())\n",
    "        result = (\n",
    "            float(output[\"awareness\"]),\n",
    "            float(output[\"contradiction\"]),\n",
    "            int(output[\"recursion\"]),\n",
    "            float(output[\"intensity\"]),\n",
    "            output[\"concept\"]\n",
    "        )\n",
    "        THOUGHT_CACHE[key] = result\n",
    "        save_cache()\n",
    "        return result\n",
    "    except Exception as e:\n",
    "        print(\"Error using Ollama chat API:\", e)\n",
    "        return (0.5, 0.5, 1, 0.5, \"unknown\")\n"
   ]
  },
  {
   "cell_type": "code",
   "execution_count": 5,
   "id": "87d4e58e",
   "metadata": {},
   "outputs": [],
   "source": [
    "# --------------------------\n",
    "# Thought Space Initialization (temporary random weights)\n",
    "# --------------------------\n",
    "def create_thought_space_from_phrases(phrases):\n",
    "    thoughts = []\n",
    "\n",
    "    # Create nodes\n",
    "    for phrase in phrases:\n",
    "        phrase = phrase.strip().lower()\n",
    "        awareness, contradiction, recursion, intensity, concept = rate_thought_nlp(phrase)\n",
    "        t = ThoughtNode(\n",
    "            phrase=phrase,\n",
    "            awareness=awareness,\n",
    "            contradiction=contradiction,\n",
    "            recursion=recursion,\n",
    "            intensity=intensity,\n",
    "            concept=concept\n",
    "        )\n",
    "        thoughts.append(t)\n",
    "\n",
    "    # Create edges\n",
    "    edges = []\n",
    "    for i in range(len(thoughts)):\n",
    "        for j in range(i+1, len(thoughts)):\n",
    "            prompt = (\n",
    "                f\"Should the following two thoughts be connected logically?\\n\\n\"\n",
    "                f\"Thought 1: \\\"{thoughts[i].phrase}\\\"\\n\"\n",
    "                f\"Thought 2: \\\"{thoughts[j].phrase}\\\"\\n\\n\"\n",
    "                f\"Respond ONLY with 'yes' or 'no'.\"\n",
    "            )\n",
    "            try:\n",
    "                stream = chat(\n",
    "                    model='llama3.2',\n",
    "                    messages=[\n",
    "                        {'role': 'system', 'content': 'Respond only with yes or no. No explanation.'},\n",
    "                        {'role': 'user', 'content': prompt}\n",
    "                    ],\n",
    "                    stream=True,\n",
    "                    options={\"temperature\": 0}\n",
    "                )\n",
    "                response_text = \"\"\n",
    "                for chunk in stream:\n",
    "                    response_text += chunk['message']['content']\n",
    "                \n",
    "                if 'yes' in response_text.lower():\n",
    "                    # Random weight for now\n",
    "                    edge = ThoughtEdge(thoughts[i], thoughts[j], weight=random.random())\n",
    "                    thoughts[i].links.append(thoughts[j])\n",
    "                    thoughts[j].links.append(thoughts[i])\n",
    "                    edges.append(edge)\n",
    "            except Exception as e:\n",
    "                print(f\"Error evaluating edge between \\\"{thoughts[i].phrase}\\\" and \\\"{thoughts[j].phrase}\\\":\", e)\n",
    "\n",
    "    return thoughts, edges\n"
   ]
  },
  {
   "cell_type": "markdown",
   "id": "46563ea9",
   "metadata": {},
   "source": [
    "Formula explained:\n",
    "\n",
    "Each thought can influence connected thoughts in the network.\n",
    "\n",
    "The amount of influence is a small fraction (5%) of the source thought’s intensity.\n",
    "\n",
    "This models ideas propagating through a thought network: strong thoughts make related thoughts more “active” or noticeable.\n",
    "\n",
    "Using min(neighbor.intensity, 1.0) keeps intensity in a valid range (0 to 1)."
   ]
  },
  {
   "cell_type": "code",
   "execution_count": 9,
   "id": "176aae25",
   "metadata": {},
   "outputs": [],
   "source": [
    "\n",
    "# --------------------------\n",
    "# Update Logic\n",
    "# --------------------------\n",
    "\n",
    "def update_thoughts(thoughts):\n",
    "    for t in thoughts:\n",
    "        # Collapse superposed thoughts based on awareness\n",
    "        if t.state == 'superposed' and t.awareness > 0.7:\n",
    "            t.state = 'collapsed'\n",
    "\n",
    "        # Spread intensity to neighbors (simplified)\n",
    "        for neighbor in t.links:\n",
    "            delta = t.intensity * 0.05  # purely based on source intensity\n",
    "            neighbor.intensity += delta\n",
    "            neighbor.intensity = min(neighbor.intensity, 1.0)"
   ]
  },
  {
   "cell_type": "code",
   "execution_count": 13,
   "id": "c59b0cd8",
   "metadata": {},
   "outputs": [],
   "source": [
    "# --------------------------\n",
    "# 3D Visualization\n",
    "# --------------------------\n",
    "def visualize_3d(thoughts, edges):\n",
    "    G = nx.Graph()\n",
    "    for idx, t in enumerate(thoughts):\n",
    "        G.add_node(idx)\n",
    "    for e in edges:\n",
    "        G.add_edge(thoughts.index(e.source), thoughts.index(e.target))\n",
    "\n",
    "    # Assign coordinates based on thought parameters\n",
    "    for t in thoughts:\n",
    "        x = t.awareness\n",
    "        y = t.intensity\n",
    "        z = t.recursion\n",
    "        t.position = (x, y, z)\n",
    "\n",
    "    # Extract coordinates for plotting\n",
    "    node_x = [t.position[0] for t in thoughts]\n",
    "    node_y = [t.position[1] for t in thoughts]\n",
    "    node_z = [t.position[2] for t in thoughts]\n",
    "\n",
    "    concept_colors = {}\n",
    "    available_colors = ['red', 'blue', 'green', 'orange', 'purple', 'cyan', 'magenta', 'yellow', 'brown']\n",
    "\n",
    "    def get_concept_color(concept):\n",
    "        if concept not in concept_colors:\n",
    "            concept_colors[concept] = available_colors[len(concept_colors) % len(available_colors)]\n",
    "        return concept_colors[concept]\n",
    "\n",
    "    node_color = [get_concept_color(t.concept) for t in thoughts]\n",
    "\n",
    "    edge_x = []\n",
    "    edge_y = []\n",
    "    edge_z = []\n",
    "    for edge in G.edges:\n",
    "        i, j = edge\n",
    "        x0, y0, z0 = thoughts[i].position\n",
    "        x1, y1, z1 = thoughts[j].position\n",
    "        edge_x += [x0, x1, None]\n",
    "        edge_y += [y0, y1, None]\n",
    "        edge_z += [z0, z1, None]\n",
    "\n",
    "    edge_trace = go.Scatter3d(\n",
    "        x=edge_x, y=edge_y, z=edge_z,\n",
    "        line=dict(width=1, color='gray'),\n",
    "        hoverinfo='none',\n",
    "        mode='lines'\n",
    "    )\n",
    "\n",
    "    node_trace = go.Scatter3d(\n",
    "        x=node_x, y=node_y, z=node_z,\n",
    "        mode='markers',\n",
    "        marker=dict(\n",
    "            size=8,\n",
    "            color=node_color,\n",
    "            opacity=0.8\n",
    "        ),\n",
    "        text=[f\"Phrase: {t.phrase}<br>Awareness: {t.awareness:.2f}<br>Contradiction: {t.contradiction:.2f}<br>Recursion: {t.recursion}<br>Intensity: {t.intensity:.2f}\" for t in thoughts],\n",
    "        hoverinfo='text'\n",
    "    )\n",
    "\n",
    "    fig = go.Figure(data=[edge_trace, node_trace])\n",
    "    fig.update_layout(margin=dict(l=0, r=0, b=0, t=0))\n",
    "    clear_output(wait=True)\n",
    "    display(fig)\n",
    "\n",
    "    print(\"\\n--- Thought Positions ---\")\n",
    "    for t in thoughts:\n",
    "        print(f\"{t.phrase} → {t.position}\")\n"
   ]
  },
  {
   "cell_type": "code",
   "execution_count": 14,
   "id": "f5a08455",
   "metadata": {},
   "outputs": [
    {
     "data": {
      "application/vnd.plotly.v1+json": {
       "config": {
        "plotlyServerURL": "https://plot.ly"
       },
       "data": [
        {
         "hoverinfo": "none",
         "line": {
          "color": "gray",
          "width": 1
         },
         "mode": "lines",
         "type": "scatter3d",
         "x": [
          0.8,
          0.8,
          null,
          0.8,
          0.8,
          null,
          0.8,
          0.5,
          null,
          0.8,
          0.8,
          null,
          0.8,
          0.8,
          null,
          0.8,
          0.8,
          null,
          0.8,
          0.5,
          null,
          0.8,
          0.8,
          null,
          0.8,
          0.8,
          null,
          0.8,
          0.8,
          null,
          0.8,
          0.5,
          null,
          0.8,
          0.8,
          null,
          0.8,
          0.8,
          null,
          0.8,
          0.8,
          null,
          0.5,
          0.8,
          null,
          0.8,
          0.8,
          null,
          0.8,
          0.8,
          null,
          0.8,
          0.8,
          null
         ],
         "y": [
          0.7461848124999999,
          0.968893834375,
          null,
          0.8590617718749999,
          0.9433286468750001,
          null,
          0.8590617718749999,
          0.6647723125,
          null,
          0.8590617718749999,
          0.968893834375,
          null,
          0.8590617718749999,
          0.9039516875,
          null,
          0.9433286468750001,
          1,
          null,
          0.9433286468750001,
          0.6647723125,
          null,
          0.9433286468750001,
          0.8749698968749998,
          null,
          0.9433286468750001,
          0.968893834375,
          null,
          0.9433286468750001,
          0.9039516875,
          null,
          1,
          0.6647723125,
          null,
          1,
          0.8749698968749998,
          null,
          1,
          0.968893834375,
          null,
          1,
          0.9039516875,
          null,
          0.6647723125,
          0.968893834375,
          null,
          0.8749698968749998,
          0.968893834375,
          null,
          0.8749698968749998,
          0.9039516875,
          null,
          0.968893834375,
          0.9039516875,
          null
         ],
         "z": [
          4,
          4,
          null,
          4,
          4,
          null,
          4,
          1,
          null,
          4,
          4,
          null,
          4,
          4,
          null,
          4,
          4,
          null,
          4,
          1,
          null,
          4,
          4,
          null,
          4,
          4,
          null,
          4,
          4,
          null,
          4,
          1,
          null,
          4,
          4,
          null,
          4,
          4,
          null,
          4,
          4,
          null,
          1,
          4,
          null,
          4,
          4,
          null,
          4,
          4,
          null,
          4,
          4,
          null
         ]
        },
        {
         "hoverinfo": "text",
         "marker": {
          "color": [
           "red",
           "red",
           "red",
           "blue",
           "green",
           "red",
           "orange",
           "red"
          ],
          "opacity": 0.8,
          "size": 8
         },
         "mode": "markers",
         "text": [
          "Phrase: i think, therefore i am.<br>Awareness: 0.80<br>Contradiction: 0.90<br>Recursion: 4<br>Intensity: 0.75",
          "Phrase: can a machine become conscious of its own thoughts?<br>Awareness: 0.80<br>Contradiction: 0.90<br>Recursion: 4<br>Intensity: 0.86",
          "Phrase: the universe is an illusion experienced by consciousness.<br>Awareness: 0.80<br>Contradiction: 0.90<br>Recursion: 4<br>Intensity: 0.94",
          "Phrase: to know that you know nothing is the beginning of wisdom.<br>Awareness: 0.80<br>Contradiction: 0.20<br>Recursion: 4<br>Intensity: 1.00",
          "Phrase: does free will exist, or is everything predetermined?<br>Awareness: 0.50<br>Contradiction: 0.50<br>Recursion: 1<br>Intensity: 0.66",
          "Phrase: a lie that is believed becomes truth in practice.<br>Awareness: 0.80<br>Contradiction: 0.90<br>Recursion: 4<br>Intensity: 0.87",
          "Phrase: if everything is connected, can anything be truly independent?<br>Awareness: 0.80<br>Contradiction: 0.90<br>Recursion: 4<br>Intensity: 0.97",
          "Phrase: what observes the observer?<br>Awareness: 0.80<br>Contradiction: 0.90<br>Recursion: 4<br>Intensity: 0.90"
         ],
         "type": "scatter3d",
         "x": [
          0.8,
          0.8,
          0.8,
          0.8,
          0.5,
          0.8,
          0.8,
          0.8
         ],
         "y": [
          0.7461848124999999,
          0.8590617718749999,
          0.9433286468750001,
          1,
          0.6647723125,
          0.8749698968749998,
          0.968893834375,
          0.9039516875
         ],
         "z": [
          4,
          4,
          4,
          4,
          1,
          4,
          4,
          4
         ]
        }
       ],
       "layout": {
        "margin": {
         "b": 0,
         "l": 0,
         "r": 0,
         "t": 0
        },
        "template": {
         "data": {
          "bar": [
           {
            "error_x": {
             "color": "#2a3f5f"
            },
            "error_y": {
             "color": "#2a3f5f"
            },
            "marker": {
             "line": {
              "color": "#E5ECF6",
              "width": 0.5
             },
             "pattern": {
              "fillmode": "overlay",
              "size": 10,
              "solidity": 0.2
             }
            },
            "type": "bar"
           }
          ],
          "barpolar": [
           {
            "marker": {
             "line": {
              "color": "#E5ECF6",
              "width": 0.5
             },
             "pattern": {
              "fillmode": "overlay",
              "size": 10,
              "solidity": 0.2
             }
            },
            "type": "barpolar"
           }
          ],
          "carpet": [
           {
            "aaxis": {
             "endlinecolor": "#2a3f5f",
             "gridcolor": "white",
             "linecolor": "white",
             "minorgridcolor": "white",
             "startlinecolor": "#2a3f5f"
            },
            "baxis": {
             "endlinecolor": "#2a3f5f",
             "gridcolor": "white",
             "linecolor": "white",
             "minorgridcolor": "white",
             "startlinecolor": "#2a3f5f"
            },
            "type": "carpet"
           }
          ],
          "choropleth": [
           {
            "colorbar": {
             "outlinewidth": 0,
             "ticks": ""
            },
            "type": "choropleth"
           }
          ],
          "contour": [
           {
            "colorbar": {
             "outlinewidth": 0,
             "ticks": ""
            },
            "colorscale": [
             [
              0,
              "#0d0887"
             ],
             [
              0.1111111111111111,
              "#46039f"
             ],
             [
              0.2222222222222222,
              "#7201a8"
             ],
             [
              0.3333333333333333,
              "#9c179e"
             ],
             [
              0.4444444444444444,
              "#bd3786"
             ],
             [
              0.5555555555555556,
              "#d8576b"
             ],
             [
              0.6666666666666666,
              "#ed7953"
             ],
             [
              0.7777777777777778,
              "#fb9f3a"
             ],
             [
              0.8888888888888888,
              "#fdca26"
             ],
             [
              1,
              "#f0f921"
             ]
            ],
            "type": "contour"
           }
          ],
          "contourcarpet": [
           {
            "colorbar": {
             "outlinewidth": 0,
             "ticks": ""
            },
            "type": "contourcarpet"
           }
          ],
          "heatmap": [
           {
            "colorbar": {
             "outlinewidth": 0,
             "ticks": ""
            },
            "colorscale": [
             [
              0,
              "#0d0887"
             ],
             [
              0.1111111111111111,
              "#46039f"
             ],
             [
              0.2222222222222222,
              "#7201a8"
             ],
             [
              0.3333333333333333,
              "#9c179e"
             ],
             [
              0.4444444444444444,
              "#bd3786"
             ],
             [
              0.5555555555555556,
              "#d8576b"
             ],
             [
              0.6666666666666666,
              "#ed7953"
             ],
             [
              0.7777777777777778,
              "#fb9f3a"
             ],
             [
              0.8888888888888888,
              "#fdca26"
             ],
             [
              1,
              "#f0f921"
             ]
            ],
            "type": "heatmap"
           }
          ],
          "histogram": [
           {
            "marker": {
             "pattern": {
              "fillmode": "overlay",
              "size": 10,
              "solidity": 0.2
             }
            },
            "type": "histogram"
           }
          ],
          "histogram2d": [
           {
            "colorbar": {
             "outlinewidth": 0,
             "ticks": ""
            },
            "colorscale": [
             [
              0,
              "#0d0887"
             ],
             [
              0.1111111111111111,
              "#46039f"
             ],
             [
              0.2222222222222222,
              "#7201a8"
             ],
             [
              0.3333333333333333,
              "#9c179e"
             ],
             [
              0.4444444444444444,
              "#bd3786"
             ],
             [
              0.5555555555555556,
              "#d8576b"
             ],
             [
              0.6666666666666666,
              "#ed7953"
             ],
             [
              0.7777777777777778,
              "#fb9f3a"
             ],
             [
              0.8888888888888888,
              "#fdca26"
             ],
             [
              1,
              "#f0f921"
             ]
            ],
            "type": "histogram2d"
           }
          ],
          "histogram2dcontour": [
           {
            "colorbar": {
             "outlinewidth": 0,
             "ticks": ""
            },
            "colorscale": [
             [
              0,
              "#0d0887"
             ],
             [
              0.1111111111111111,
              "#46039f"
             ],
             [
              0.2222222222222222,
              "#7201a8"
             ],
             [
              0.3333333333333333,
              "#9c179e"
             ],
             [
              0.4444444444444444,
              "#bd3786"
             ],
             [
              0.5555555555555556,
              "#d8576b"
             ],
             [
              0.6666666666666666,
              "#ed7953"
             ],
             [
              0.7777777777777778,
              "#fb9f3a"
             ],
             [
              0.8888888888888888,
              "#fdca26"
             ],
             [
              1,
              "#f0f921"
             ]
            ],
            "type": "histogram2dcontour"
           }
          ],
          "mesh3d": [
           {
            "colorbar": {
             "outlinewidth": 0,
             "ticks": ""
            },
            "type": "mesh3d"
           }
          ],
          "parcoords": [
           {
            "line": {
             "colorbar": {
              "outlinewidth": 0,
              "ticks": ""
             }
            },
            "type": "parcoords"
           }
          ],
          "pie": [
           {
            "automargin": true,
            "type": "pie"
           }
          ],
          "scatter": [
           {
            "fillpattern": {
             "fillmode": "overlay",
             "size": 10,
             "solidity": 0.2
            },
            "type": "scatter"
           }
          ],
          "scatter3d": [
           {
            "line": {
             "colorbar": {
              "outlinewidth": 0,
              "ticks": ""
             }
            },
            "marker": {
             "colorbar": {
              "outlinewidth": 0,
              "ticks": ""
             }
            },
            "type": "scatter3d"
           }
          ],
          "scattercarpet": [
           {
            "marker": {
             "colorbar": {
              "outlinewidth": 0,
              "ticks": ""
             }
            },
            "type": "scattercarpet"
           }
          ],
          "scattergeo": [
           {
            "marker": {
             "colorbar": {
              "outlinewidth": 0,
              "ticks": ""
             }
            },
            "type": "scattergeo"
           }
          ],
          "scattergl": [
           {
            "marker": {
             "colorbar": {
              "outlinewidth": 0,
              "ticks": ""
             }
            },
            "type": "scattergl"
           }
          ],
          "scattermap": [
           {
            "marker": {
             "colorbar": {
              "outlinewidth": 0,
              "ticks": ""
             }
            },
            "type": "scattermap"
           }
          ],
          "scattermapbox": [
           {
            "marker": {
             "colorbar": {
              "outlinewidth": 0,
              "ticks": ""
             }
            },
            "type": "scattermapbox"
           }
          ],
          "scatterpolar": [
           {
            "marker": {
             "colorbar": {
              "outlinewidth": 0,
              "ticks": ""
             }
            },
            "type": "scatterpolar"
           }
          ],
          "scatterpolargl": [
           {
            "marker": {
             "colorbar": {
              "outlinewidth": 0,
              "ticks": ""
             }
            },
            "type": "scatterpolargl"
           }
          ],
          "scatterternary": [
           {
            "marker": {
             "colorbar": {
              "outlinewidth": 0,
              "ticks": ""
             }
            },
            "type": "scatterternary"
           }
          ],
          "surface": [
           {
            "colorbar": {
             "outlinewidth": 0,
             "ticks": ""
            },
            "colorscale": [
             [
              0,
              "#0d0887"
             ],
             [
              0.1111111111111111,
              "#46039f"
             ],
             [
              0.2222222222222222,
              "#7201a8"
             ],
             [
              0.3333333333333333,
              "#9c179e"
             ],
             [
              0.4444444444444444,
              "#bd3786"
             ],
             [
              0.5555555555555556,
              "#d8576b"
             ],
             [
              0.6666666666666666,
              "#ed7953"
             ],
             [
              0.7777777777777778,
              "#fb9f3a"
             ],
             [
              0.8888888888888888,
              "#fdca26"
             ],
             [
              1,
              "#f0f921"
             ]
            ],
            "type": "surface"
           }
          ],
          "table": [
           {
            "cells": {
             "fill": {
              "color": "#EBF0F8"
             },
             "line": {
              "color": "white"
             }
            },
            "header": {
             "fill": {
              "color": "#C8D4E3"
             },
             "line": {
              "color": "white"
             }
            },
            "type": "table"
           }
          ]
         },
         "layout": {
          "annotationdefaults": {
           "arrowcolor": "#2a3f5f",
           "arrowhead": 0,
           "arrowwidth": 1
          },
          "autotypenumbers": "strict",
          "coloraxis": {
           "colorbar": {
            "outlinewidth": 0,
            "ticks": ""
           }
          },
          "colorscale": {
           "diverging": [
            [
             0,
             "#8e0152"
            ],
            [
             0.1,
             "#c51b7d"
            ],
            [
             0.2,
             "#de77ae"
            ],
            [
             0.3,
             "#f1b6da"
            ],
            [
             0.4,
             "#fde0ef"
            ],
            [
             0.5,
             "#f7f7f7"
            ],
            [
             0.6,
             "#e6f5d0"
            ],
            [
             0.7,
             "#b8e186"
            ],
            [
             0.8,
             "#7fbc41"
            ],
            [
             0.9,
             "#4d9221"
            ],
            [
             1,
             "#276419"
            ]
           ],
           "sequential": [
            [
             0,
             "#0d0887"
            ],
            [
             0.1111111111111111,
             "#46039f"
            ],
            [
             0.2222222222222222,
             "#7201a8"
            ],
            [
             0.3333333333333333,
             "#9c179e"
            ],
            [
             0.4444444444444444,
             "#bd3786"
            ],
            [
             0.5555555555555556,
             "#d8576b"
            ],
            [
             0.6666666666666666,
             "#ed7953"
            ],
            [
             0.7777777777777778,
             "#fb9f3a"
            ],
            [
             0.8888888888888888,
             "#fdca26"
            ],
            [
             1,
             "#f0f921"
            ]
           ],
           "sequentialminus": [
            [
             0,
             "#0d0887"
            ],
            [
             0.1111111111111111,
             "#46039f"
            ],
            [
             0.2222222222222222,
             "#7201a8"
            ],
            [
             0.3333333333333333,
             "#9c179e"
            ],
            [
             0.4444444444444444,
             "#bd3786"
            ],
            [
             0.5555555555555556,
             "#d8576b"
            ],
            [
             0.6666666666666666,
             "#ed7953"
            ],
            [
             0.7777777777777778,
             "#fb9f3a"
            ],
            [
             0.8888888888888888,
             "#fdca26"
            ],
            [
             1,
             "#f0f921"
            ]
           ]
          },
          "colorway": [
           "#636efa",
           "#EF553B",
           "#00cc96",
           "#ab63fa",
           "#FFA15A",
           "#19d3f3",
           "#FF6692",
           "#B6E880",
           "#FF97FF",
           "#FECB52"
          ],
          "font": {
           "color": "#2a3f5f"
          },
          "geo": {
           "bgcolor": "white",
           "lakecolor": "white",
           "landcolor": "#E5ECF6",
           "showlakes": true,
           "showland": true,
           "subunitcolor": "white"
          },
          "hoverlabel": {
           "align": "left"
          },
          "hovermode": "closest",
          "mapbox": {
           "style": "light"
          },
          "paper_bgcolor": "white",
          "plot_bgcolor": "#E5ECF6",
          "polar": {
           "angularaxis": {
            "gridcolor": "white",
            "linecolor": "white",
            "ticks": ""
           },
           "bgcolor": "#E5ECF6",
           "radialaxis": {
            "gridcolor": "white",
            "linecolor": "white",
            "ticks": ""
           }
          },
          "scene": {
           "xaxis": {
            "backgroundcolor": "#E5ECF6",
            "gridcolor": "white",
            "gridwidth": 2,
            "linecolor": "white",
            "showbackground": true,
            "ticks": "",
            "zerolinecolor": "white"
           },
           "yaxis": {
            "backgroundcolor": "#E5ECF6",
            "gridcolor": "white",
            "gridwidth": 2,
            "linecolor": "white",
            "showbackground": true,
            "ticks": "",
            "zerolinecolor": "white"
           },
           "zaxis": {
            "backgroundcolor": "#E5ECF6",
            "gridcolor": "white",
            "gridwidth": 2,
            "linecolor": "white",
            "showbackground": true,
            "ticks": "",
            "zerolinecolor": "white"
           }
          },
          "shapedefaults": {
           "line": {
            "color": "#2a3f5f"
           }
          },
          "ternary": {
           "aaxis": {
            "gridcolor": "white",
            "linecolor": "white",
            "ticks": ""
           },
           "baxis": {
            "gridcolor": "white",
            "linecolor": "white",
            "ticks": ""
           },
           "bgcolor": "#E5ECF6",
           "caxis": {
            "gridcolor": "white",
            "linecolor": "white",
            "ticks": ""
           }
          },
          "title": {
           "x": 0.05
          },
          "xaxis": {
           "automargin": true,
           "gridcolor": "white",
           "linecolor": "white",
           "ticks": "",
           "title": {
            "standoff": 15
           },
           "zerolinecolor": "white",
           "zerolinewidth": 2
          },
          "yaxis": {
           "automargin": true,
           "gridcolor": "white",
           "linecolor": "white",
           "ticks": "",
           "title": {
            "standoff": 15
           },
           "zerolinecolor": "white",
           "zerolinewidth": 2
          }
         }
        }
       }
      }
     },
     "metadata": {},
     "output_type": "display_data"
    },
    {
     "name": "stdout",
     "output_type": "stream",
     "text": [
      "\n",
      "--- Thought Positions ---\n",
      "i think, therefore i am. → (0.8, 0.7461848124999999, 4)\n",
      "can a machine become conscious of its own thoughts? → (0.8, 0.8590617718749999, 4)\n",
      "the universe is an illusion experienced by consciousness. → (0.8, 0.9433286468750001, 4)\n",
      "to know that you know nothing is the beginning of wisdom. → (0.8, 1.0, 4)\n",
      "does free will exist, or is everything predetermined? → (0.5, 0.6647723125, 1)\n",
      "a lie that is believed becomes truth in practice. → (0.8, 0.8749698968749998, 4)\n",
      "if everything is connected, can anything be truly independent? → (0.8, 0.968893834375, 4)\n",
      "what observes the observer? → (0.8, 0.9039516875, 4)\n"
     ]
    }
   ],
   "source": [
    "\n",
    "# --------------------------\n",
    "# Static Input via Variable\n",
    "# --------------------------\n",
    "phrases = \"\"\"\n",
    "I think, therefore I am.\n",
    "Can a machine become conscious of its own thoughts?\n",
    "The universe is an illusion experienced by consciousness.\n",
    "To know that you know nothing is the beginning of wisdom.\n",
    "Does free will exist, or is everything predetermined?\n",
    "A lie that is believed becomes truth in practice.\n",
    "If everything is connected, can anything be truly independent?\n",
    "What observes the observer?\n",
    "\"\"\"\n",
    "\n",
    "if __name__ == '__main__':\n",
    "    clear_cache_button = Button(description=\"Clear Cache\", button_style='danger')\n",
    "    clear_cache_button.on_click(lambda x: clear_cache())\n",
    "    display(clear_cache_button)\n",
    "\n",
    "    phrase_list = [line.strip() for line in phrases.strip().split('\\n') if line.strip()]\n",
    "    thoughts_global, edges_global = create_thought_space_from_phrases(phrase_list)\n",
    "    update_thoughts(thoughts_global)\n",
    "    visualize_3d(thoughts_global, edges_global)"
   ]
  },
  {
   "cell_type": "code",
   "execution_count": null,
   "id": "d90c5467",
   "metadata": {},
   "outputs": [],
   "source": []
  }
 ],
 "metadata": {
  "kernelspec": {
   "display_name": "Python 3",
   "language": "python",
   "name": "python3"
  },
  "language_info": {
   "codemirror_mode": {
    "name": "ipython",
    "version": 3
   },
   "file_extension": ".py",
   "mimetype": "text/x-python",
   "name": "python",
   "nbconvert_exporter": "python",
   "pygments_lexer": "ipython3",
   "version": "3.10.11"
  }
 },
 "nbformat": 4,
 "nbformat_minor": 5
}
